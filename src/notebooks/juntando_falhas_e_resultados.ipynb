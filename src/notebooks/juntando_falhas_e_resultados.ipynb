{
 "cells": [
  {
   "cell_type": "markdown",
   "id": "3fb05d88-efd2-428d-a7ee-51ea9717363a",
   "metadata": {},
   "source": [
    "#unindo tabelas falhas e resultados"
   ]
  },
  {
   "cell_type": "code",
   "execution_count": 42,
   "id": "c5805213-2c56-4d1f-8fe3-e4d7ee4e8cf7",
   "metadata": {},
   "outputs": [],
   "source": [
    "import pandas as pd"
   ]
  },
  {
   "cell_type": "code",
   "execution_count": 43,
   "id": "78ddaaa1-9bb7-4ac0-9079-9acc1d371dfd",
   "metadata": {},
   "outputs": [],
   "source": [
    "df_falhas = pd.read_parquet('falha_processadas.parquet', engine='pyarrow')"
   ]
  },
  {
   "cell_type": "code",
   "execution_count": 44,
   "id": "aedce30e-11ed-43fa-961d-f73e5be0f171",
   "metadata": {},
   "outputs": [
    {
     "data": {
      "text/plain": [
       "(87407, 35)"
      ]
     },
     "execution_count": 44,
     "metadata": {},
     "output_type": "execute_result"
    }
   ],
   "source": [
    "df_falhas.shape"
   ]
  },
  {
   "cell_type": "code",
   "execution_count": 45,
   "id": "ba85c108-39dc-47a3-b5e9-81f52d02e75b",
   "metadata": {},
   "outputs": [],
   "source": [
    "df_resultados = pd.read_parquet('RESULTADOS_2023_2024_CONCATENADOS.parquet', engine='pyarrow')"
   ]
  },
  {
   "cell_type": "code",
   "execution_count": 46,
   "id": "b515beff-1362-4167-9867-78faaf4cec54",
   "metadata": {},
   "outputs": [
    {
     "data": {
      "text/plain": [
       "(82169, 8)"
      ]
     },
     "execution_count": 46,
     "metadata": {},
     "output_type": "execute_result"
    }
   ],
   "source": [
    "df_resultados.shape"
   ]
  },
  {
   "cell_type": "code",
   "execution_count": 70,
   "id": "ca4274fc-0ba9-44c4-ad76-d2c18a163691",
   "metadata": {},
   "outputs": [],
   "source": [
    "df_merged = pd.merge(df_resultados, df_falhas, on= \"KNR\", how= \"left\")"
   ]
  },
  {
   "cell_type": "code",
   "execution_count": 53,
   "id": "e9fc568a-8a0d-4e34-b42f-1c58892d8c81",
   "metadata": {},
   "outputs": [
    {
     "data": {
      "text/plain": [
       "(107328, 42)"
      ]
     },
     "execution_count": 53,
     "metadata": {},
     "output_type": "execute_result"
    }
   ],
   "source": [
    "df_merged.shape"
   ]
  },
  {
   "cell_type": "code",
   "execution_count": 32,
   "id": "f8b4b4ad-09ec-4638-8c6b-a92409752638",
   "metadata": {},
   "outputs": [],
   "source": [
    "df_merged = df_merged.fillna(0)"
   ]
  },
  {
   "cell_type": "code",
   "execution_count": 34,
   "id": "5a20d857-0e15-4411-bd61-1f58fea32b84",
   "metadata": {},
   "outputs": [],
   "source": [
    "df_merged = df_merged.drop_duplicates()"
   ]
  },
  {
   "cell_type": "code",
   "execution_count": 54,
   "id": "b96e156e-42b9-4fc8-8a7c-1c2acb2eaa95",
   "metadata": {},
   "outputs": [],
   "source": [
    "df_merged.to_parquet(\"DF_FULL_PROCESSADO.parquet\")"
   ]
  }
 ],
 "metadata": {
  "kernelspec": {
   "display_name": "Python 3 (ipykernel)",
   "language": "python",
   "name": "python3"
  },
  "language_info": {
   "codemirror_mode": {
    "name": "ipython",
    "version": 3
   },
   "file_extension": ".py",
   "mimetype": "text/x-python",
   "name": "python",
   "nbconvert_exporter": "python",
   "pygments_lexer": "ipython3",
   "version": "3.10.11"
  }
 },
 "nbformat": 4,
 "nbformat_minor": 5
}
