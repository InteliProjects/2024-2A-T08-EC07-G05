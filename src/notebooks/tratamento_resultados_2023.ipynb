{
 "cells": [
  {
   "cell_type": "markdown",
   "id": "7a60b84c-e0c3-45a3-b4a8-1ce78f76e724",
   "metadata": {},
   "source": [
    "# Tratamento da tabela de resultados de 2023\n",
    "\n",
    "base de dados: https://drive.google.com/file/d/1une3K_beXOU-CpPwr49M0w5XQOig0GZe/view?usp=sharing"
   ]
  },
  {
   "cell_type": "code",
   "execution_count": 1,
   "id": "ff5e4141-5800-47c0-ab65-bbcb97e3ba92",
   "metadata": {},
   "outputs": [],
   "source": [
    "import pandas as pd"
   ]
  },
  {
   "cell_type": "markdown",
   "id": "d16f6137-ee25-46fd-ad3a-2debd142a2e2",
   "metadata": {},
   "source": [
    "importando tabela de resultados de 2023\n",
    "\n",
    "rode apenas uma das célular abaixo que definem o dataframe para tratar o arquivo de sua escolha "
   ]
  },
  {
   "cell_type": "code",
   "execution_count": null,
   "id": "6e915165-cb04-43f6-8227-8c82b6dee1a7",
   "metadata": {},
   "outputs": [],
   "source": [
    "df = pd.read_csv(\"RESULTADOS_02_03_2024_full_teste.csv\", compression=\"gzip\")"
   ]
  },
  {
   "cell_type": "code",
   "execution_count": 21,
   "id": "e1675d52-da9a-414f-a17b-964b4f301f4c",
   "metadata": {},
   "outputs": [],
   "source": [
    "df = pd.read_csv(\"RESULTADOS_06_2023_07_2023_full_teste.csv\", compression=\"gzip\")"
   ]
  },
  {
   "cell_type": "code",
   "execution_count": 32,
   "id": "30e1c100-a1be-4fa5-acde-295b95b3c3b2",
   "metadata": {},
   "outputs": [],
   "source": [
    "df = pd.read_csv(\"RESULTADOS_08_2023_09_2023_full_teste.csv\", compression=\"gzip\")"
   ]
  },
  {
   "cell_type": "code",
   "execution_count": 43,
   "id": "1a98a79c-e39d-495b-b283-1e4eb26b5298",
   "metadata": {},
   "outputs": [],
   "source": [
    "df = pd.read_csv(\"RESULTADOS_10_2023_11_2023_full_teste.csv\", compression=\"gzip\")"
   ]
  },
  {
   "cell_type": "code",
   "execution_count": 44,
   "id": "0df2e2c2-79f2-4c00-863b-ef8436847ff5",
   "metadata": {},
   "outputs": [
    {
     "data": {
      "text/html": [
       "<div>\n",
       "<style scoped>\n",
       "    .dataframe tbody tr th:only-of-type {\n",
       "        vertical-align: middle;\n",
       "    }\n",
       "\n",
       "    .dataframe tbody tr th {\n",
       "        vertical-align: top;\n",
       "    }\n",
       "\n",
       "    .dataframe thead th {\n",
       "        text-align: right;\n",
       "    }\n",
       "</style>\n",
       "<table border=\"1\" class=\"dataframe\">\n",
       "  <thead>\n",
       "    <tr style=\"text-align: right;\">\n",
       "      <th></th>\n",
       "      <th>Unnamed: 0</th>\n",
       "      <th>KNR</th>\n",
       "      <th>NAME</th>\n",
       "      <th>ID</th>\n",
       "      <th>STATUS</th>\n",
       "      <th>UNIT</th>\n",
       "      <th>VALUE_ID</th>\n",
       "      <th>VALUE</th>\n",
       "      <th>DATA</th>\n",
       "    </tr>\n",
       "  </thead>\n",
       "  <tbody>\n",
       "    <tr>\n",
       "      <th>0</th>\n",
       "      <td>0</td>\n",
       "      <td>2023-2316417</td>\n",
       "      <td>012001</td>\n",
       "      <td>1</td>\n",
       "      <td>10</td>\n",
       "      <td>NaN</td>\n",
       "      <td>0.0</td>\n",
       "      <td>NaN</td>\n",
       "      <td>2023-11-07 13:05:08</td>\n",
       "    </tr>\n",
       "    <tr>\n",
       "      <th>1</th>\n",
       "      <td>1</td>\n",
       "      <td>2023-2316417</td>\n",
       "      <td>012002</td>\n",
       "      <td>1</td>\n",
       "      <td>10</td>\n",
       "      <td>NaN</td>\n",
       "      <td>0.0</td>\n",
       "      <td>NaN</td>\n",
       "      <td>2023-11-07 13:23:11</td>\n",
       "    </tr>\n",
       "    <tr>\n",
       "      <th>2</th>\n",
       "      <td>2</td>\n",
       "      <td>2023-2316417</td>\n",
       "      <td>012003</td>\n",
       "      <td>1</td>\n",
       "      <td>10</td>\n",
       "      <td>NaN</td>\n",
       "      <td>0.0</td>\n",
       "      <td>NaN</td>\n",
       "      <td>2023-11-07 13:23:18</td>\n",
       "    </tr>\n",
       "    <tr>\n",
       "      <th>3</th>\n",
       "      <td>3</td>\n",
       "      <td>2023-2316417</td>\n",
       "      <td>012004</td>\n",
       "      <td>1</td>\n",
       "      <td>10</td>\n",
       "      <td>NaN</td>\n",
       "      <td>0.0</td>\n",
       "      <td>NaN</td>\n",
       "      <td>2023-11-07 13:22:00</td>\n",
       "    </tr>\n",
       "    <tr>\n",
       "      <th>4</th>\n",
       "      <td>4</td>\n",
       "      <td>2023-2316417</td>\n",
       "      <td>018001</td>\n",
       "      <td>1</td>\n",
       "      <td>10</td>\n",
       "      <td>NaN</td>\n",
       "      <td>0.0</td>\n",
       "      <td>NaN</td>\n",
       "      <td>2023-11-07 14:06:56</td>\n",
       "    </tr>\n",
       "  </tbody>\n",
       "</table>\n",
       "</div>"
      ],
      "text/plain": [
       "   Unnamed: 0           KNR    NAME  ID  STATUS UNIT  VALUE_ID VALUE  \\\n",
       "0           0  2023-2316417  012001   1      10  NaN       0.0   NaN   \n",
       "1           1  2023-2316417  012002   1      10  NaN       0.0   NaN   \n",
       "2           2  2023-2316417  012003   1      10  NaN       0.0   NaN   \n",
       "3           3  2023-2316417  012004   1      10  NaN       0.0   NaN   \n",
       "4           4  2023-2316417  018001   1      10  NaN       0.0   NaN   \n",
       "\n",
       "                  DATA  \n",
       "0  2023-11-07 13:05:08  \n",
       "1  2023-11-07 13:23:11  \n",
       "2  2023-11-07 13:23:18  \n",
       "3  2023-11-07 13:22:00  \n",
       "4  2023-11-07 14:06:56  "
      ]
     },
     "execution_count": 44,
     "metadata": {},
     "output_type": "execute_result"
    }
   ],
   "source": [
    "df.head()"
   ]
  },
  {
   "cell_type": "markdown",
   "id": "ecfd5343-6d2e-4dbc-a017-c07d044b40c3",
   "metadata": {},
   "source": [
    "Ajustando tabela com colunas apropriadas"
   ]
  },
  {
   "cell_type": "code",
   "execution_count": null,
   "id": "be4b6217-eb3f-4e2a-a863-58c31832200e",
   "metadata": {},
   "outputs": [],
   "source": [
    "df = df.drop(columns=[\"Unnamed: 0\"])"
   ]
  },
  {
   "cell_type": "code",
   "execution_count": 47,
   "id": "04130a91-4d44-48d7-8c9e-5e79de639f86",
   "metadata": {},
   "outputs": [],
   "source": [
    "df = df.drop_duplicates()"
   ]
  },
  {
   "cell_type": "code",
   "execution_count": 48,
   "id": "16b88da4-64d6-4103-98b1-586487722d5c",
   "metadata": {},
   "outputs": [
    {
     "data": {
      "text/plain": [
       "(14633729, 8)"
      ]
     },
     "execution_count": 48,
     "metadata": {},
     "output_type": "execute_result"
    }
   ],
   "source": [
    "df.shape"
   ]
  },
  {
   "cell_type": "markdown",
   "id": "1ea2d01e-2d27-4232-a41f-6361b1015a96",
   "metadata": {},
   "source": [
    "convertendo para datetime para tratar o tempo"
   ]
  },
  {
   "cell_type": "code",
   "execution_count": 49,
   "id": "7b07d6c3-d0bc-4f06-bb58-2093bef7b7c3",
   "metadata": {},
   "outputs": [],
   "source": [
    "df['DATA'] = pd.to_datetime(df['DATA'], errors='coerce')"
   ]
  },
  {
   "cell_type": "markdown",
   "id": "c0b365f1-2710-43f0-9435-bf8708a542ba",
   "metadata": {},
   "source": [
    "Pivotando a tabela para criar colunas de acordo com o id e status"
   ]
  },
  {
   "cell_type": "code",
   "execution_count": 50,
   "id": "6209786b-223c-48b1-b87e-75bdd50cbabe",
   "metadata": {},
   "outputs": [],
   "source": [
    "pivot_df = df.pivot_table(index='KNR', columns=[\"ID\", \"STATUS\"], aggfunc='size', fill_value=0)\n",
    "\n",
    "pivot_df.columns = [f'QTD_STATUS_{col[0]}_OK' if col[1]== 10 else f'QTD_STATUS_{col[0]}_NOK' for col in pivot_df.columns]\n",
    "\n",
    "pivot_df.reset_index(inplace=True)"
   ]
  },
  {
   "cell_type": "markdown",
   "id": "9ff18bd8-fed9-40d3-bf7f-d97e862815ee",
   "metadata": {},
   "source": [
    "Calculando tempo médio"
   ]
  },
  {
   "cell_type": "code",
   "execution_count": 51,
   "id": "7cdaf857-2068-4f31-969e-579b80603a7c",
   "metadata": {},
   "outputs": [],
   "source": [
    "pivot_df[\"TEMPO_MEDIO\"] = (df.groupby('KNR').DATA.transform('max') - df.groupby('KNR').DATA.transform('min')).dt.total_seconds()/60"
   ]
  },
  {
   "cell_type": "markdown",
   "id": "d8f33e30-3199-43fe-bf3e-d4846b04e296",
   "metadata": {},
   "source": [
    "exportando para parquet"
   ]
  },
  {
   "cell_type": "code",
   "execution_count": 52,
   "id": "77727367-aa7e-48fa-a58e-926cf00c454c",
   "metadata": {},
   "outputs": [
    {
     "data": {
      "text/html": [
       "<div>\n",
       "<style scoped>\n",
       "    .dataframe tbody tr th:only-of-type {\n",
       "        vertical-align: middle;\n",
       "    }\n",
       "\n",
       "    .dataframe tbody tr th {\n",
       "        vertical-align: top;\n",
       "    }\n",
       "\n",
       "    .dataframe thead th {\n",
       "        text-align: right;\n",
       "    }\n",
       "</style>\n",
       "<table border=\"1\" class=\"dataframe\">\n",
       "  <thead>\n",
       "    <tr style=\"text-align: right;\">\n",
       "      <th></th>\n",
       "      <th>KNR</th>\n",
       "      <th>QTD_STATUS_1_OK</th>\n",
       "      <th>QTD_STATUS_1_NOK</th>\n",
       "      <th>QTD_STATUS_2_OK</th>\n",
       "      <th>QTD_STATUS_2_NOK</th>\n",
       "      <th>QTD_STATUS_718_OK</th>\n",
       "      <th>QTD_STATUS_718_NOK</th>\n",
       "      <th>TEMPO_MEDIO</th>\n",
       "    </tr>\n",
       "  </thead>\n",
       "  <tbody>\n",
       "    <tr>\n",
       "      <th>0</th>\n",
       "      <td>2023-2316417</td>\n",
       "      <td>10</td>\n",
       "      <td>0</td>\n",
       "      <td>846</td>\n",
       "      <td>15</td>\n",
       "      <td>41</td>\n",
       "      <td>1</td>\n",
       "      <td>18991.283333</td>\n",
       "    </tr>\n",
       "    <tr>\n",
       "      <th>1</th>\n",
       "      <td>2023-2316420</td>\n",
       "      <td>12</td>\n",
       "      <td>0</td>\n",
       "      <td>850</td>\n",
       "      <td>4</td>\n",
       "      <td>41</td>\n",
       "      <td>1</td>\n",
       "      <td>18991.283333</td>\n",
       "    </tr>\n",
       "    <tr>\n",
       "      <th>2</th>\n",
       "      <td>2023-3276018</td>\n",
       "      <td>0</td>\n",
       "      <td>0</td>\n",
       "      <td>8</td>\n",
       "      <td>0</td>\n",
       "      <td>2</td>\n",
       "      <td>0</td>\n",
       "      <td>18991.283333</td>\n",
       "    </tr>\n",
       "    <tr>\n",
       "      <th>3</th>\n",
       "      <td>2023-3276025</td>\n",
       "      <td>0</td>\n",
       "      <td>0</td>\n",
       "      <td>4</td>\n",
       "      <td>0</td>\n",
       "      <td>25</td>\n",
       "      <td>0</td>\n",
       "      <td>18991.283333</td>\n",
       "    </tr>\n",
       "    <tr>\n",
       "      <th>4</th>\n",
       "      <td>2023-3476004</td>\n",
       "      <td>1</td>\n",
       "      <td>0</td>\n",
       "      <td>0</td>\n",
       "      <td>0</td>\n",
       "      <td>2</td>\n",
       "      <td>0</td>\n",
       "      <td>18991.283333</td>\n",
       "    </tr>\n",
       "  </tbody>\n",
       "</table>\n",
       "</div>"
      ],
      "text/plain": [
       "            KNR  QTD_STATUS_1_OK  QTD_STATUS_1_NOK  QTD_STATUS_2_OK  \\\n",
       "0  2023-2316417               10                 0              846   \n",
       "1  2023-2316420               12                 0              850   \n",
       "2  2023-3276018                0                 0                8   \n",
       "3  2023-3276025                0                 0                4   \n",
       "4  2023-3476004                1                 0                0   \n",
       "\n",
       "   QTD_STATUS_2_NOK  QTD_STATUS_718_OK  QTD_STATUS_718_NOK   TEMPO_MEDIO  \n",
       "0                15                 41                   1  18991.283333  \n",
       "1                 4                 41                   1  18991.283333  \n",
       "2                 0                  2                   0  18991.283333  \n",
       "3                 0                 25                   0  18991.283333  \n",
       "4                 0                  2                   0  18991.283333  "
      ]
     },
     "execution_count": 52,
     "metadata": {},
     "output_type": "execute_result"
    }
   ],
   "source": [
    "pivot_df.head()"
   ]
  },
  {
   "cell_type": "code",
   "execution_count": 53,
   "id": "dc21aadc-4dfe-4aa3-8c1b-7191ccdca839",
   "metadata": {},
   "outputs": [],
   "source": [
    "pivot_df.to_parquet(\"RESULTADOS_10_2023_11_2023_TRATADO.parquet\")"
   ]
  },
  {
   "cell_type": "markdown",
   "id": "8664cd06-6a37-4305-bceb-3c5e03b85992",
   "metadata": {},
   "source": [
    "### Unindo tabela resultados\n",
    "com as tabelas tratadas pelas células acima, execute as células abaixo para importar cada uma como parquet e concatenar as linhas"
   ]
  },
  {
   "cell_type": "code",
   "execution_count": 3,
   "id": "22a07bfa-7aa3-42fb-9a1c-b2cf711af85e",
   "metadata": {},
   "outputs": [],
   "source": [
    "import pyarrow"
   ]
  },
  {
   "cell_type": "code",
   "execution_count": 4,
   "id": "bdf76732-040a-4aa5-86be-1f291ce8ce03",
   "metadata": {},
   "outputs": [],
   "source": [
    "df1 = pd.read_parquet('RESULTADOS_02_03_2024_TRATADO.parquet', engine='pyarrow')"
   ]
  },
  {
   "cell_type": "code",
   "execution_count": 6,
   "id": "2779c366-9df2-403c-a31e-ca0b7d0601d8",
   "metadata": {},
   "outputs": [],
   "source": [
    "df2 = pd.read_parquet('RESULTADOS_04_06_2024_TRATADO.parquet', engine='pyarrow')"
   ]
  },
  {
   "cell_type": "code",
   "execution_count": 7,
   "id": "c1427d99-8c83-4844-8965-a0f4746d530a",
   "metadata": {},
   "outputs": [],
   "source": [
    "df3 = pd.read_parquet('RESULTADOS_06_2023_07_2023_TRATADO.parquet', engine='pyarrow')"
   ]
  },
  {
   "cell_type": "code",
   "execution_count": 8,
   "id": "985971aa-95d7-4df3-aa56-b998e5ddf378",
   "metadata": {},
   "outputs": [],
   "source": [
    "df4 = pd.read_parquet('RESULTADOS_08_2023_09_2023_TRATADO.parquet', engine='pyarrow')"
   ]
  },
  {
   "cell_type": "code",
   "execution_count": 9,
   "id": "ad71b9ee-be92-4d8b-af20-8d2b27e078f6",
   "metadata": {},
   "outputs": [],
   "source": [
    "df5 = pd.read_parquet('RESULTADOS_10_2023_11_2023_TRATADO.parquet', engine='pyarrow')"
   ]
  },
  {
   "cell_type": "code",
   "execution_count": 16,
   "id": "445c7cde-b34d-4e3a-849b-b808cd0a5385",
   "metadata": {},
   "outputs": [],
   "source": [
    "df_full = pd.concat([df1, df2, df3, df4, df5], axis=0)"
   ]
  },
  {
   "cell_type": "code",
   "execution_count": 18,
   "id": "2b269618-28ba-4715-935a-d496cd9a6afd",
   "metadata": {},
   "outputs": [],
   "source": [
    "df_full.to_parquet(\"RESULTADOS_2023_2024_CONCATENADOS.parquet\")"
   ]
  }
 ],
 "metadata": {
  "kernelspec": {
   "display_name": "Python 3 (ipykernel)",
   "language": "python",
   "name": "python3"
  },
  "language_info": {
   "codemirror_mode": {
    "name": "ipython",
    "version": 3
   },
   "file_extension": ".py",
   "mimetype": "text/x-python",
   "name": "python",
   "nbconvert_exporter": "python",
   "pygments_lexer": "ipython3",
   "version": "3.10.11"
  }
 },
 "nbformat": 4,
 "nbformat_minor": 5
}
