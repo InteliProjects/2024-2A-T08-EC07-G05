{
 "cells": [
  {
   "cell_type": "markdown",
   "id": "ecf84f3e-1a50-418a-9425-4cb06ee34674",
   "metadata": {},
   "source": [
    "# Por que não utilizaremos a tabela FALHAS_PREDICT\n",
    "Foram enviadas duas novas tabelas (FALHAS_PREDICT e PREDICT), observamos que na tabela PREDICT apresenta uma coluna a mais (S_GROUP_ID) que faz um agrupamento das falhas por números e essa coluna, visando o escopo macro do projeto, faz muito mais sentido do que desperdiçarmos tempo em uma tabela que não vamos usar.\n",
    "\n"
   ]
  },
  {
   "cell_type": "markdown",
   "id": "c0ffd486-35ba-4215-b28f-f68e2242e9c4",
   "metadata": {
    "jp-MarkdownHeadingCollapsed": true
   },
   "source": [
    "# Tratamento da tabela predict"
   ]
  },
  {
   "cell_type": "markdown",
   "id": "3849ac81-390a-4223-9c27-49eea83c793e",
   "metadata": {},
   "source": [
    "## Instalando e importando bibliotecas"
   ]
  },
  {
   "cell_type": "code",
   "execution_count": 1,
   "id": "96d59145-141f-4e76-ba71-2192ca927a41",
   "metadata": {},
   "outputs": [
    {
     "name": "stdout",
     "output_type": "stream",
     "text": [
      "Requirement already satisfied: pandas in c:\\users\\inteli\\documents\\github\\mod_7_prog\\aula_3_arima\\venv\\lib\\site-packages (2.2.2)\n",
      "Requirement already satisfied: pyarrow in c:\\users\\inteli\\documents\\github\\mod_7_prog\\aula_3_arima\\venv\\lib\\site-packages (17.0.0)\n",
      "Requirement already satisfied: numpy in c:\\users\\inteli\\documents\\github\\mod_7_prog\\aula_3_arima\\venv\\lib\\site-packages (2.1.0)\n",
      "Requirement already satisfied: python-dateutil>=2.8.2 in c:\\users\\inteli\\documents\\github\\mod_7_prog\\aula_3_arima\\venv\\lib\\site-packages (from pandas) (2.9.0.post0)\n",
      "Requirement already satisfied: pytz>=2020.1 in c:\\users\\inteli\\documents\\github\\mod_7_prog\\aula_3_arima\\venv\\lib\\site-packages (from pandas) (2024.1)\n",
      "Requirement already satisfied: tzdata>=2022.7 in c:\\users\\inteli\\documents\\github\\mod_7_prog\\aula_3_arima\\venv\\lib\\site-packages (from pandas) (2024.1)\n",
      "Requirement already satisfied: six>=1.5 in c:\\users\\inteli\\documents\\github\\mod_7_prog\\aula_3_arima\\venv\\lib\\site-packages (from python-dateutil>=2.8.2->pandas) (1.16.0)\n"
     ]
    },
    {
     "name": "stderr",
     "output_type": "stream",
     "text": [
      "\n",
      "[notice] A new release of pip available: 22.3.1 -> 24.2\n",
      "[notice] To update, run: python.exe -m pip install --upgrade pip\n"
     ]
    }
   ],
   "source": [
    "!pip install pandas pyarrow numpy"
   ]
  },
  {
   "cell_type": "code",
   "execution_count": 2,
   "id": "6c77ed1e-517a-4e78-820e-7017cdb5a49f",
   "metadata": {},
   "outputs": [
    {
     "name": "stdout",
     "output_type": "stream",
     "text": [
      "Requirement already satisfied: numpy in c:\\users\\inteli\\documents\\github\\mod_7_prog\\aula_3_arima\\venv\\lib\\site-packages (2.1.0)\n"
     ]
    },
    {
     "name": "stderr",
     "output_type": "stream",
     "text": [
      "\n",
      "[notice] A new release of pip available: 22.3.1 -> 24.2\n",
      "[notice] To update, run: python.exe -m pip install --upgrade pip\n"
     ]
    }
   ],
   "source": [
    "!pip install numpy"
   ]
  },
  {
   "cell_type": "code",
   "execution_count": 3,
   "id": "3d134e17-2072-4966-95dd-0c2b4d62eaea",
   "metadata": {},
   "outputs": [
    {
     "name": "stdout",
     "output_type": "stream",
     "text": [
      "Requirement already satisfied: numpy in c:\\users\\inteli\\documents\\github\\mod_7_prog\\aula_3_arima\\venv\\lib\\site-packages (2.1.0)\n"
     ]
    },
    {
     "name": "stderr",
     "output_type": "stream",
     "text": [
      "\n",
      "[notice] A new release of pip available: 22.3.1 -> 24.2\n",
      "[notice] To update, run: python.exe -m pip install --upgrade pip\n"
     ]
    }
   ],
   "source": [
    "!pip install --upgrade numpy"
   ]
  },
  {
   "cell_type": "code",
   "execution_count": 4,
   "id": "df140066-078e-4e8a-ae7a-0fb30b3854a0",
   "metadata": {},
   "outputs": [],
   "source": [
    "import pandas as pd\n",
    "import pyarrow\n",
    "import matplotlib.pyplot as plt\n",
    "import numpy as np\n",
    "import requests\n",
    "import io\n",
    "import re"
   ]
  },
  {
   "cell_type": "markdown",
   "id": "bd072007-b130-4324-b2f8-32a627a25f24",
   "metadata": {
    "jp-MarkdownHeadingCollapsed": true
   },
   "source": [
    "# Importando dataset"
   ]
  },
  {
   "cell_type": "code",
   "execution_count": 7,
   "id": "ddff8fc7-cfca-4221-8e9e-38a509840731",
   "metadata": {},
   "outputs": [],
   "source": [
    "df_falhas_predict = pd.read_csv(\"../../../data/csv/FALHAS_PREDICT.csv\")"
   ]
  },
  {
   "cell_type": "code",
   "execution_count": 8,
   "id": "9baaaf95-ff94-4b81-83de-dac2cb7b5dff",
   "metadata": {},
   "outputs": [
    {
     "data": {
      "text/html": [
       "<div>\n",
       "<style scoped>\n",
       "    .dataframe tbody tr th:only-of-type {\n",
       "        vertical-align: middle;\n",
       "    }\n",
       "\n",
       "    .dataframe tbody tr th {\n",
       "        vertical-align: top;\n",
       "    }\n",
       "\n",
       "    .dataframe thead th {\n",
       "        text-align: right;\n",
       "    }\n",
       "</style>\n",
       "<table border=\"1\" class=\"dataframe\">\n",
       "  <thead>\n",
       "    <tr style=\"text-align: right;\">\n",
       "      <th></th>\n",
       "      <th>Unnamed: 0</th>\n",
       "      <th>Unnamed: 1</th>\n",
       "      <th>Unnamed: 2</th>\n",
       "      <th>Unnamed: 3</th>\n",
       "      <th>Unnamed: 4</th>\n",
       "      <th>Unnamed: 5</th>\n",
       "      <th>Unnamed: 6</th>\n",
       "      <th>Unnamed: 7</th>\n",
       "      <th>Unnamed: 8</th>\n",
       "      <th>Unnamed: 9</th>\n",
       "    </tr>\n",
       "  </thead>\n",
       "  <tbody>\n",
       "    <tr>\n",
       "      <th>0</th>\n",
       "      <td>NaN</td>\n",
       "      <td>82662</td>\n",
       "      <td>NaN</td>\n",
       "      <td>NaN</td>\n",
       "      <td>NaN</td>\n",
       "      <td>NaN</td>\n",
       "      <td>NaN</td>\n",
       "      <td>NaN</td>\n",
       "      <td>NaN</td>\n",
       "      <td>NaN</td>\n",
       "    </tr>\n",
       "    <tr>\n",
       "      <th>1</th>\n",
       "      <td>NaN</td>\n",
       "      <td>KNR</td>\n",
       "      <td>MODELO</td>\n",
       "      <td>COR</td>\n",
       "      <td>MOTOR</td>\n",
       "      <td>ESTACAO</td>\n",
       "      <td>USUARIO</td>\n",
       "      <td>HALLE</td>\n",
       "      <td>FALHA</td>\n",
       "      <td>DATA</td>\n",
       "    </tr>\n",
       "    <tr>\n",
       "      <th>2</th>\n",
       "      <td>NaN</td>\n",
       "      <td>2023-1326197</td>\n",
       "      <td>T-CROSS</td>\n",
       "      <td>0Q0Q</td>\n",
       "      <td>DHS</td>\n",
       "      <td>PCEQS100</td>\n",
       "      <td>2043521</td>\n",
       "      <td>ZP5</td>\n",
       "      <td>Porta dianteira Folga (Ajuste)</td>\n",
       "      <td>9/1/2023 22:01:44</td>\n",
       "    </tr>\n",
       "    <tr>\n",
       "      <th>3</th>\n",
       "      <td>NaN</td>\n",
       "      <td>2023-1326197</td>\n",
       "      <td>T-CROSS</td>\n",
       "      <td>0Q0Q</td>\n",
       "      <td>DHS</td>\n",
       "      <td>PCEQS100</td>\n",
       "      <td>2043521</td>\n",
       "      <td>ZP5</td>\n",
       "      <td>Porta traseira Folga (Ajuste)</td>\n",
       "      <td>9/1/2023 22:01:03</td>\n",
       "    </tr>\n",
       "    <tr>\n",
       "      <th>4</th>\n",
       "      <td>NaN</td>\n",
       "      <td>2023-4130482</td>\n",
       "      <td>AUDI Q3</td>\n",
       "      <td>2Y2Y</td>\n",
       "      <td>DSN</td>\n",
       "      <td>PCEQS999</td>\n",
       "      <td>2054701</td>\n",
       "      <td>ESPC</td>\n",
       "      <td>Lanterna tras (09) Interfere</td>\n",
       "      <td>10/1/2023 09:01:25</td>\n",
       "    </tr>\n",
       "  </tbody>\n",
       "</table>\n",
       "</div>"
      ],
      "text/plain": [
       "   Unnamed: 0    Unnamed: 1 Unnamed: 2 Unnamed: 3 Unnamed: 4 Unnamed: 5  \\\n",
       "0         NaN         82662        NaN        NaN        NaN        NaN   \n",
       "1         NaN           KNR     MODELO        COR      MOTOR    ESTACAO   \n",
       "2         NaN  2023-1326197    T-CROSS       0Q0Q        DHS   PCEQS100   \n",
       "3         NaN  2023-1326197    T-CROSS       0Q0Q        DHS   PCEQS100   \n",
       "4         NaN  2023-4130482    AUDI Q3       2Y2Y        DSN   PCEQS999   \n",
       "\n",
       "  Unnamed: 6 Unnamed: 7                      Unnamed: 8          Unnamed: 9  \n",
       "0        NaN        NaN                             NaN                 NaN  \n",
       "1    USUARIO      HALLE                           FALHA                DATA  \n",
       "2    2043521        ZP5  Porta dianteira Folga (Ajuste)   9/1/2023 22:01:44  \n",
       "3    2043521        ZP5   Porta traseira Folga (Ajuste)   9/1/2023 22:01:03  \n",
       "4    2054701       ESPC    Lanterna tras (09) Interfere  10/1/2023 09:01:25  "
      ]
     },
     "execution_count": 8,
     "metadata": {},
     "output_type": "execute_result"
    }
   ],
   "source": [
    "df_falhas_predict.head()"
   ]
  },
  {
   "cell_type": "code",
   "execution_count": 9,
   "id": "b6fa13d6-23e1-4f1e-b2dd-f2784b4eb417",
   "metadata": {},
   "outputs": [],
   "source": [
    "df_falhas_predict.drop(columns = 'Unnamed: 0', inplace=True)"
   ]
  },
  {
   "cell_type": "code",
   "execution_count": 10,
   "id": "f7a8b65d-4c89-4fdc-b2cd-135874ada3af",
   "metadata": {},
   "outputs": [],
   "source": [
    "df_falhas_predict.columns = df_falhas_predict.iloc[1]\n",
    "df_falhas_predict.drop([0,1], axis = 0, inplace=True)"
   ]
  },
  {
   "cell_type": "code",
   "execution_count": 11,
   "id": "06b1034e-7ce0-49e3-b206-cd763879c3bb",
   "metadata": {},
   "outputs": [
    {
     "name": "stdout",
     "output_type": "stream",
     "text": [
      "Columns: ['KNR', 'MODELO', 'COR', 'MOTOR', 'ESTACAO', 'USUARIO', 'HALLE', 'FALHA', 'DATA']\n"
     ]
    }
   ],
   "source": [
    "columns = df_falhas_predict.columns.tolist()\n",
    "print(\"Columns:\", columns)"
   ]
  },
  {
   "cell_type": "code",
   "execution_count": 12,
   "id": "ce44f0f5-a0eb-4e75-86d4-58fc0abb7531",
   "metadata": {},
   "outputs": [
    {
     "data": {
      "text/html": [
       "<div>\n",
       "<style scoped>\n",
       "    .dataframe tbody tr th:only-of-type {\n",
       "        vertical-align: middle;\n",
       "    }\n",
       "\n",
       "    .dataframe tbody tr th {\n",
       "        vertical-align: top;\n",
       "    }\n",
       "\n",
       "    .dataframe thead th {\n",
       "        text-align: right;\n",
       "    }\n",
       "</style>\n",
       "<table border=\"1\" class=\"dataframe\">\n",
       "  <thead>\n",
       "    <tr style=\"text-align: right;\">\n",
       "      <th>1</th>\n",
       "      <th>KNR</th>\n",
       "      <th>MODELO</th>\n",
       "      <th>COR</th>\n",
       "      <th>MOTOR</th>\n",
       "      <th>ESTACAO</th>\n",
       "      <th>USUARIO</th>\n",
       "      <th>HALLE</th>\n",
       "      <th>FALHA</th>\n",
       "      <th>DATA</th>\n",
       "    </tr>\n",
       "  </thead>\n",
       "  <tbody>\n",
       "    <tr>\n",
       "      <th>2</th>\n",
       "      <td>2023-1326197</td>\n",
       "      <td>T-CROSS</td>\n",
       "      <td>0Q0Q</td>\n",
       "      <td>DHS</td>\n",
       "      <td>PCEQS100</td>\n",
       "      <td>2043521</td>\n",
       "      <td>ZP5</td>\n",
       "      <td>Porta dianteira Folga (Ajuste)</td>\n",
       "      <td>9/1/2023 22:01:44</td>\n",
       "    </tr>\n",
       "    <tr>\n",
       "      <th>3</th>\n",
       "      <td>2023-1326197</td>\n",
       "      <td>T-CROSS</td>\n",
       "      <td>0Q0Q</td>\n",
       "      <td>DHS</td>\n",
       "      <td>PCEQS100</td>\n",
       "      <td>2043521</td>\n",
       "      <td>ZP5</td>\n",
       "      <td>Porta traseira Folga (Ajuste)</td>\n",
       "      <td>9/1/2023 22:01:03</td>\n",
       "    </tr>\n",
       "    <tr>\n",
       "      <th>4</th>\n",
       "      <td>2023-4130482</td>\n",
       "      <td>AUDI Q3</td>\n",
       "      <td>2Y2Y</td>\n",
       "      <td>DSN</td>\n",
       "      <td>PCEQS999</td>\n",
       "      <td>2054701</td>\n",
       "      <td>ESPC</td>\n",
       "      <td>Lanterna tras (09) Interfere</td>\n",
       "      <td>10/1/2023 09:01:25</td>\n",
       "    </tr>\n",
       "    <tr>\n",
       "      <th>5</th>\n",
       "      <td>2023-4130482</td>\n",
       "      <td>AUDI Q3</td>\n",
       "      <td>2Y2Y</td>\n",
       "      <td>DSN</td>\n",
       "      <td>PCEQS999</td>\n",
       "      <td>2054701</td>\n",
       "      <td>ESPC</td>\n",
       "      <td>Emblema / logo - Adesivos em geral Solto(a) ¨</td>\n",
       "      <td>10/1/2023 09:01:41</td>\n",
       "    </tr>\n",
       "    <tr>\n",
       "      <th>6</th>\n",
       "      <td>2023-4130664</td>\n",
       "      <td>AUDI Q3</td>\n",
       "      <td>6Y6Y</td>\n",
       "      <td>DSN</td>\n",
       "      <td>PCEQS805</td>\n",
       "      <td>7000240</td>\n",
       "      <td>ZP82</td>\n",
       "      <td>Painel instrumentos Ruído (-)</td>\n",
       "      <td>10/1/2023 11:01:56</td>\n",
       "    </tr>\n",
       "  </tbody>\n",
       "</table>\n",
       "</div>"
      ],
      "text/plain": [
       "1           KNR   MODELO   COR MOTOR   ESTACAO  USUARIO HALLE  \\\n",
       "2  2023-1326197  T-CROSS  0Q0Q   DHS  PCEQS100  2043521   ZP5   \n",
       "3  2023-1326197  T-CROSS  0Q0Q   DHS  PCEQS100  2043521   ZP5   \n",
       "4  2023-4130482  AUDI Q3  2Y2Y   DSN  PCEQS999  2054701  ESPC   \n",
       "5  2023-4130482  AUDI Q3  2Y2Y   DSN  PCEQS999  2054701  ESPC   \n",
       "6  2023-4130664  AUDI Q3  6Y6Y   DSN  PCEQS805  7000240  ZP82   \n",
       "\n",
       "1                                          FALHA                DATA  \n",
       "2                 Porta dianteira Folga (Ajuste)   9/1/2023 22:01:44  \n",
       "3                  Porta traseira Folga (Ajuste)   9/1/2023 22:01:03  \n",
       "4                   Lanterna tras (09) Interfere  10/1/2023 09:01:25  \n",
       "5  Emblema / logo - Adesivos em geral Solto(a) ¨  10/1/2023 09:01:41  \n",
       "6                  Painel instrumentos Ruído (-)  10/1/2023 11:01:56  "
      ]
     },
     "execution_count": 12,
     "metadata": {},
     "output_type": "execute_result"
    }
   ],
   "source": [
    "df_falhas_predict.head()"
   ]
  },
  {
   "cell_type": "code",
   "execution_count": 13,
   "id": "8a583186-b0f5-420f-8854-c15cc69518e7",
   "metadata": {},
   "outputs": [],
   "source": [
    "df_falhas_predict.drop(columns='MODELO', inplace=True)"
   ]
  },
  {
   "cell_type": "code",
   "execution_count": 14,
   "id": "8ebfd151-2613-4fa9-837d-b19334042bd1",
   "metadata": {},
   "outputs": [],
   "source": [
    "df_falhas_predict.drop_duplicates(inplace=True)"
   ]
  },
  {
   "cell_type": "code",
   "execution_count": 15,
   "id": "51acff9c-afc0-4175-97e7-2f10365295fd",
   "metadata": {},
   "outputs": [
    {
     "data": {
      "text/plain": [
       "FALHA\n",
       "Painel lateral Sujeira na pintura                      30576\n",
       "Painel lateral 04. Caroço / Pico                       21489\n",
       "Painel lateral 01. Amassado                            11033\n",
       "Paralama dianteiro 04. Caroço / Pico                   10986\n",
       "Tampa dianteira Sujeira na pintura                     10888\n",
       "                                                       ...  \n",
       "INTERRUPTOR REG. ALTURA FARÓIS FUNÇÃO NOK                  1\n",
       "TAMPA DIANTEIRA RUÍDO DE CHAPA                             1\n",
       "FAROL (09) CHICOTE DANIFICADO (&)                          1\n",
       "ILUMINAÇÃO TRASEIRA INTERNA CONECTOR DANIFICADO (&)        1\n",
       "Porta Objetos do Console Central Ajuste incorreto          1\n",
       "Name: count, Length: 6194, dtype: int64"
      ]
     },
     "execution_count": 15,
     "metadata": {},
     "output_type": "execute_result"
    }
   ],
   "source": [
    "df_falhas_predict['FALHA'].value_counts()"
   ]
  },
  {
   "cell_type": "code",
   "execution_count": 16,
   "id": "b0805c90-8b58-491a-8111-3851d0057795",
   "metadata": {},
   "outputs": [],
   "source": [
    "df_falhas_predict['FALHA'] = df_falhas_predict['FALHA'].str.upper()\n",
    "df_falhas_predict[['PEÇA', 'FALHA_PEÇA']] = df_falhas_predict['FALHA'].str.split(' ', expand=True, n=1)\n",
    "\n",
    "df_falhas_predict['HALLE'] = df_falhas_predict['HALLE'].str.split(' ').str[0]"
   ]
  },
  {
   "cell_type": "code",
   "execution_count": 17,
   "id": "6675a249-636c-4881-a633-2316524190a7",
   "metadata": {},
   "outputs": [
    {
     "data": {
      "text/html": [
       "<div>\n",
       "<style scoped>\n",
       "    .dataframe tbody tr th:only-of-type {\n",
       "        vertical-align: middle;\n",
       "    }\n",
       "\n",
       "    .dataframe tbody tr th {\n",
       "        vertical-align: top;\n",
       "    }\n",
       "\n",
       "    .dataframe thead th {\n",
       "        text-align: right;\n",
       "    }\n",
       "</style>\n",
       "<table border=\"1\" class=\"dataframe\">\n",
       "  <thead>\n",
       "    <tr style=\"text-align: right;\">\n",
       "      <th>1</th>\n",
       "      <th>KNR</th>\n",
       "      <th>COR</th>\n",
       "      <th>MOTOR</th>\n",
       "      <th>ESTACAO</th>\n",
       "      <th>USUARIO</th>\n",
       "      <th>HALLE</th>\n",
       "      <th>FALHA</th>\n",
       "      <th>DATA</th>\n",
       "      <th>PEÇA</th>\n",
       "      <th>FALHA_PEÇA</th>\n",
       "    </tr>\n",
       "  </thead>\n",
       "  <tbody>\n",
       "    <tr>\n",
       "      <th>2</th>\n",
       "      <td>2023-1326197</td>\n",
       "      <td>0Q0Q</td>\n",
       "      <td>DHS</td>\n",
       "      <td>PCEQS100</td>\n",
       "      <td>2043521</td>\n",
       "      <td>ZP5</td>\n",
       "      <td>PORTA DIANTEIRA FOLGA (AJUSTE)</td>\n",
       "      <td>9/1/2023 22:01:44</td>\n",
       "      <td>PORTA</td>\n",
       "      <td>DIANTEIRA FOLGA (AJUSTE)</td>\n",
       "    </tr>\n",
       "    <tr>\n",
       "      <th>3</th>\n",
       "      <td>2023-1326197</td>\n",
       "      <td>0Q0Q</td>\n",
       "      <td>DHS</td>\n",
       "      <td>PCEQS100</td>\n",
       "      <td>2043521</td>\n",
       "      <td>ZP5</td>\n",
       "      <td>PORTA TRASEIRA FOLGA (AJUSTE)</td>\n",
       "      <td>9/1/2023 22:01:03</td>\n",
       "      <td>PORTA</td>\n",
       "      <td>TRASEIRA FOLGA (AJUSTE)</td>\n",
       "    </tr>\n",
       "    <tr>\n",
       "      <th>4</th>\n",
       "      <td>2023-4130482</td>\n",
       "      <td>2Y2Y</td>\n",
       "      <td>DSN</td>\n",
       "      <td>PCEQS999</td>\n",
       "      <td>2054701</td>\n",
       "      <td>ESPC</td>\n",
       "      <td>LANTERNA TRAS (09) INTERFERE</td>\n",
       "      <td>10/1/2023 09:01:25</td>\n",
       "      <td>LANTERNA</td>\n",
       "      <td>TRAS (09) INTERFERE</td>\n",
       "    </tr>\n",
       "    <tr>\n",
       "      <th>5</th>\n",
       "      <td>2023-4130482</td>\n",
       "      <td>2Y2Y</td>\n",
       "      <td>DSN</td>\n",
       "      <td>PCEQS999</td>\n",
       "      <td>2054701</td>\n",
       "      <td>ESPC</td>\n",
       "      <td>EMBLEMA / LOGO - ADESIVOS EM GERAL SOLTO(A) ¨</td>\n",
       "      <td>10/1/2023 09:01:41</td>\n",
       "      <td>EMBLEMA</td>\n",
       "      <td>/ LOGO - ADESIVOS EM GERAL SOLTO(A) ¨</td>\n",
       "    </tr>\n",
       "    <tr>\n",
       "      <th>6</th>\n",
       "      <td>2023-4130664</td>\n",
       "      <td>6Y6Y</td>\n",
       "      <td>DSN</td>\n",
       "      <td>PCEQS805</td>\n",
       "      <td>7000240</td>\n",
       "      <td>ZP82</td>\n",
       "      <td>PAINEL INSTRUMENTOS RUÍDO (-)</td>\n",
       "      <td>10/1/2023 11:01:56</td>\n",
       "      <td>PAINEL</td>\n",
       "      <td>INSTRUMENTOS RUÍDO (-)</td>\n",
       "    </tr>\n",
       "  </tbody>\n",
       "</table>\n",
       "</div>"
      ],
      "text/plain": [
       "1           KNR   COR MOTOR   ESTACAO  USUARIO HALLE  \\\n",
       "2  2023-1326197  0Q0Q   DHS  PCEQS100  2043521   ZP5   \n",
       "3  2023-1326197  0Q0Q   DHS  PCEQS100  2043521   ZP5   \n",
       "4  2023-4130482  2Y2Y   DSN  PCEQS999  2054701  ESPC   \n",
       "5  2023-4130482  2Y2Y   DSN  PCEQS999  2054701  ESPC   \n",
       "6  2023-4130664  6Y6Y   DSN  PCEQS805  7000240  ZP82   \n",
       "\n",
       "1                                          FALHA                DATA  \\\n",
       "2                 PORTA DIANTEIRA FOLGA (AJUSTE)   9/1/2023 22:01:44   \n",
       "3                  PORTA TRASEIRA FOLGA (AJUSTE)   9/1/2023 22:01:03   \n",
       "4                   LANTERNA TRAS (09) INTERFERE  10/1/2023 09:01:25   \n",
       "5  EMBLEMA / LOGO - ADESIVOS EM GERAL SOLTO(A) ¨  10/1/2023 09:01:41   \n",
       "6                  PAINEL INSTRUMENTOS RUÍDO (-)  10/1/2023 11:01:56   \n",
       "\n",
       "1      PEÇA                             FALHA_PEÇA  \n",
       "2     PORTA               DIANTEIRA FOLGA (AJUSTE)  \n",
       "3     PORTA                TRASEIRA FOLGA (AJUSTE)  \n",
       "4  LANTERNA                    TRAS (09) INTERFERE  \n",
       "5   EMBLEMA  / LOGO - ADESIVOS EM GERAL SOLTO(A) ¨  \n",
       "6    PAINEL                 INSTRUMENTOS RUÍDO (-)  "
      ]
     },
     "execution_count": 17,
     "metadata": {},
     "output_type": "execute_result"
    }
   ],
   "source": [
    "df_falhas_predict.head()"
   ]
  },
  {
   "cell_type": "code",
   "execution_count": 18,
   "id": "f74bcf90-64e5-4d99-8704-2727e03c8683",
   "metadata": {},
   "outputs": [
    {
     "name": "stdout",
     "output_type": "stream",
     "text": [
      "Número de KNRs de 2024: 209824\n",
      "Número de KNRs de 2023: 450984\n"
     ]
    }
   ],
   "source": [
    "count_starts_with_2024 = df_falhas_predict['KNR'].str.startswith('2024').sum()\n",
    "print(\"Número de KNRs de 2024:\", count_starts_with_2024)\n",
    "count_starts_with_2023 = df_falhas_predict['KNR'].str.startswith('2023').sum()\n",
    "print(\"Número de KNRs de 2023:\", count_starts_with_2023)"
   ]
  },
  {
   "cell_type": "code",
   "execution_count": 19,
   "id": "26253598-13c7-4c95-b6fe-ee3759949c45",
   "metadata": {},
   "outputs": [
    {
     "data": {
      "text/plain": [
       "MOTOR\n",
       "DHS    423663\n",
       "CWL    169596\n",
       "CWS     40191\n",
       "DRP     24140\n",
       "DSN      3217\n",
       "            1\n",
       "Name: count, dtype: int64"
      ]
     },
     "execution_count": 19,
     "metadata": {},
     "output_type": "execute_result"
    }
   ],
   "source": [
    "df_falhas_predict['MOTOR'].value_counts()"
   ]
  },
  {
   "cell_type": "code",
   "execution_count": 20,
   "id": "40acb5b2-262d-4b5f-9059-a12e356581fb",
   "metadata": {},
   "outputs": [
    {
     "data": {
      "text/plain": [
       "array(['ZP5', 'ESPC', 'ZP82', 'Q3RE', 'ZP7', 'ROD', 'ZP5A', 'ZP6', nan,\n",
       "       'ZP8', 'AGUA', 'BUY', 'PROC', 'ZP61', 'ZP62', 'CAB', 'INTE',\n",
       "       'ZP8R', 'ZP6Q', 'DKA', 'RUID', 'TLUI', 'PVC', '', 'PROF'],\n",
       "      dtype=object)"
      ]
     },
     "execution_count": 20,
     "metadata": {},
     "output_type": "execute_result"
    }
   ],
   "source": [
    "df_falhas_predict['HALLE'].unique()"
   ]
  },
  {
   "cell_type": "code",
   "execution_count": 21,
   "id": "730d478d-9710-4e7a-a84d-3a5c8de1842f",
   "metadata": {
    "id": "nqVA_GrVmB2l"
   },
   "outputs": [],
   "source": [
    "df_falhas_predict['HALLE'] = df_falhas_predict['HALLE'].str.split(' ').str[0]"
   ]
  },
  {
   "cell_type": "code",
   "execution_count": 22,
   "id": "188bd20c-90ec-4113-b801-771a170de500",
   "metadata": {
    "colab": {
     "base_uri": "https://localhost:8080/"
    },
    "id": "m7OpMwvzm4Ht",
    "outputId": "b28f702a-e40c-43c3-dfe1-ed6c1e3af004"
   },
   "outputs": [
    {
     "name": "stdout",
     "output_type": "stream",
     "text": [
      "Data Types:\n",
      " 1\n",
      "KNR           object\n",
      "COR           object\n",
      "MOTOR         object\n",
      "ESTACAO       object\n",
      "USUARIO       object\n",
      "HALLE         object\n",
      "FALHA         object\n",
      "DATA          object\n",
      "PEÇA          object\n",
      "FALHA_PEÇA    object\n",
      "dtype: object\n"
     ]
    }
   ],
   "source": [
    "data_types = df_falhas_predict.dtypes\n",
    "print(\"Data Types:\\n\", data_types)"
   ]
  },
  {
   "cell_type": "markdown",
   "id": "b97ae54f-fb7b-413d-9db9-1101fa7344e1",
   "metadata": {
    "jp-MarkdownHeadingCollapsed": true
   },
   "source": [
    "# Mais Validações dos dados "
   ]
  },
  {
   "cell_type": "code",
   "execution_count": 45,
   "id": "60ffe537-ebfd-47f3-a4d0-734aa6da27d9",
   "metadata": {},
   "outputs": [],
   "source": [
    "df_validate = df_falhas_predict.pivot_table(index='KNR', columns='HALLE', aggfunc='size', fill_value=0)"
   ]
  },
  {
   "cell_type": "code",
   "execution_count": 47,
   "id": "6f450299-4651-4917-8310-15344c6778c3",
   "metadata": {},
   "outputs": [],
   "source": [
    "df_validate.columns = [f'QTD_FALHAS_{col}' if col.strip() else 'QTD_FALHAS_SEM_HALLE' for col in df_validate.columns]"
   ]
  },
  {
   "cell_type": "code",
   "execution_count": 48,
   "id": "6bb198f7-71f5-4393-99ea-84b37a8290af",
   "metadata": {},
   "outputs": [],
   "source": [
    "df_validate.reset_index(inplace=True)"
   ]
  },
  {
   "cell_type": "code",
   "execution_count": 49,
   "id": "ffb1e9fc-ad57-4eb4-9ba8-bdcd3dd03084",
   "metadata": {},
   "outputs": [
    {
     "data": {
      "text/html": [
       "<div>\n",
       "<style scoped>\n",
       "    .dataframe tbody tr th:only-of-type {\n",
       "        vertical-align: middle;\n",
       "    }\n",
       "\n",
       "    .dataframe tbody tr th {\n",
       "        vertical-align: top;\n",
       "    }\n",
       "\n",
       "    .dataframe thead th {\n",
       "        text-align: right;\n",
       "    }\n",
       "</style>\n",
       "<table border=\"1\" class=\"dataframe\">\n",
       "  <thead>\n",
       "    <tr style=\"text-align: right;\">\n",
       "      <th></th>\n",
       "      <th>KNR</th>\n",
       "      <th>QTD_FALHAS_SEM_HALLE</th>\n",
       "      <th>QTD_FALHAS_AGUA</th>\n",
       "      <th>QTD_FALHAS_BUY</th>\n",
       "      <th>QTD_FALHAS_CAB</th>\n",
       "      <th>QTD_FALHAS_DKA</th>\n",
       "      <th>QTD_FALHAS_ESPC</th>\n",
       "      <th>QTD_FALHAS_INTE</th>\n",
       "      <th>QTD_FALHAS_PROC</th>\n",
       "      <th>QTD_FALHAS_PROF</th>\n",
       "      <th>...</th>\n",
       "      <th>QTD_FALHAS_ZP5</th>\n",
       "      <th>QTD_FALHAS_ZP5A</th>\n",
       "      <th>QTD_FALHAS_ZP6</th>\n",
       "      <th>QTD_FALHAS_ZP61</th>\n",
       "      <th>QTD_FALHAS_ZP62</th>\n",
       "      <th>QTD_FALHAS_ZP6Q</th>\n",
       "      <th>QTD_FALHAS_ZP7</th>\n",
       "      <th>QTD_FALHAS_ZP8</th>\n",
       "      <th>QTD_FALHAS_ZP82</th>\n",
       "      <th>QTD_FALHAS_ZP8R</th>\n",
       "    </tr>\n",
       "  </thead>\n",
       "  <tbody>\n",
       "    <tr>\n",
       "      <th>0</th>\n",
       "      <td>2023-0210157</td>\n",
       "      <td>0</td>\n",
       "      <td>0</td>\n",
       "      <td>0</td>\n",
       "      <td>0</td>\n",
       "      <td>0</td>\n",
       "      <td>0</td>\n",
       "      <td>0</td>\n",
       "      <td>0</td>\n",
       "      <td>0</td>\n",
       "      <td>...</td>\n",
       "      <td>0</td>\n",
       "      <td>0</td>\n",
       "      <td>0</td>\n",
       "      <td>0</td>\n",
       "      <td>0</td>\n",
       "      <td>0</td>\n",
       "      <td>1</td>\n",
       "      <td>0</td>\n",
       "      <td>0</td>\n",
       "      <td>0</td>\n",
       "    </tr>\n",
       "    <tr>\n",
       "      <th>1</th>\n",
       "      <td>2023-0210201</td>\n",
       "      <td>0</td>\n",
       "      <td>0</td>\n",
       "      <td>0</td>\n",
       "      <td>0</td>\n",
       "      <td>0</td>\n",
       "      <td>0</td>\n",
       "      <td>0</td>\n",
       "      <td>0</td>\n",
       "      <td>0</td>\n",
       "      <td>...</td>\n",
       "      <td>0</td>\n",
       "      <td>0</td>\n",
       "      <td>0</td>\n",
       "      <td>0</td>\n",
       "      <td>0</td>\n",
       "      <td>0</td>\n",
       "      <td>0</td>\n",
       "      <td>0</td>\n",
       "      <td>0</td>\n",
       "      <td>0</td>\n",
       "    </tr>\n",
       "    <tr>\n",
       "      <th>2</th>\n",
       "      <td>2023-0210272</td>\n",
       "      <td>0</td>\n",
       "      <td>0</td>\n",
       "      <td>0</td>\n",
       "      <td>0</td>\n",
       "      <td>0</td>\n",
       "      <td>0</td>\n",
       "      <td>0</td>\n",
       "      <td>0</td>\n",
       "      <td>0</td>\n",
       "      <td>...</td>\n",
       "      <td>0</td>\n",
       "      <td>0</td>\n",
       "      <td>0</td>\n",
       "      <td>0</td>\n",
       "      <td>0</td>\n",
       "      <td>0</td>\n",
       "      <td>0</td>\n",
       "      <td>0</td>\n",
       "      <td>0</td>\n",
       "      <td>0</td>\n",
       "    </tr>\n",
       "    <tr>\n",
       "      <th>3</th>\n",
       "      <td>2023-0210532</td>\n",
       "      <td>0</td>\n",
       "      <td>0</td>\n",
       "      <td>0</td>\n",
       "      <td>0</td>\n",
       "      <td>0</td>\n",
       "      <td>0</td>\n",
       "      <td>0</td>\n",
       "      <td>0</td>\n",
       "      <td>0</td>\n",
       "      <td>...</td>\n",
       "      <td>0</td>\n",
       "      <td>0</td>\n",
       "      <td>0</td>\n",
       "      <td>0</td>\n",
       "      <td>0</td>\n",
       "      <td>0</td>\n",
       "      <td>0</td>\n",
       "      <td>0</td>\n",
       "      <td>0</td>\n",
       "      <td>0</td>\n",
       "    </tr>\n",
       "    <tr>\n",
       "      <th>4</th>\n",
       "      <td>2023-0210653</td>\n",
       "      <td>0</td>\n",
       "      <td>0</td>\n",
       "      <td>0</td>\n",
       "      <td>0</td>\n",
       "      <td>0</td>\n",
       "      <td>0</td>\n",
       "      <td>0</td>\n",
       "      <td>0</td>\n",
       "      <td>0</td>\n",
       "      <td>...</td>\n",
       "      <td>0</td>\n",
       "      <td>0</td>\n",
       "      <td>0</td>\n",
       "      <td>0</td>\n",
       "      <td>0</td>\n",
       "      <td>0</td>\n",
       "      <td>1</td>\n",
       "      <td>0</td>\n",
       "      <td>0</td>\n",
       "      <td>0</td>\n",
       "    </tr>\n",
       "  </tbody>\n",
       "</table>\n",
       "<p>5 rows × 25 columns</p>\n",
       "</div>"
      ],
      "text/plain": [
       "            KNR  QTD_FALHAS_SEM_HALLE  QTD_FALHAS_AGUA  QTD_FALHAS_BUY  \\\n",
       "0  2023-0210157                     0                0               0   \n",
       "1  2023-0210201                     0                0               0   \n",
       "2  2023-0210272                     0                0               0   \n",
       "3  2023-0210532                     0                0               0   \n",
       "4  2023-0210653                     0                0               0   \n",
       "\n",
       "   QTD_FALHAS_CAB  QTD_FALHAS_DKA  QTD_FALHAS_ESPC  QTD_FALHAS_INTE  \\\n",
       "0               0               0                0                0   \n",
       "1               0               0                0                0   \n",
       "2               0               0                0                0   \n",
       "3               0               0                0                0   \n",
       "4               0               0                0                0   \n",
       "\n",
       "   QTD_FALHAS_PROC  QTD_FALHAS_PROF  ...  QTD_FALHAS_ZP5  QTD_FALHAS_ZP5A  \\\n",
       "0                0                0  ...               0                0   \n",
       "1                0                0  ...               0                0   \n",
       "2                0                0  ...               0                0   \n",
       "3                0                0  ...               0                0   \n",
       "4                0                0  ...               0                0   \n",
       "\n",
       "   QTD_FALHAS_ZP6  QTD_FALHAS_ZP61  QTD_FALHAS_ZP62  QTD_FALHAS_ZP6Q  \\\n",
       "0               0                0                0                0   \n",
       "1               0                0                0                0   \n",
       "2               0                0                0                0   \n",
       "3               0                0                0                0   \n",
       "4               0                0                0                0   \n",
       "\n",
       "   QTD_FALHAS_ZP7  QTD_FALHAS_ZP8  QTD_FALHAS_ZP82  QTD_FALHAS_ZP8R  \n",
       "0               1               0                0                0  \n",
       "1               0               0                0                0  \n",
       "2               0               0                0                0  \n",
       "3               0               0                0                0  \n",
       "4               1               0                0                0  \n",
       "\n",
       "[5 rows x 25 columns]"
      ]
     },
     "execution_count": 49,
     "metadata": {},
     "output_type": "execute_result"
    }
   ],
   "source": [
    "df_validate.head()"
   ]
  },
  {
   "cell_type": "code",
   "execution_count": 53,
   "id": "b09d8497-1890-41f5-b4b0-ed8459f004d9",
   "metadata": {},
   "outputs": [
    {
     "name": "stdout",
     "output_type": "stream",
     "text": [
      "Total de ocorrências de ZP7 no df antigo: 360620\n",
      "Total de ocorrências de ZP7 no df pivot: 360620\n"
     ]
    }
   ],
   "source": [
    "cont_zp7 = (df_falhas_predict['HALLE'] == 'ZP7').sum()\n",
    "print(f\"Total de ocorrências de ZP7 no df antigo: {cont_zp7}\")\n",
    "\n",
    "conta_zp7_validate = (df_validate['QTD_FALHAS_ZP7']).sum()\n",
    "print(f\"Total de ocorrências de ZP7 no df pivot: {conta_zp7_validate}\") "
   ]
  },
  {
   "cell_type": "code",
   "execution_count": 54,
   "id": "a77290a1-60b6-44ec-b29a-a9cd8c74fe8b",
   "metadata": {},
   "outputs": [],
   "source": [
    "df_validate.to_parquet('falha_processadas.parquet', index=False)"
   ]
  },
  {
   "cell_type": "code",
   "execution_count": 55,
   "id": "de49301f-6038-4ff6-beb7-bf72632dd7ce",
   "metadata": {},
   "outputs": [],
   "source": [
    "motor_cor_df = df_falhas_predict.groupby('KNR')[['MOTOR', 'COR']].first().reset_index()\n",
    "df_validate = pd.merge(df_validate, motor_cor_df, on='KNR', how='left')"
   ]
  },
  {
   "cell_type": "code",
   "execution_count": 56,
   "id": "2a77ce1e-d886-473a-bcc9-b1e9f1ae5e36",
   "metadata": {},
   "outputs": [],
   "source": [
    "cols = df_validate.columns.tolist()\n",
    "\n",
    "new_order = ['KNR', 'MOTOR', 'COR'] + \\\n",
    "            [col for col in cols if col not in ('KNR', 'MOTOR', 'COR', 'QTD_FALHAS_SEM_HALLE')] + \\\n",
    "            ['QTD_FALHAS_SEM_HALLE']\n",
    "\n",
    "df_validate = df_validate[new_order]"
   ]
  },
  {
   "cell_type": "code",
   "execution_count": 57,
   "id": "d0dfd3bd-4e0c-4abe-b70d-9a0bed31a283",
   "metadata": {},
   "outputs": [],
   "source": [
    "df_validate['MOTOR'] = df_validate['MOTOR'].replace(r'^\\s*$', np.nan, regex=True)"
   ]
  },
  {
   "cell_type": "code",
   "execution_count": 58,
   "id": "91114104-7205-4bf5-a9c9-4dc3e1fc3967",
   "metadata": {},
   "outputs": [],
   "source": [
    "df_validate['TEM_FALHA_ROD'] = np.where(df_validate['QTD_FALHAS_ROD'] > 0, 1, 0)"
   ]
  },
  {
   "cell_type": "code",
   "execution_count": 59,
   "id": "a63eb7ac-bc4d-4697-96d0-d3292d1a7ef8",
   "metadata": {},
   "outputs": [
    {
     "data": {
      "text/html": [
       "<div>\n",
       "<style scoped>\n",
       "    .dataframe tbody tr th:only-of-type {\n",
       "        vertical-align: middle;\n",
       "    }\n",
       "\n",
       "    .dataframe tbody tr th {\n",
       "        vertical-align: top;\n",
       "    }\n",
       "\n",
       "    .dataframe thead th {\n",
       "        text-align: right;\n",
       "    }\n",
       "</style>\n",
       "<table border=\"1\" class=\"dataframe\">\n",
       "  <thead>\n",
       "    <tr style=\"text-align: right;\">\n",
       "      <th></th>\n",
       "      <th>KNR</th>\n",
       "      <th>MOTOR</th>\n",
       "      <th>COR</th>\n",
       "      <th>QTD_FALHAS_AGUA</th>\n",
       "      <th>QTD_FALHAS_BUY</th>\n",
       "      <th>QTD_FALHAS_CAB</th>\n",
       "      <th>QTD_FALHAS_DKA</th>\n",
       "      <th>QTD_FALHAS_ESPC</th>\n",
       "      <th>QTD_FALHAS_INTE</th>\n",
       "      <th>QTD_FALHAS_PROC</th>\n",
       "      <th>...</th>\n",
       "      <th>QTD_FALHAS_ZP6</th>\n",
       "      <th>QTD_FALHAS_ZP61</th>\n",
       "      <th>QTD_FALHAS_ZP62</th>\n",
       "      <th>QTD_FALHAS_ZP6Q</th>\n",
       "      <th>QTD_FALHAS_ZP7</th>\n",
       "      <th>QTD_FALHAS_ZP8</th>\n",
       "      <th>QTD_FALHAS_ZP82</th>\n",
       "      <th>QTD_FALHAS_ZP8R</th>\n",
       "      <th>QTD_FALHAS_SEM_HALLE</th>\n",
       "      <th>TEM_FALHA_ROD</th>\n",
       "    </tr>\n",
       "  </thead>\n",
       "  <tbody>\n",
       "    <tr>\n",
       "      <th>0</th>\n",
       "      <td>2023-0210157</td>\n",
       "      <td>DSN</td>\n",
       "      <td>6Y6Y</td>\n",
       "      <td>0</td>\n",
       "      <td>0</td>\n",
       "      <td>0</td>\n",
       "      <td>0</td>\n",
       "      <td>0</td>\n",
       "      <td>0</td>\n",
       "      <td>0</td>\n",
       "      <td>...</td>\n",
       "      <td>0</td>\n",
       "      <td>0</td>\n",
       "      <td>0</td>\n",
       "      <td>0</td>\n",
       "      <td>1</td>\n",
       "      <td>0</td>\n",
       "      <td>0</td>\n",
       "      <td>0</td>\n",
       "      <td>0</td>\n",
       "      <td>0</td>\n",
       "    </tr>\n",
       "    <tr>\n",
       "      <th>1</th>\n",
       "      <td>2023-0210201</td>\n",
       "      <td>DSN</td>\n",
       "      <td>2D2D</td>\n",
       "      <td>0</td>\n",
       "      <td>0</td>\n",
       "      <td>0</td>\n",
       "      <td>0</td>\n",
       "      <td>0</td>\n",
       "      <td>0</td>\n",
       "      <td>0</td>\n",
       "      <td>...</td>\n",
       "      <td>0</td>\n",
       "      <td>0</td>\n",
       "      <td>0</td>\n",
       "      <td>0</td>\n",
       "      <td>0</td>\n",
       "      <td>0</td>\n",
       "      <td>0</td>\n",
       "      <td>0</td>\n",
       "      <td>0</td>\n",
       "      <td>0</td>\n",
       "    </tr>\n",
       "    <tr>\n",
       "      <th>2</th>\n",
       "      <td>2023-0210272</td>\n",
       "      <td>DSN</td>\n",
       "      <td>6Y6Y</td>\n",
       "      <td>0</td>\n",
       "      <td>0</td>\n",
       "      <td>0</td>\n",
       "      <td>0</td>\n",
       "      <td>0</td>\n",
       "      <td>0</td>\n",
       "      <td>0</td>\n",
       "      <td>...</td>\n",
       "      <td>0</td>\n",
       "      <td>0</td>\n",
       "      <td>0</td>\n",
       "      <td>0</td>\n",
       "      <td>0</td>\n",
       "      <td>0</td>\n",
       "      <td>0</td>\n",
       "      <td>0</td>\n",
       "      <td>0</td>\n",
       "      <td>0</td>\n",
       "    </tr>\n",
       "    <tr>\n",
       "      <th>3</th>\n",
       "      <td>2023-0210532</td>\n",
       "      <td>DSN</td>\n",
       "      <td>6Y6Y</td>\n",
       "      <td>0</td>\n",
       "      <td>0</td>\n",
       "      <td>0</td>\n",
       "      <td>0</td>\n",
       "      <td>0</td>\n",
       "      <td>0</td>\n",
       "      <td>0</td>\n",
       "      <td>...</td>\n",
       "      <td>0</td>\n",
       "      <td>0</td>\n",
       "      <td>0</td>\n",
       "      <td>0</td>\n",
       "      <td>0</td>\n",
       "      <td>0</td>\n",
       "      <td>0</td>\n",
       "      <td>0</td>\n",
       "      <td>0</td>\n",
       "      <td>1</td>\n",
       "    </tr>\n",
       "    <tr>\n",
       "      <th>4</th>\n",
       "      <td>2023-0210653</td>\n",
       "      <td>DSN</td>\n",
       "      <td>Z7Z7</td>\n",
       "      <td>0</td>\n",
       "      <td>0</td>\n",
       "      <td>0</td>\n",
       "      <td>0</td>\n",
       "      <td>0</td>\n",
       "      <td>0</td>\n",
       "      <td>0</td>\n",
       "      <td>...</td>\n",
       "      <td>0</td>\n",
       "      <td>0</td>\n",
       "      <td>0</td>\n",
       "      <td>0</td>\n",
       "      <td>1</td>\n",
       "      <td>0</td>\n",
       "      <td>0</td>\n",
       "      <td>0</td>\n",
       "      <td>0</td>\n",
       "      <td>0</td>\n",
       "    </tr>\n",
       "    <tr>\n",
       "      <th>...</th>\n",
       "      <td>...</td>\n",
       "      <td>...</td>\n",
       "      <td>...</td>\n",
       "      <td>...</td>\n",
       "      <td>...</td>\n",
       "      <td>...</td>\n",
       "      <td>...</td>\n",
       "      <td>...</td>\n",
       "      <td>...</td>\n",
       "      <td>...</td>\n",
       "      <td>...</td>\n",
       "      <td>...</td>\n",
       "      <td>...</td>\n",
       "      <td>...</td>\n",
       "      <td>...</td>\n",
       "      <td>...</td>\n",
       "      <td>...</td>\n",
       "      <td>...</td>\n",
       "      <td>...</td>\n",
       "      <td>...</td>\n",
       "      <td>...</td>\n",
       "    </tr>\n",
       "    <tr>\n",
       "      <th>82656</th>\n",
       "      <td>2024-5076008</td>\n",
       "      <td>DHS</td>\n",
       "      <td>0Q0Q</td>\n",
       "      <td>0</td>\n",
       "      <td>0</td>\n",
       "      <td>2</td>\n",
       "      <td>0</td>\n",
       "      <td>44</td>\n",
       "      <td>0</td>\n",
       "      <td>0</td>\n",
       "      <td>...</td>\n",
       "      <td>0</td>\n",
       "      <td>0</td>\n",
       "      <td>0</td>\n",
       "      <td>0</td>\n",
       "      <td>12</td>\n",
       "      <td>2</td>\n",
       "      <td>0</td>\n",
       "      <td>0</td>\n",
       "      <td>0</td>\n",
       "      <td>1</td>\n",
       "    </tr>\n",
       "    <tr>\n",
       "      <th>82657</th>\n",
       "      <td>2024-5076009</td>\n",
       "      <td>DHS</td>\n",
       "      <td>0Q0Q</td>\n",
       "      <td>0</td>\n",
       "      <td>0</td>\n",
       "      <td>0</td>\n",
       "      <td>0</td>\n",
       "      <td>14</td>\n",
       "      <td>0</td>\n",
       "      <td>0</td>\n",
       "      <td>...</td>\n",
       "      <td>2</td>\n",
       "      <td>0</td>\n",
       "      <td>0</td>\n",
       "      <td>0</td>\n",
       "      <td>0</td>\n",
       "      <td>2</td>\n",
       "      <td>0</td>\n",
       "      <td>0</td>\n",
       "      <td>0</td>\n",
       "      <td>0</td>\n",
       "    </tr>\n",
       "    <tr>\n",
       "      <th>82658</th>\n",
       "      <td>2024-5076011</td>\n",
       "      <td>DHS</td>\n",
       "      <td>0Q0Q</td>\n",
       "      <td>0</td>\n",
       "      <td>0</td>\n",
       "      <td>0</td>\n",
       "      <td>0</td>\n",
       "      <td>26</td>\n",
       "      <td>0</td>\n",
       "      <td>0</td>\n",
       "      <td>...</td>\n",
       "      <td>0</td>\n",
       "      <td>0</td>\n",
       "      <td>0</td>\n",
       "      <td>0</td>\n",
       "      <td>8</td>\n",
       "      <td>2</td>\n",
       "      <td>0</td>\n",
       "      <td>0</td>\n",
       "      <td>0</td>\n",
       "      <td>1</td>\n",
       "    </tr>\n",
       "    <tr>\n",
       "      <th>82659</th>\n",
       "      <td>2024-5076013</td>\n",
       "      <td>DHS</td>\n",
       "      <td>0Q0Q</td>\n",
       "      <td>0</td>\n",
       "      <td>0</td>\n",
       "      <td>0</td>\n",
       "      <td>0</td>\n",
       "      <td>26</td>\n",
       "      <td>0</td>\n",
       "      <td>0</td>\n",
       "      <td>...</td>\n",
       "      <td>6</td>\n",
       "      <td>0</td>\n",
       "      <td>0</td>\n",
       "      <td>0</td>\n",
       "      <td>14</td>\n",
       "      <td>2</td>\n",
       "      <td>0</td>\n",
       "      <td>0</td>\n",
       "      <td>0</td>\n",
       "      <td>0</td>\n",
       "    </tr>\n",
       "    <tr>\n",
       "      <th>82660</th>\n",
       "      <td>2024-5076015</td>\n",
       "      <td>DHS</td>\n",
       "      <td>0Q0Q</td>\n",
       "      <td>0</td>\n",
       "      <td>0</td>\n",
       "      <td>2</td>\n",
       "      <td>0</td>\n",
       "      <td>14</td>\n",
       "      <td>0</td>\n",
       "      <td>0</td>\n",
       "      <td>...</td>\n",
       "      <td>0</td>\n",
       "      <td>0</td>\n",
       "      <td>0</td>\n",
       "      <td>0</td>\n",
       "      <td>6</td>\n",
       "      <td>2</td>\n",
       "      <td>0</td>\n",
       "      <td>0</td>\n",
       "      <td>0</td>\n",
       "      <td>0</td>\n",
       "    </tr>\n",
       "  </tbody>\n",
       "</table>\n",
       "<p>82661 rows × 28 columns</p>\n",
       "</div>"
      ],
      "text/plain": [
       "                KNR MOTOR   COR  QTD_FALHAS_AGUA  QTD_FALHAS_BUY  \\\n",
       "0      2023-0210157   DSN  6Y6Y                0               0   \n",
       "1      2023-0210201   DSN  2D2D                0               0   \n",
       "2      2023-0210272   DSN  6Y6Y                0               0   \n",
       "3      2023-0210532   DSN  6Y6Y                0               0   \n",
       "4      2023-0210653   DSN  Z7Z7                0               0   \n",
       "...             ...   ...   ...              ...             ...   \n",
       "82656  2024-5076008   DHS  0Q0Q                0               0   \n",
       "82657  2024-5076009   DHS  0Q0Q                0               0   \n",
       "82658  2024-5076011   DHS  0Q0Q                0               0   \n",
       "82659  2024-5076013   DHS  0Q0Q                0               0   \n",
       "82660  2024-5076015   DHS  0Q0Q                0               0   \n",
       "\n",
       "       QTD_FALHAS_CAB  QTD_FALHAS_DKA  QTD_FALHAS_ESPC  QTD_FALHAS_INTE  \\\n",
       "0                   0               0                0                0   \n",
       "1                   0               0                0                0   \n",
       "2                   0               0                0                0   \n",
       "3                   0               0                0                0   \n",
       "4                   0               0                0                0   \n",
       "...               ...             ...              ...              ...   \n",
       "82656               2               0               44                0   \n",
       "82657               0               0               14                0   \n",
       "82658               0               0               26                0   \n",
       "82659               0               0               26                0   \n",
       "82660               2               0               14                0   \n",
       "\n",
       "       QTD_FALHAS_PROC  ...  QTD_FALHAS_ZP6  QTD_FALHAS_ZP61  QTD_FALHAS_ZP62  \\\n",
       "0                    0  ...               0                0                0   \n",
       "1                    0  ...               0                0                0   \n",
       "2                    0  ...               0                0                0   \n",
       "3                    0  ...               0                0                0   \n",
       "4                    0  ...               0                0                0   \n",
       "...                ...  ...             ...              ...              ...   \n",
       "82656                0  ...               0                0                0   \n",
       "82657                0  ...               2                0                0   \n",
       "82658                0  ...               0                0                0   \n",
       "82659                0  ...               6                0                0   \n",
       "82660                0  ...               0                0                0   \n",
       "\n",
       "       QTD_FALHAS_ZP6Q  QTD_FALHAS_ZP7  QTD_FALHAS_ZP8  QTD_FALHAS_ZP82  \\\n",
       "0                    0               1               0                0   \n",
       "1                    0               0               0                0   \n",
       "2                    0               0               0                0   \n",
       "3                    0               0               0                0   \n",
       "4                    0               1               0                0   \n",
       "...                ...             ...             ...              ...   \n",
       "82656                0              12               2                0   \n",
       "82657                0               0               2                0   \n",
       "82658                0               8               2                0   \n",
       "82659                0              14               2                0   \n",
       "82660                0               6               2                0   \n",
       "\n",
       "       QTD_FALHAS_ZP8R  QTD_FALHAS_SEM_HALLE  TEM_FALHA_ROD  \n",
       "0                    0                     0              0  \n",
       "1                    0                     0              0  \n",
       "2                    0                     0              0  \n",
       "3                    0                     0              1  \n",
       "4                    0                     0              0  \n",
       "...                ...                   ...            ...  \n",
       "82656                0                     0              1  \n",
       "82657                0                     0              0  \n",
       "82658                0                     0              1  \n",
       "82659                0                     0              0  \n",
       "82660                0                     0              0  \n",
       "\n",
       "[82661 rows x 28 columns]"
      ]
     },
     "execution_count": 59,
     "metadata": {},
     "output_type": "execute_result"
    }
   ],
   "source": [
    "df_validate"
   ]
  },
  {
   "cell_type": "markdown",
   "id": "82dbac70-e253-41a8-adf8-972d6a112165",
   "metadata": {
    "jp-MarkdownHeadingCollapsed": true
   },
   "source": [
    "#  Visualizações com o matplotlib"
   ]
  },
  {
   "cell_type": "code",
   "execution_count": 35,
   "id": "99e2be16-d7f9-44ea-ac64-d65ed4a4ca37",
   "metadata": {
    "id": "WhG26AqLhw5j"
   },
   "outputs": [],
   "source": [
    "# Importando as bibliotecas\n",
    "import matplotlib.pyplot as plt\n",
    "import seaborn as sns"
   ]
  },
  {
   "cell_type": "code",
   "execution_count": 36,
   "id": "51c4ee27-642e-4331-80f9-59319b50e688",
   "metadata": {
    "colab": {
     "base_uri": "https://localhost:8080/",
     "height": 466
    },
    "id": "7iG9Wapj5ZYT",
    "outputId": "42c1ba95-9bdc-4e6d-9c40-a743e061638c"
   },
   "outputs": [
    {
     "data": {
      "image/png": "[encoded data removed]",
      "text/plain": [
       "<Figure size 1600x800 with 1 Axes>"
      ]
     },
     "metadata": {},
     "output_type": "display_data"
    }
   ],
   "source": [
    "plt.figure(figsize=(16, 8))\n",
    "\n",
    "order = df_falhas_predict['FALHA'].value_counts().nlargest(10).index\n",
    "\n",
    "# Plotando o gráfico\n",
    "sns.countplot(data=df_falhas_predict, y='FALHA', order=order)\n",
    "plt.title('Tipos de falha por veículo')\n",
    "plt.xlabel('Quantidade de veículos')\n",
    "plt.ylabel('Falhas')\n",
    "plt.show()"
   ]
  },
  {
   "cell_type": "code",
   "execution_count": 37,
   "id": "4aa9cd9c-57f0-4c51-87ea-5268258f9486",
   "metadata": {
    "colab": {
     "base_uri": "https://localhost:8080/",
     "height": 555
    },
    "id": "aojWsKnChvFe",
    "outputId": "2692f5b5-407d-4639-bf15-a889cd0f9675"
   },
   "outputs": [
    {
     "data": {
      "image/png": "[encoded data removed]",
      "text/plain": [
       "<Figure size 1600x800 with 1 Axes>"
      ]
     },
     "metadata": {},
     "output_type": "display_data"
    }
   ],
   "source": [
    "plt.figure(figsize=(16, 8))\n",
    "\n",
    "order = df_falhas_predict['MOTOR'].value_counts().nlargest(4).index\n",
    "\n",
    "sns.countplot(data=df_falhas_predict, y='MOTOR', order=order)\n",
    "plt.title('Tipos de falha por motor')\n",
    "plt.xlabel('Quantidade de falhas')\n",
    "plt.ylabel('Falhas')\n",
    "plt.show()"
   ]
  },
  {
   "cell_type": "code",
   "execution_count": 43,
   "id": "5d79fa7b-fc21-4247-b713-359b260941be",
   "metadata": {
    "colab": {
     "base_uri": "https://localhost:8080/",
     "height": 529
    },
    "id": "Rah9m_RbjPtZ",
    "outputId": "42d4b5cd-ea83-466a-9327-9d31fd365120"
   },
   "outputs": [
    {
     "data": {
      "image/png": "[encoded data removed]",
      "text/plain": [
       "<Figure size 1600x800 with 1 Axes>"
      ]
     },
     "metadata": {},
     "output_type": "display_data"
    }
   ],
   "source": [
    "plt.figure(figsize=(16, 8))\n",
    "\n",
    "order = df_falhas_predict['KNR'].value_counts().nlargest(20).index\n",
    "\n",
    "# Plotando o gráfico\n",
    "sns.countplot(data=df_falhas_predict, y='KNR', order=order)\n",
    "plt.title('Quantidade de falhas por KNR')\n",
    "plt.xlabel('Quantidade de falhas')\n",
    "plt.ylabel('KNR')\n",
    "plt.show()"
   ]
  },
  {
   "cell_type": "code",
   "execution_count": 42,
   "id": "baeeaaa1-0a1e-4abe-bd94-b800fe7e0d07",
   "metadata": {
    "colab": {
     "base_uri": "https://localhost:8080/",
     "height": 207
    },
    "id": "yifcCxgzi_Ix",
    "outputId": "370c37de-c132-4001-cb18-464d1325ba1f"
   },
   "outputs": [
    {
     "data": {
      "text/plain": [
       "count           660808\n",
       "unique           82662\n",
       "top       2024-1176001\n",
       "freq                76\n",
       "Name: KNR, dtype: object"
      ]
     },
     "execution_count": 42,
     "metadata": {},
     "output_type": "execute_result"
    }
   ],
   "source": [
    "df_falhas_predict['KNR'].describe()"
   ]
  },
  {
   "cell_type": "code",
   "execution_count": 40,
   "id": "4b1d18c5-78c4-4502-8a0d-89335ad02149",
   "metadata": {
    "colab": {
     "base_uri": "https://localhost:8080/"
    },
    "id": "8GgjaxtqhY9S",
    "outputId": "4da9183f-b36a-41b8-882c-bbedee76cf90"
   },
   "outputs": [
    {
     "name": "stdout",
     "output_type": "stream",
     "text": [
      "Média de falhas por KNR: 7.994096440928117\n"
     ]
    }
   ],
   "source": [
    "media_de_falhas_por_knr = df_falhas_predict['KNR'].value_counts().mean()\n",
    "print(\"Média de falhas por KNR:\", media_de_falhas_por_knr)"
   ]
  },
  {
   "cell_type": "code",
   "execution_count": 41,
   "id": "8e3cbc9b-6944-43b3-9c89-9ef0ba08d831",
   "metadata": {},
   "outputs": [
    {
     "data": {
      "text/plain": [
       "COR\n",
       "K2K2    149536\n",
       "2R2R    146538\n",
       "0Q0Q    145177\n",
       "A1A1     81452\n",
       "5T5T     51426\n",
       "2RA1     19964\n",
       "K2A1     17858\n",
       "0QA1     13815\n",
       "8E8E     12633\n",
       "6K6K     11384\n",
       "5TA1      3790\n",
       "6KA1      3438\n",
       "0E0E       996\n",
       "6Y6Y       893\n",
       "Z7Z7       456\n",
       "2D2D       357\n",
       "8EA1       342\n",
       "2Y2Y       259\n",
       "6UA1       195\n",
       "Z9Z9       128\n",
       "6U6U        43\n",
       "N6N6        34\n",
       "Y1Y1        30\n",
       "B1B1        29\n",
       "T9T9        24\n",
       "M9M9        11\n",
       "Name: count, dtype: int64"
      ]
     },
     "execution_count": 41,
     "metadata": {},
     "output_type": "execute_result"
    }
   ],
   "source": [
    "df_falhas_predict['COR'].value_counts()"
   ]
  },
  {
   "cell_type": "code",
   "execution_count": 44,
   "id": "e2d671a9-b6ec-4f5a-bde9-2615bb1540e4",
   "metadata": {},
   "outputs": [
    {
     "data": {
      "text/plain": [
       "count     660808\n",
       "unique        26\n",
       "top         K2K2\n",
       "freq      149536\n",
       "Name: COR, dtype: object"
      ]
     },
     "execution_count": 44,
     "metadata": {},
     "output_type": "execute_result"
    }
   ],
   "source": [
    "df_falhas_predict['COR'].describe()"
   ]
  },
  {
   "cell_type": "code",
   "execution_count": null,
   "id": "23558891-0cc1-4ae5-964c-ddc74483dc8f",
   "metadata": {},
   "outputs": [],
   "source": []
  }
 ],
 "metadata": {
  "kernelspec": {
   "display_name": "Python 3 (ipykernel)",
   "language": "python",
   "name": "python3"
  },
  "language_info": {
   "codemirror_mode": {
    "name": "ipython",
    "version": 3
   },
   "file_extension": ".py",
   "mimetype": "text/x-python",
   "name": "python",
   "nbconvert_exporter": "python",
   "pygments_lexer": "ipython3",
   "version": "3.11.1"
  }
 },
 "nbformat": 4,
 "nbformat_minor": 5
}
