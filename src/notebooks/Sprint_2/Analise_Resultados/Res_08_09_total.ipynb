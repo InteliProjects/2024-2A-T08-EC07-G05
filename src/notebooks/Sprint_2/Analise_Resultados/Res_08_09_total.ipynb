{
 "cells": [
  {
   "cell_type": "markdown",
   "id": "db504352-8c5a-44a3-a88c-fd2d56b8c533",
   "metadata": {},
   "source": [
    "# Tratamento Tabela Resultados 06 - 07 - 2024"
   ]
  },
  {
   "cell_type": "markdown",
   "id": "2cc3436e-b641-4b89-bc4b-963a745ac47a",
   "metadata": {},
   "source": [
    "pip install ydata-profiling matplotlib ipywidgets pandas pyarrow openpyxl"
   ]
  },
  {
   "cell_type": "code",
   "execution_count": 2,
   "id": "69210359-0c2c-4805-a31e-d9776e25c9bb",
   "metadata": {},
   "outputs": [],
   "source": [
    "import pandas as pd\n",
    "import pyarrow\n",
    "import matplotlib.pyplot as plt"
   ]
  },
  {
   "cell_type": "markdown",
   "id": "15aa75bb-3ff5-4530-a9cc-1e90287ee1d2",
   "metadata": {},
   "source": [
    "# Importando DADOS"
   ]
  },
  {
   "cell_type": "code",
   "execution_count": 33,
   "id": "bd78091f-5bac-4943-b2ba-6d0b81cdfce1",
   "metadata": {},
   "outputs": [],
   "source": [
    "df = pd.read_csv(\"C:\\\\Users\\\\Inteli\\\\Documents\\\\GitHub\\\\2024-2A-T08-EC07-G05\\\\src\\\\data\\\\csv\\\\RESULTADOS_08_2023_09_2023_full_teste.csv\", compression='gzip')"
   ]
  },
  {
   "cell_type": "code",
   "execution_count": 34,
   "id": "7aac6e89-9c66-4ea0-870a-86f1ce938d86",
   "metadata": {},
   "outputs": [
    {
     "data": {
      "text/html": [
       "<div>\n",
       "<style scoped>\n",
       "    .dataframe tbody tr th:only-of-type {\n",
       "        vertical-align: middle;\n",
       "    }\n",
       "\n",
       "    .dataframe tbody tr th {\n",
       "        vertical-align: top;\n",
       "    }\n",
       "\n",
       "    .dataframe thead th {\n",
       "        text-align: right;\n",
       "    }\n",
       "</style>\n",
       "<table border=\"1\" class=\"dataframe\">\n",
       "  <thead>\n",
       "    <tr style=\"text-align: right;\">\n",
       "      <th></th>\n",
       "      <th>Unnamed: 0</th>\n",
       "      <th>KNR</th>\n",
       "      <th>NAME</th>\n",
       "      <th>ID</th>\n",
       "      <th>STATUS</th>\n",
       "      <th>UNIT</th>\n",
       "      <th>VALUE_ID</th>\n",
       "      <th>VALUE</th>\n",
       "      <th>DATA</th>\n",
       "    </tr>\n",
       "  </thead>\n",
       "  <tbody>\n",
       "    <tr>\n",
       "      <th>0</th>\n",
       "      <td>0</td>\n",
       "      <td>2023-2316418</td>\n",
       "      <td>012001</td>\n",
       "      <td>1</td>\n",
       "      <td>10</td>\n",
       "      <td>NaN</td>\n",
       "      <td>0</td>\n",
       "      <td>NaN</td>\n",
       "      <td>2023-08-02 12:04:16</td>\n",
       "    </tr>\n",
       "    <tr>\n",
       "      <th>1</th>\n",
       "      <td>1</td>\n",
       "      <td>2023-2316418</td>\n",
       "      <td>012002</td>\n",
       "      <td>1</td>\n",
       "      <td>10</td>\n",
       "      <td>NaN</td>\n",
       "      <td>0</td>\n",
       "      <td>NaN</td>\n",
       "      <td>2023-08-02 12:18:14</td>\n",
       "    </tr>\n",
       "    <tr>\n",
       "      <th>2</th>\n",
       "      <td>2</td>\n",
       "      <td>2023-2316418</td>\n",
       "      <td>012003</td>\n",
       "      <td>1</td>\n",
       "      <td>10</td>\n",
       "      <td>NaN</td>\n",
       "      <td>0</td>\n",
       "      <td>NaN</td>\n",
       "      <td>2023-08-02 12:18:27</td>\n",
       "    </tr>\n",
       "    <tr>\n",
       "      <th>3</th>\n",
       "      <td>3</td>\n",
       "      <td>2023-2316418</td>\n",
       "      <td>012004</td>\n",
       "      <td>1</td>\n",
       "      <td>10</td>\n",
       "      <td>NaN</td>\n",
       "      <td>0</td>\n",
       "      <td>NaN</td>\n",
       "      <td>2023-08-02 12:17:27</td>\n",
       "    </tr>\n",
       "    <tr>\n",
       "      <th>4</th>\n",
       "      <td>4</td>\n",
       "      <td>2023-2316418</td>\n",
       "      <td>018001</td>\n",
       "      <td>1</td>\n",
       "      <td>10</td>\n",
       "      <td>NaN</td>\n",
       "      <td>0</td>\n",
       "      <td>NaN</td>\n",
       "      <td>2023-08-02 11:57:29</td>\n",
       "    </tr>\n",
       "  </tbody>\n",
       "</table>\n",
       "</div>"
      ],
      "text/plain": [
       "   Unnamed: 0           KNR    NAME  ID  STATUS UNIT VALUE_ID VALUE  \\\n",
       "0           0  2023-2316418  012001   1      10  NaN        0   NaN   \n",
       "1           1  2023-2316418  012002   1      10  NaN        0   NaN   \n",
       "2           2  2023-2316418  012003   1      10  NaN        0   NaN   \n",
       "3           3  2023-2316418  012004   1      10  NaN        0   NaN   \n",
       "4           4  2023-2316418  018001   1      10  NaN        0   NaN   \n",
       "\n",
       "                  DATA  \n",
       "0  2023-08-02 12:04:16  \n",
       "1  2023-08-02 12:18:14  \n",
       "2  2023-08-02 12:18:27  \n",
       "3  2023-08-02 12:17:27  \n",
       "4  2023-08-02 11:57:29  "
      ]
     },
     "execution_count": 34,
     "metadata": {},
     "output_type": "execute_result"
    }
   ],
   "source": [
    "df.head()"
   ]
  },
  {
   "cell_type": "code",
   "execution_count": 92,
   "id": "43680bbc-0716-493d-8745-5877c54988bd",
   "metadata": {
    "scrolled": true
   },
   "outputs": [],
   "source": [
    "df.drop(columns = 'Unnamed: 0', inplace=True)"
   ]
  },
  {
   "cell_type": "code",
   "execution_count": 95,
   "id": "0b48790e-7991-43d6-8bd2-7c929d6f34bd",
   "metadata": {},
   "outputs": [
    {
     "name": "stdout",
     "output_type": "stream",
     "text": [
      "Columns: ['KNR', 'NAME', 'ID', 'STATUS', 'UNIT', 'VALUE_ID', 'VALUE', 'DATA']\n"
     ]
    }
   ],
   "source": [
    "columns = df.columns.tolist()\n",
    "print(\"Columns:\", columns)"
   ]
  },
  {
   "cell_type": "markdown",
   "id": "725b1489-0bf7-4677-90a6-4eb7e9dedbfc",
   "metadata": {
    "jp-MarkdownHeadingCollapsed": true
   },
   "source": [
    "## Tirando coluna vazia"
   ]
  },
  {
   "cell_type": "code",
   "execution_count": 96,
   "id": "6016e0f0-1157-4b5d-8301-c2061f027889",
   "metadata": {},
   "outputs": [],
   "source": [
    "df = df.drop_duplicates()"
   ]
  },
  {
   "cell_type": "markdown",
   "id": "f034035f-e66a-47a5-a9f4-fc3bb383fc74",
   "metadata": {
    "jp-MarkdownHeadingCollapsed": true
   },
   "source": [
    "## Removendo nulos"
   ]
  },
  {
   "cell_type": "code",
   "execution_count": 97,
   "id": "a305e12b-b9d4-4a2e-983e-71b43708f2a7",
   "metadata": {},
   "outputs": [],
   "source": [
    "df = df.dropna()"
   ]
  },
  {
   "cell_type": "markdown",
   "id": "2074d5d3-0049-4bbe-8af8-f01ef31bf553",
   "metadata": {
    "jp-MarkdownHeadingCollapsed": true
   },
   "source": [
    "## Convertendo data de object pra datetime"
   ]
  },
  {
   "cell_type": "code",
   "execution_count": 98,
   "id": "e61ef01d-7539-4a7e-bf4f-00a7d7277daa",
   "metadata": {},
   "outputs": [],
   "source": [
    "df['DATA'] = pd.to_datetime(df['DATA'], errors='coerce')"
   ]
  },
  {
   "cell_type": "markdown",
   "id": "f3a83a88-6bcd-417b-895e-99b76340710b",
   "metadata": {
    "jp-MarkdownHeadingCollapsed": true
   },
   "source": [
    "## Criando as colunas por status e por id"
   ]
  },
  {
   "cell_type": "code",
   "execution_count": 99,
   "id": "72f923ab-4543-4415-aa01-dfa8ce965c06",
   "metadata": {},
   "outputs": [],
   "source": [
    "pivot_df = df.pivot_table(index='KNR', columns=[\"ID\", \"STATUS\"], aggfunc='size', fill_value=0)\n",
    "\n",
    "pivot_df.columns = [f'QTD_STATUS_{col[0]}_OK' if col[1]== 10 else f'QTD_STATUS_{col[0]}_NOK' for col in pivot_df.columns]\n",
    "\n",
    "pivot_df.reset_index(inplace=True)"
   ]
  },
  {
   "cell_type": "markdown",
   "id": "c6e1e1ab-ea4f-46f7-ba1d-c0ae630543ed",
   "metadata": {
    "jp-MarkdownHeadingCollapsed": true
   },
   "source": [
    "## Criando coluna de quantidade de operações por KNR, que, no caso, também é a soma dos status de cada resultado"
   ]
  },
  {
   "cell_type": "code",
   "execution_count": 100,
   "id": "2dd202b5-b5d9-4b24-bbc4-df5c92e524fa",
   "metadata": {},
   "outputs": [],
   "source": [
    "pivot_df[\"TEMPO_MEDIO\"] = df.groupby('KNR').DATA.transform('max') - df.groupby('KNR').DATA.transform('min')"
   ]
  },
  {
   "cell_type": "markdown",
   "id": "5e3afa3a-27de-4f69-941c-f8bf4a92b2c7",
   "metadata": {
    "jp-MarkdownHeadingCollapsed": true
   },
   "source": [
    "## Transformando tempo em minutos"
   ]
  },
  {
   "cell_type": "code",
   "execution_count": 101,
   "id": "892a44bb-ac56-4526-a35d-851134dfca10",
   "metadata": {},
   "outputs": [],
   "source": [
    "pivot_df[\"TEMPO_MEDIO\"] = pivot_df[\"TEMPO_MEDIO\"].dt.total_seconds()/60"
   ]
  },
  {
   "cell_type": "code",
   "execution_count": 102,
   "id": "8f6bf98b-43ab-424d-a7bd-f3a688474823",
   "metadata": {},
   "outputs": [
    {
     "data": {
      "text/html": [
       "<div>\n",
       "<style scoped>\n",
       "    .dataframe tbody tr th:only-of-type {\n",
       "        vertical-align: middle;\n",
       "    }\n",
       "\n",
       "    .dataframe tbody tr th {\n",
       "        vertical-align: top;\n",
       "    }\n",
       "\n",
       "    .dataframe thead th {\n",
       "        text-align: right;\n",
       "    }\n",
       "</style>\n",
       "<table border=\"1\" class=\"dataframe\">\n",
       "  <thead>\n",
       "    <tr style=\"text-align: right;\">\n",
       "      <th></th>\n",
       "      <th>KNR</th>\n",
       "      <th>QTD_STATUS_1_NOK</th>\n",
       "      <th>QTD_STATUS_1_NOK</th>\n",
       "      <th>QTD_STATUS_2_NOK</th>\n",
       "      <th>QTD_STATUS_2_NOK</th>\n",
       "      <th>QTD_STATUS_718_NOK</th>\n",
       "      <th>QTD_STATUS_718_NOK</th>\n",
       "      <th>TEMPO_MEDIO</th>\n",
       "    </tr>\n",
       "  </thead>\n",
       "  <tbody>\n",
       "    <tr>\n",
       "      <th>0</th>\n",
       "      <td>2023-2316418</td>\n",
       "      <td>2</td>\n",
       "      <td>0</td>\n",
       "      <td>727</td>\n",
       "      <td>0</td>\n",
       "      <td>32</td>\n",
       "      <td>0</td>\n",
       "      <td>NaN</td>\n",
       "    </tr>\n",
       "    <tr>\n",
       "      <th>1</th>\n",
       "      <td>2023-2316419</td>\n",
       "      <td>2</td>\n",
       "      <td>0</td>\n",
       "      <td>714</td>\n",
       "      <td>4</td>\n",
       "      <td>33</td>\n",
       "      <td>0</td>\n",
       "      <td>NaN</td>\n",
       "    </tr>\n",
       "    <tr>\n",
       "      <th>2</th>\n",
       "      <td>2023-2816173</td>\n",
       "      <td>0</td>\n",
       "      <td>0</td>\n",
       "      <td>0</td>\n",
       "      <td>0</td>\n",
       "      <td>1</td>\n",
       "      <td>0</td>\n",
       "      <td>NaN</td>\n",
       "    </tr>\n",
       "    <tr>\n",
       "      <th>3</th>\n",
       "      <td>2023-2826041</td>\n",
       "      <td>0</td>\n",
       "      <td>0</td>\n",
       "      <td>0</td>\n",
       "      <td>0</td>\n",
       "      <td>1</td>\n",
       "      <td>0</td>\n",
       "      <td>NaN</td>\n",
       "    </tr>\n",
       "    <tr>\n",
       "      <th>4</th>\n",
       "      <td>2023-2826097</td>\n",
       "      <td>0</td>\n",
       "      <td>0</td>\n",
       "      <td>0</td>\n",
       "      <td>0</td>\n",
       "      <td>1</td>\n",
       "      <td>0</td>\n",
       "      <td>NaN</td>\n",
       "    </tr>\n",
       "    <tr>\n",
       "      <th>5</th>\n",
       "      <td>2023-2826121</td>\n",
       "      <td>0</td>\n",
       "      <td>0</td>\n",
       "      <td>0</td>\n",
       "      <td>0</td>\n",
       "      <td>1</td>\n",
       "      <td>4</td>\n",
       "      <td>NaN</td>\n",
       "    </tr>\n",
       "    <tr>\n",
       "      <th>6</th>\n",
       "      <td>2023-2826215</td>\n",
       "      <td>0</td>\n",
       "      <td>0</td>\n",
       "      <td>0</td>\n",
       "      <td>0</td>\n",
       "      <td>1</td>\n",
       "      <td>0</td>\n",
       "      <td>NaN</td>\n",
       "    </tr>\n",
       "    <tr>\n",
       "      <th>7</th>\n",
       "      <td>2023-2826241</td>\n",
       "      <td>0</td>\n",
       "      <td>0</td>\n",
       "      <td>0</td>\n",
       "      <td>0</td>\n",
       "      <td>1</td>\n",
       "      <td>0</td>\n",
       "      <td>NaN</td>\n",
       "    </tr>\n",
       "    <tr>\n",
       "      <th>8</th>\n",
       "      <td>2023-2826305</td>\n",
       "      <td>0</td>\n",
       "      <td>0</td>\n",
       "      <td>0</td>\n",
       "      <td>0</td>\n",
       "      <td>1</td>\n",
       "      <td>1</td>\n",
       "      <td>489.933333</td>\n",
       "    </tr>\n",
       "    <tr>\n",
       "      <th>9</th>\n",
       "      <td>2023-2836050</td>\n",
       "      <td>0</td>\n",
       "      <td>0</td>\n",
       "      <td>6</td>\n",
       "      <td>0</td>\n",
       "      <td>33</td>\n",
       "      <td>0</td>\n",
       "      <td>489.933333</td>\n",
       "    </tr>\n",
       "    <tr>\n",
       "      <th>10</th>\n",
       "      <td>2023-2836148</td>\n",
       "      <td>0</td>\n",
       "      <td>0</td>\n",
       "      <td>4</td>\n",
       "      <td>0</td>\n",
       "      <td>33</td>\n",
       "      <td>0</td>\n",
       "      <td>489.933333</td>\n",
       "    </tr>\n",
       "    <tr>\n",
       "      <th>11</th>\n",
       "      <td>2023-2836159</td>\n",
       "      <td>0</td>\n",
       "      <td>0</td>\n",
       "      <td>0</td>\n",
       "      <td>0</td>\n",
       "      <td>1</td>\n",
       "      <td>0</td>\n",
       "      <td>489.933333</td>\n",
       "    </tr>\n",
       "    <tr>\n",
       "      <th>12</th>\n",
       "      <td>2023-2836233</td>\n",
       "      <td>0</td>\n",
       "      <td>0</td>\n",
       "      <td>0</td>\n",
       "      <td>0</td>\n",
       "      <td>1</td>\n",
       "      <td>0</td>\n",
       "      <td>489.933333</td>\n",
       "    </tr>\n",
       "    <tr>\n",
       "      <th>13</th>\n",
       "      <td>2023-2836249</td>\n",
       "      <td>0</td>\n",
       "      <td>0</td>\n",
       "      <td>0</td>\n",
       "      <td>0</td>\n",
       "      <td>1</td>\n",
       "      <td>1</td>\n",
       "      <td>489.933333</td>\n",
       "    </tr>\n",
       "    <tr>\n",
       "      <th>14</th>\n",
       "      <td>2023-2846087</td>\n",
       "      <td>0</td>\n",
       "      <td>0</td>\n",
       "      <td>0</td>\n",
       "      <td>0</td>\n",
       "      <td>1</td>\n",
       "      <td>2</td>\n",
       "      <td>489.933333</td>\n",
       "    </tr>\n",
       "    <tr>\n",
       "      <th>15</th>\n",
       "      <td>2023-2846095</td>\n",
       "      <td>0</td>\n",
       "      <td>0</td>\n",
       "      <td>0</td>\n",
       "      <td>0</td>\n",
       "      <td>1</td>\n",
       "      <td>1</td>\n",
       "      <td>489.933333</td>\n",
       "    </tr>\n",
       "    <tr>\n",
       "      <th>16</th>\n",
       "      <td>2023-2846138</td>\n",
       "      <td>0</td>\n",
       "      <td>0</td>\n",
       "      <td>0</td>\n",
       "      <td>0</td>\n",
       "      <td>1</td>\n",
       "      <td>0</td>\n",
       "      <td>489.933333</td>\n",
       "    </tr>\n",
       "    <tr>\n",
       "      <th>17</th>\n",
       "      <td>2023-2846142</td>\n",
       "      <td>0</td>\n",
       "      <td>0</td>\n",
       "      <td>0</td>\n",
       "      <td>0</td>\n",
       "      <td>1</td>\n",
       "      <td>1</td>\n",
       "      <td>489.933333</td>\n",
       "    </tr>\n",
       "    <tr>\n",
       "      <th>18</th>\n",
       "      <td>2023-2846215</td>\n",
       "      <td>0</td>\n",
       "      <td>0</td>\n",
       "      <td>0</td>\n",
       "      <td>0</td>\n",
       "      <td>1</td>\n",
       "      <td>2</td>\n",
       "      <td>489.933333</td>\n",
       "    </tr>\n",
       "    <tr>\n",
       "      <th>19</th>\n",
       "      <td>2023-2846228</td>\n",
       "      <td>0</td>\n",
       "      <td>0</td>\n",
       "      <td>4</td>\n",
       "      <td>0</td>\n",
       "      <td>34</td>\n",
       "      <td>1</td>\n",
       "      <td>489.933333</td>\n",
       "    </tr>\n",
       "  </tbody>\n",
       "</table>\n",
       "</div>"
      ],
      "text/plain": [
       "             KNR  QTD_STATUS_1_NOK  QTD_STATUS_1_NOK  QTD_STATUS_2_NOK  \\\n",
       "0   2023-2316418                 2                 0               727   \n",
       "1   2023-2316419                 2                 0               714   \n",
       "2   2023-2816173                 0                 0                 0   \n",
       "3   2023-2826041                 0                 0                 0   \n",
       "4   2023-2826097                 0                 0                 0   \n",
       "5   2023-2826121                 0                 0                 0   \n",
       "6   2023-2826215                 0                 0                 0   \n",
       "7   2023-2826241                 0                 0                 0   \n",
       "8   2023-2826305                 0                 0                 0   \n",
       "9   2023-2836050                 0                 0                 6   \n",
       "10  2023-2836148                 0                 0                 4   \n",
       "11  2023-2836159                 0                 0                 0   \n",
       "12  2023-2836233                 0                 0                 0   \n",
       "13  2023-2836249                 0                 0                 0   \n",
       "14  2023-2846087                 0                 0                 0   \n",
       "15  2023-2846095                 0                 0                 0   \n",
       "16  2023-2846138                 0                 0                 0   \n",
       "17  2023-2846142                 0                 0                 0   \n",
       "18  2023-2846215                 0                 0                 0   \n",
       "19  2023-2846228                 0                 0                 4   \n",
       "\n",
       "    QTD_STATUS_2_NOK  QTD_STATUS_718_NOK  QTD_STATUS_718_NOK  TEMPO_MEDIO  \n",
       "0                  0                  32                   0          NaN  \n",
       "1                  4                  33                   0          NaN  \n",
       "2                  0                   1                   0          NaN  \n",
       "3                  0                   1                   0          NaN  \n",
       "4                  0                   1                   0          NaN  \n",
       "5                  0                   1                   4          NaN  \n",
       "6                  0                   1                   0          NaN  \n",
       "7                  0                   1                   0          NaN  \n",
       "8                  0                   1                   1   489.933333  \n",
       "9                  0                  33                   0   489.933333  \n",
       "10                 0                  33                   0   489.933333  \n",
       "11                 0                   1                   0   489.933333  \n",
       "12                 0                   1                   0   489.933333  \n",
       "13                 0                   1                   1   489.933333  \n",
       "14                 0                   1                   2   489.933333  \n",
       "15                 0                   1                   1   489.933333  \n",
       "16                 0                   1                   0   489.933333  \n",
       "17                 0                   1                   1   489.933333  \n",
       "18                 0                   1                   2   489.933333  \n",
       "19                 0                  34                   1   489.933333  "
      ]
     },
     "execution_count": 102,
     "metadata": {},
     "output_type": "execute_result"
    }
   ],
   "source": [
    "pivot_df.head(20)"
   ]
  },
  {
   "cell_type": "code",
   "execution_count": null,
   "id": "30040f9c-edc4-4a47-bffa-cc2cf57c251a",
   "metadata": {},
   "outputs": [],
   "source": []
  }
 ],
 "metadata": {
  "kernelspec": {
   "display_name": "Python 3 (ipykernel)",
   "language": "python",
   "name": "python3"
  },
  "language_info": {
   "codemirror_mode": {
    "name": "ipython",
    "version": 3
   },
   "file_extension": ".py",
   "mimetype": "text/x-python",
   "name": "python",
   "nbconvert_exporter": "python",
   "pygments_lexer": "ipython3",
   "version": "3.11.1"
  }
 },
 "nbformat": 4,
 "nbformat_minor": 5
}
