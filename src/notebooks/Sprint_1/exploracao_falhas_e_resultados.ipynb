{
 "cells": [
  {
   "cell_type": "markdown",
   "id": "262d6c77-8853-42b5-b77e-89871fb6ebe5",
   "metadata": {},
   "source": [
    "# Exploração dos dados\n",
    "\n",
    "### Bases utilizadas:\n",
    "Falhas: https://docs.google.com/spreadsheets/d/1ZuUA4QvWRBrtmXjXNlOVR5nxebpxXa67/edit?gid=97258327#gid=97258327\n",
    "Resultados: https://drive.google.com/file/d/1yqyhJG2N6APHOby6xHPbnVduhpFyrzP7/view?usp=sharing"
   ]
  },
  {
   "cell_type": "markdown",
   "id": "038562f6-90f3-436d-aed2-69292189ee4b",
   "metadata": {},
   "source": [
    "## Instalando e importando bibliotecas"
   ]
  },
  {
   "cell_type": "code",
   "execution_count": null,
   "id": "fcc6cbe5-d45c-4441-8e7f-013e2fc55013",
   "metadata": {},
   "outputs": [],
   "source": [
    "pip install ydata-profiling matplotlib ipywidgets pandas"
   ]
  },
  {
   "cell_type": "code",
   "execution_count": 1,
   "id": "ff89502e-bc59-46bc-a400-fd236c1c122d",
   "metadata": {},
   "outputs": [],
   "source": [
    "import pandas as pd"
   ]
  },
  {
   "cell_type": "code",
   "execution_count": 2,
   "id": "119fa690-af08-4992-94e2-302b53f6d474",
   "metadata": {},
   "outputs": [],
   "source": [
    "from ydata_profiling import ProfileReport"
   ]
  },
  {
   "cell_type": "code",
   "execution_count": null,
   "id": "df2005dc-cfff-4cca-86e3-081ac260beb6",
   "metadata": {},
   "outputs": [],
   "source": [
    "import matplotlib.pyplot as plt\n",
    "import seaborn as sns"
   ]
  },
  {
   "cell_type": "markdown",
   "id": "81481574-e650-4f7f-aac2-4be82385b9ac",
   "metadata": {},
   "source": [
    "## Importando datasets"
   ]
  },
  {
   "cell_type": "code",
   "execution_count": 4,
   "id": "8db1d7b4-31d7-4f75-9abd-56263e537c02",
   "metadata": {},
   "outputs": [],
   "source": [
    "df_resultados = pd.read_csv('RESULTADOS_04_06_2024_full_teste.csv', compression='gzip')"
   ]
  },
  {
   "cell_type": "code",
   "execution_count": 5,
   "id": "75eb1544-7262-4860-b86d-762b95684b2d",
   "metadata": {},
   "outputs": [],
   "source": [
    "df_falhas = pd.read_csv('FALHAS_04_05_06_2024_Relatorio_1.csv')"
   ]
  },
  {
   "cell_type": "markdown",
   "id": "199cd013-6a85-4144-bf06-13cf4e898ae9",
   "metadata": {},
   "source": [
    "## Explorando tabela de resultados"
   ]
  },
  {
   "cell_type": "code",
   "execution_count": null,
   "id": "61e6a84a-08eb-4cac-bb66-86193408731b",
   "metadata": {
    "scrolled": true
   },
   "outputs": [],
   "source": [
    "df_resultados.head(20)"
   ]
  },
  {
   "cell_type": "markdown",
   "id": "594406bc-e7a5-4dd7-82cb-87eba4ba2e6a",
   "metadata": {},
   "source": [
    "### Ajustando dataframe de resultados"
   ]
  },
  {
   "cell_type": "code",
   "execution_count": 6,
   "id": "657b20a6-e789-40ef-9a85-c1364db6f27d",
   "metadata": {},
   "outputs": [],
   "source": [
    "df_resultados = df_resultados.drop(columns=['Unnamed: 0'])"
   ]
  },
  {
   "cell_type": "markdown",
   "id": "57f99e55-f2a2-416b-aca6-5a5aca5db68c",
   "metadata": {
    "jp-MarkdownHeadingCollapsed": true
   },
   "source": [
    "### Avaliando features"
   ]
  },
  {
   "cell_type": "code",
   "execution_count": null,
   "id": "a96abcc7-22e8-4394-ab85-d386c4733753",
   "metadata": {},
   "outputs": [],
   "source": [
    "df.describe()"
   ]
  },
  {
   "cell_type": "code",
   "execution_count": null,
   "id": "d15ffcb0-54a6-4617-b543-8707de64abe7",
   "metadata": {},
   "outputs": [],
   "source": [
    "profile_resultados = ProfileReport(df_resultados, title='Relatório de Análise Descritiva - Resultados', explorative=True)\n",
    "\n",
    "profile_resultados.to_file(\"relatorio_analise_descritiva_resultados.html\")"
   ]
  },
  {
   "cell_type": "code",
   "execution_count": null,
   "id": "cb78ec12-e120-40dc-8dcb-5566a31d3b7b",
   "metadata": {},
   "outputs": [],
   "source": [
    "df_resultados['KNR'].value_counts()"
   ]
  },
  {
   "cell_type": "code",
   "execution_count": null,
   "id": "afda56b5-c086-4e1d-aa5d-1135ea1e67f2",
   "metadata": {},
   "outputs": [],
   "source": [
    "df_resultados[df_resultados['ID'] == 718].head()"
   ]
  },
  {
   "cell_type": "code",
   "execution_count": null,
   "id": "4d77e90d-a7cd-47b5-b331-03cb230b08db",
   "metadata": {},
   "outputs": [],
   "source": [
    "df_resaultados['NAME'].value_counts()"
   ]
  },
  {
   "cell_type": "code",
   "execution_count": null,
   "id": "59aa69a3-01a1-470f-b0f8-d9cb400434dd",
   "metadata": {},
   "outputs": [],
   "source": [
    "df_resultados[df_resultados['NAME'] =='730100']['ID'].value_counts()"
   ]
  },
  {
   "cell_type": "code",
   "execution_count": null,
   "id": "0a1d07a0-9958-4e31-b1b4-44cfa7574d2a",
   "metadata": {},
   "outputs": [],
   "source": [
    "df_falha = df[df['STATUS'] == 13]"
   ]
  },
  {
   "cell_type": "markdown",
   "id": "e0e360ea-6381-4834-b4ae-8536d1e96fc8",
   "metadata": {},
   "source": [
    "## Explorando tabela de falhas"
   ]
  },
  {
   "cell_type": "code",
   "execution_count": null,
   "id": "1f327acd-fbd5-46ce-8c8a-71832516db0a",
   "metadata": {},
   "outputs": [],
   "source": [
    "df_falhas.head()"
   ]
  },
  {
   "cell_type": "markdown",
   "id": "6b496c05-b17a-4a32-b393-32bbb73e4f60",
   "metadata": {},
   "source": [
    "### Ajustando dataframe de resultados"
   ]
  },
  {
   "cell_type": "code",
   "execution_count": 7,
   "id": "4d01cdd5-61b0-4697-9369-3e46411202c4",
   "metadata": {},
   "outputs": [],
   "source": [
    "df_falhas = df_falhas.dropna(axis=1, how='all')"
   ]
  },
  {
   "cell_type": "code",
   "execution_count": 8,
   "id": "7237d020-45cc-4d63-b0c4-04426fd7f961",
   "metadata": {},
   "outputs": [],
   "source": [
    "df_falhas.columns = df_falhas.iloc[0]\n",
    "df_falhas.drop(columns=[\"MODELO\"], inplace=True)\n",
    "df_falhas.drop(df_falhas.index[0], inplace=True)"
   ]
  },
  {
   "cell_type": "code",
   "execution_count": 9,
   "id": "6f3b7759-71e5-4f41-93ee-032fead6949d",
   "metadata": {},
   "outputs": [
    {
     "data": {
      "text/html": [
       "<div>\n",
       "<style scoped>\n",
       "    .dataframe tbody tr th:only-of-type {\n",
       "        vertical-align: middle;\n",
       "    }\n",
       "\n",
       "    .dataframe tbody tr th {\n",
       "        vertical-align: top;\n",
       "    }\n",
       "\n",
       "    .dataframe thead th {\n",
       "        text-align: right;\n",
       "    }\n",
       "</style>\n",
       "<table border=\"1\" class=\"dataframe\">\n",
       "  <thead>\n",
       "    <tr style=\"text-align: right;\">\n",
       "      <th></th>\n",
       "      <th>KNR</th>\n",
       "      <th>COR</th>\n",
       "      <th>MOTOR</th>\n",
       "      <th>ESTACAO</th>\n",
       "      <th>USUARIO</th>\n",
       "      <th>HALLE</th>\n",
       "      <th>FALHA</th>\n",
       "      <th>DATA</th>\n",
       "    </tr>\n",
       "  </thead>\n",
       "  <tbody>\n",
       "    <tr>\n",
       "      <th>1</th>\n",
       "      <td>2023-2056234</td>\n",
       "      <td>2R2R</td>\n",
       "      <td>DHS</td>\n",
       "      <td>HCEQS506</td>\n",
       "      <td>4013334</td>\n",
       "      <td>ZP7</td>\n",
       "      <td>PARALAMA DIANTEIRO 01. AMASSADO</td>\n",
       "      <td>20/5/2024 21:31:52</td>\n",
       "    </tr>\n",
       "    <tr>\n",
       "      <th>2</th>\n",
       "      <td>2023-2056234</td>\n",
       "      <td>2R2R</td>\n",
       "      <td>DHS</td>\n",
       "      <td>HCEQS506</td>\n",
       "      <td>4013334</td>\n",
       "      <td>ZP7</td>\n",
       "      <td>PORTA TRASEIRA 04. CAROÇO / PICO</td>\n",
       "      <td>20/5/2024 21:30:23</td>\n",
       "    </tr>\n",
       "    <tr>\n",
       "      <th>3</th>\n",
       "      <td>2023-2056234</td>\n",
       "      <td>2R2R</td>\n",
       "      <td>DHS</td>\n",
       "      <td>PCEQS620</td>\n",
       "      <td>2058570</td>\n",
       "      <td>ZP6</td>\n",
       "      <td>MÓDULO DO ACC (13) PEÇA INCORRETA ¨</td>\n",
       "      <td>20/5/2024 20:04:56</td>\n",
       "    </tr>\n",
       "    <tr>\n",
       "      <th>4</th>\n",
       "      <td>2023-2056234</td>\n",
       "      <td>2R2R</td>\n",
       "      <td>DHS</td>\n",
       "      <td>PCEQS999</td>\n",
       "      <td>2087715</td>\n",
       "      <td>ESPC</td>\n",
       "      <td>TAMPA TRASEIRA 05. SUJEIRA NA PINTURA</td>\n",
       "      <td>11/4/2024 12:15:40</td>\n",
       "    </tr>\n",
       "    <tr>\n",
       "      <th>5</th>\n",
       "      <td>2023-3896001</td>\n",
       "      <td>0Q0Q</td>\n",
       "      <td></td>\n",
       "      <td>HCEQS203</td>\n",
       "      <td>2043971</td>\n",
       "      <td>ZP5A</td>\n",
       "      <td>TAMPA DIANTEIRA 05. SUJEIRA NA PINTURA</td>\n",
       "      <td>5/6/2024 17:38:52</td>\n",
       "    </tr>\n",
       "  </tbody>\n",
       "</table>\n",
       "</div>"
      ],
      "text/plain": [
       "0           KNR   COR MOTOR   ESTACAO  USUARIO HALLE  \\\n",
       "1  2023-2056234  2R2R   DHS  HCEQS506  4013334  ZP7    \n",
       "2  2023-2056234  2R2R   DHS  HCEQS506  4013334  ZP7    \n",
       "3  2023-2056234  2R2R   DHS  PCEQS620  2058570  ZP6    \n",
       "4  2023-2056234  2R2R   DHS  PCEQS999  2087715  ESPC   \n",
       "5  2023-3896001  0Q0Q        HCEQS203  2043971  ZP5A   \n",
       "\n",
       "0                                   FALHA                DATA  \n",
       "1         PARALAMA DIANTEIRO 01. AMASSADO  20/5/2024 21:31:52  \n",
       "2        PORTA TRASEIRA 04. CAROÇO / PICO  20/5/2024 21:30:23  \n",
       "3     MÓDULO DO ACC (13) PEÇA INCORRETA ¨  20/5/2024 20:04:56  \n",
       "4   TAMPA TRASEIRA 05. SUJEIRA NA PINTURA  11/4/2024 12:15:40  \n",
       "5  TAMPA DIANTEIRA 05. SUJEIRA NA PINTURA   5/6/2024 17:38:52  "
      ]
     },
     "execution_count": 9,
     "metadata": {},
     "output_type": "execute_result"
    }
   ],
   "source": [
    "df_falhas.head()"
   ]
  },
  {
   "cell_type": "markdown",
   "id": "889e9834-2f1d-42e6-9232-820cfd58ef60",
   "metadata": {},
   "source": [
    "### Avaliando features"
   ]
  },
  {
   "cell_type": "code",
   "execution_count": null,
   "id": "e6b0519f-8d88-4402-bb5e-37551dcc2c02",
   "metadata": {},
   "outputs": [],
   "source": [
    "df_falhas.describe()"
   ]
  },
  {
   "cell_type": "code",
   "execution_count": null,
   "id": "85c3c75d-2c18-4e73-9365-f8348d1918f9",
   "metadata": {},
   "outputs": [],
   "source": [
    "profile_falhas = ProfileReport(df_falhas, title='Relatório de Análise Descritiva - Falhas', explorative=True)\n",
    "\n",
    "\n",
    "profile_falhas.to_file(\"relatorio_analise_descritiva_falhas.html\")"
   ]
  },
  {
   "cell_type": "markdown",
   "id": "a6d75bf9-0556-4c8f-b1dc-96666368ef5d",
   "metadata": {},
   "source": [
    "## Juntando dataframes"
   ]
  },
  {
   "cell_type": "markdown",
   "id": "f4ce8389-0cf7-4442-b7fb-5f5e161e30af",
   "metadata": {
    "jp-MarkdownHeadingCollapsed": true
   },
   "source": [
    "### Testando com 1 KNR\n",
    "\n",
    "KNR escolhido: 2023-2056234"
   ]
  },
  {
   "cell_type": "code",
   "execution_count": null,
   "id": "f190710c-f5b2-4bb1-b35a-1681cfdde916",
   "metadata": {},
   "outputs": [],
   "source": [
    "df_r1 = df_resultados[df_resultados['KNR'] == '2023-2056234']"
   ]
  },
  {
   "cell_type": "code",
   "execution_count": null,
   "id": "3199d2d8-83fe-4828-8cd0-2f1e2331b90d",
   "metadata": {},
   "outputs": [],
   "source": [
    "df_f1 = df_falhas[df_falhas['KNR'] == '2023-2056234']"
   ]
  },
  {
   "cell_type": "code",
   "execution_count": null,
   "id": "7cddb1d6-2979-463d-9d32-aee3286adb22",
   "metadata": {},
   "outputs": [],
   "source": [
    "df_2 = pd.merge(df_r1, df_f1, on=\"KNR\")"
   ]
  },
  {
   "cell_type": "code",
   "execution_count": null,
   "id": "5acc88e1-9550-4fdd-8873-3b11b94c1054",
   "metadata": {},
   "outputs": [],
   "source": [
    "df_2.head()"
   ]
  },
  {
   "cell_type": "markdown",
   "id": "230c1a64-7522-45bc-9a3f-f5d923fe861a",
   "metadata": {},
   "source": [
    "### Merge nos dataframes"
   ]
  },
  {
   "cell_type": "code",
   "execution_count": 10,
   "id": "e04e356b-3a92-4aae-854e-2af55d34cf2b",
   "metadata": {},
   "outputs": [],
   "source": [
    "df_falhas.to_csv(\"falhas.csv\", index_label=False)"
   ]
  },
  {
   "cell_type": "code",
   "execution_count": 11,
   "id": "2a2ee04f-bd37-48a2-ba02-7aab01c4c124",
   "metadata": {},
   "outputs": [],
   "source": [
    "df_resultados.to_csv(\"resultados.csv\", index_label=False)"
   ]
  },
  {
   "cell_type": "code",
   "execution_count": 12,
   "id": "2dac14f6-7444-4593-bc98-ae1c2104f3b6",
   "metadata": {},
   "outputs": [],
   "source": [
    "df_3 = pd.DataFrame(columns=(df_falhas.columns.append(df_resultados.columns)).unique())\n",
    "df_3.to_csv(\"df3.csv\",index_label=False)\n"
   ]
  },
  {
   "cell_type": "code",
   "execution_count": 13,
   "id": "583b65f8-a6d9-4fab-831f-5e2f6b6c4e64",
   "metadata": {},
   "outputs": [],
   "source": [
    "del(df_resultados)"
   ]
  },
  {
   "cell_type": "code",
   "execution_count": null,
   "id": "5c777dfc-510f-4519-921e-d185bb5b178b",
   "metadata": {},
   "outputs": [],
   "source": [
    "df = pd.merge(df_resultados, df_falhas, on=\"KNR\")"
   ]
  },
  {
   "cell_type": "code",
   "execution_count": 14,
   "id": "42217208-7080-4f66-bc00-61b5798e922c",
   "metadata": {},
   "outputs": [],
   "source": [
    "def preprocess(x):\n",
    "    df3=pd.merge(df_falhas,x, on=\"KNR\")\n",
    "    df3.to_csv(\"df3.csv\",mode=\"a\",header=False,index=False)"
   ]
  },
  {
   "cell_type": "code",
   "execution_count": null,
   "id": "7169d4cc-e331-4f3d-a492-f582b1816378",
   "metadata": {},
   "outputs": [],
   "source": [
    "reader = pd.read_csv(\"resultados.csv\", chunksize=1000)\n",
    "\n",
    "[preprocess(r) for r in reader]"
   ]
  },
  {
   "cell_type": "code",
   "execution_count": null,
   "id": "b5d94637-3985-461c-902d-f460f2140c67",
   "metadata": {},
   "outputs": [],
   "source": [
    "d3 = pd.read_csv('df3.csv')"
   ]
  },
  {
   "cell_type": "code",
   "execution_count": null,
   "id": "4d305510-91d3-45ee-a923-f8d3b2870c4b",
   "metadata": {},
   "outputs": [],
   "source": [
    "d3.head()"
   ]
  },
  {
   "cell_type": "markdown",
   "id": "00a6161e-7ae6-47e9-9f31-9f16927996ab",
   "metadata": {},
   "source": [
    "# Nova abordagem \n",
    "\n",
    "bases usadas: \n",
    "\n",
    "falhas: https://drive.google.com/file/d/1d2mEz7-FUeNwvAUNyJbkfQXW_NoPwUxB/view?usp=sharing\n",
    "resultados: https://drive.google.com/file/d/1hLCTb4Ov7fYCS0L_rAteeD4q3Xz1QKNr/view?usp=sharing"
   ]
  },
  {
   "cell_type": "code",
   "execution_count": null,
   "id": "6f9acffd-0ea9-46ee-8f9e-1720fdb1d8ea",
   "metadata": {},
   "outputs": [],
   "source": [
    "pip install pyarrow"
   ]
  },
  {
   "cell_type": "code",
   "execution_count": 1,
   "id": "83e75bf9-ff05-4cb3-bf2d-ffbe33ddf4eb",
   "metadata": {},
   "outputs": [],
   "source": [
    "import pandas as pd"
   ]
  },
  {
   "cell_type": "code",
   "execution_count": 2,
   "id": "99fa6700-91ad-4a1e-91e3-63d48184684b",
   "metadata": {},
   "outputs": [],
   "source": [
    "import pyarrow"
   ]
  },
  {
   "cell_type": "code",
   "execution_count": 3,
   "id": "9abe2038-8d31-435b-abd2-eef1ca91b547",
   "metadata": {},
   "outputs": [],
   "source": [
    "df_falhas = pd.read_parquet(\"../datasets/FALHAS_04_05_06_2024.parquet\", engine='pyarrow')"
   ]
  },
  {
   "cell_type": "code",
   "execution_count": 4,
   "id": "60e1ed37-d780-4c6e-b93e-3bd7775ce573",
   "metadata": {},
   "outputs": [
    {
     "data": {
      "text/html": [
       "<div>\n",
       "<style scoped>\n",
       "    .dataframe tbody tr th:only-of-type {\n",
       "        vertical-align: middle;\n",
       "    }\n",
       "\n",
       "    .dataframe tbody tr th {\n",
       "        vertical-align: top;\n",
       "    }\n",
       "\n",
       "    .dataframe thead th {\n",
       "        text-align: right;\n",
       "    }\n",
       "</style>\n",
       "<table border=\"1\" class=\"dataframe\">\n",
       "  <thead>\n",
       "    <tr style=\"text-align: right;\">\n",
       "      <th></th>\n",
       "      <th>Unnamed: 0</th>\n",
       "      <th>Unnamed: 1</th>\n",
       "      <th>Unnamed: 2</th>\n",
       "      <th>Unnamed: 3</th>\n",
       "      <th>Unnamed: 4</th>\n",
       "      <th>Unnamed: 5</th>\n",
       "      <th>Unnamed: 6</th>\n",
       "      <th>Unnamed: 7</th>\n",
       "      <th>Unnamed: 8</th>\n",
       "      <th>Unnamed: 9</th>\n",
       "    </tr>\n",
       "  </thead>\n",
       "  <tbody>\n",
       "    <tr>\n",
       "      <th>0</th>\n",
       "      <td>NaN</td>\n",
       "      <td>KNR</td>\n",
       "      <td>MODELO</td>\n",
       "      <td>COR</td>\n",
       "      <td>MOTOR</td>\n",
       "      <td>ESTACAO</td>\n",
       "      <td>USUARIO</td>\n",
       "      <td>HALLE</td>\n",
       "      <td>FALHA</td>\n",
       "      <td>DATA</td>\n",
       "    </tr>\n",
       "    <tr>\n",
       "      <th>1</th>\n",
       "      <td>NaN</td>\n",
       "      <td>2023-2056234</td>\n",
       "      <td>T-CROSS</td>\n",
       "      <td>2R2R</td>\n",
       "      <td>DHS</td>\n",
       "      <td>HCEQS506</td>\n",
       "      <td>4013334</td>\n",
       "      <td>ZP7</td>\n",
       "      <td>PARALAMA DIANTEIRO 01. AMASSADO</td>\n",
       "      <td>20/5/2024 21:31:52</td>\n",
       "    </tr>\n",
       "    <tr>\n",
       "      <th>2</th>\n",
       "      <td>NaN</td>\n",
       "      <td>2023-2056234</td>\n",
       "      <td>T-CROSS</td>\n",
       "      <td>2R2R</td>\n",
       "      <td>DHS</td>\n",
       "      <td>HCEQS506</td>\n",
       "      <td>4013334</td>\n",
       "      <td>ZP7</td>\n",
       "      <td>PORTA TRASEIRA 04. CAROÇO / PICO</td>\n",
       "      <td>20/5/2024 21:30:23</td>\n",
       "    </tr>\n",
       "    <tr>\n",
       "      <th>3</th>\n",
       "      <td>NaN</td>\n",
       "      <td>2023-2056234</td>\n",
       "      <td>T-CROSS</td>\n",
       "      <td>2R2R</td>\n",
       "      <td>DHS</td>\n",
       "      <td>PCEQS620</td>\n",
       "      <td>2058570</td>\n",
       "      <td>ZP6</td>\n",
       "      <td>MÓDULO DO ACC (13) PEÇA INCORRETA ¨</td>\n",
       "      <td>20/5/2024 20:04:56</td>\n",
       "    </tr>\n",
       "    <tr>\n",
       "      <th>4</th>\n",
       "      <td>NaN</td>\n",
       "      <td>2023-2056234</td>\n",
       "      <td>T-CROSS</td>\n",
       "      <td>2R2R</td>\n",
       "      <td>DHS</td>\n",
       "      <td>PCEQS999</td>\n",
       "      <td>2087715</td>\n",
       "      <td>ESPC</td>\n",
       "      <td>TAMPA TRASEIRA 05. SUJEIRA NA PINTURA</td>\n",
       "      <td>11/4/2024 12:15:40</td>\n",
       "    </tr>\n",
       "  </tbody>\n",
       "</table>\n",
       "</div>"
      ],
      "text/plain": [
       "   Unnamed: 0    Unnamed: 1 Unnamed: 2 Unnamed: 3 Unnamed: 4 Unnamed: 5  \\\n",
       "0         NaN           KNR     MODELO        COR      MOTOR    ESTACAO   \n",
       "1         NaN  2023-2056234    T-CROSS       2R2R        DHS   HCEQS506   \n",
       "2         NaN  2023-2056234    T-CROSS       2R2R        DHS   HCEQS506   \n",
       "3         NaN  2023-2056234    T-CROSS       2R2R        DHS   PCEQS620   \n",
       "4         NaN  2023-2056234    T-CROSS       2R2R        DHS   PCEQS999   \n",
       "\n",
       "  Unnamed: 6 Unnamed: 7                             Unnamed: 8  \\\n",
       "0    USUARIO      HALLE                                  FALHA   \n",
       "1    4013334       ZP7         PARALAMA DIANTEIRO 01. AMASSADO   \n",
       "2    4013334       ZP7        PORTA TRASEIRA 04. CAROÇO / PICO   \n",
       "3    2058570       ZP6     MÓDULO DO ACC (13) PEÇA INCORRETA ¨   \n",
       "4    2087715       ESPC  TAMPA TRASEIRA 05. SUJEIRA NA PINTURA   \n",
       "\n",
       "           Unnamed: 9  \n",
       "0                DATA  \n",
       "1  20/5/2024 21:31:52  \n",
       "2  20/5/2024 21:30:23  \n",
       "3  20/5/2024 20:04:56  \n",
       "4  11/4/2024 12:15:40  "
      ]
     },
     "execution_count": 4,
     "metadata": {},
     "output_type": "execute_result"
    }
   ],
   "source": [
    "df_falhas.head()"
   ]
  },
  {
   "cell_type": "code",
   "execution_count": 5,
   "id": "21a5c6ba-e8b7-4466-b6e5-561c9de141e0",
   "metadata": {},
   "outputs": [],
   "source": [
    "df_falhas = df_falhas.dropna(axis=1, how='all')"
   ]
  },
  {
   "cell_type": "code",
   "execution_count": 6,
   "id": "4de5951c-e42a-4c82-a029-2bfa3c589deb",
   "metadata": {},
   "outputs": [],
   "source": [
    "df_falhas.columns = df_falhas.iloc[0]\n",
    "df_falhas.drop(columns=[\"MODELO\"], inplace=True)\n",
    "df_falhas.drop(df_falhas.index[0], inplace=True)"
   ]
  },
  {
   "cell_type": "code",
   "execution_count": 7,
   "id": "f3475ec4-a3da-4a4a-b074-24a2d6cae199",
   "metadata": {},
   "outputs": [],
   "source": [
    "df_falhas[\"FALHA\"] = df_falhas[\"FALHA\"].str.upper()"
   ]
  },
  {
   "cell_type": "code",
   "execution_count": 8,
   "id": "f2c80c7e-8d84-4467-b3f5-3e0fed5b23cc",
   "metadata": {},
   "outputs": [
    {
     "data": {
      "text/html": [
       "<div>\n",
       "<style scoped>\n",
       "    .dataframe tbody tr th:only-of-type {\n",
       "        vertical-align: middle;\n",
       "    }\n",
       "\n",
       "    .dataframe tbody tr th {\n",
       "        vertical-align: top;\n",
       "    }\n",
       "\n",
       "    .dataframe thead th {\n",
       "        text-align: right;\n",
       "    }\n",
       "</style>\n",
       "<table border=\"1\" class=\"dataframe\">\n",
       "  <thead>\n",
       "    <tr style=\"text-align: right;\">\n",
       "      <th></th>\n",
       "      <th>KNR</th>\n",
       "      <th>COR</th>\n",
       "      <th>MOTOR</th>\n",
       "      <th>ESTACAO</th>\n",
       "      <th>USUARIO</th>\n",
       "      <th>HALLE</th>\n",
       "      <th>FALHA</th>\n",
       "      <th>DATA</th>\n",
       "    </tr>\n",
       "  </thead>\n",
       "  <tbody>\n",
       "    <tr>\n",
       "      <th>1</th>\n",
       "      <td>2023-2056234</td>\n",
       "      <td>2R2R</td>\n",
       "      <td>DHS</td>\n",
       "      <td>HCEQS506</td>\n",
       "      <td>4013334</td>\n",
       "      <td>ZP7</td>\n",
       "      <td>PARALAMA DIANTEIRO 01. AMASSADO</td>\n",
       "      <td>20/5/2024 21:31:52</td>\n",
       "    </tr>\n",
       "    <tr>\n",
       "      <th>2</th>\n",
       "      <td>2023-2056234</td>\n",
       "      <td>2R2R</td>\n",
       "      <td>DHS</td>\n",
       "      <td>HCEQS506</td>\n",
       "      <td>4013334</td>\n",
       "      <td>ZP7</td>\n",
       "      <td>PORTA TRASEIRA 04. CAROÇO / PICO</td>\n",
       "      <td>20/5/2024 21:30:23</td>\n",
       "    </tr>\n",
       "    <tr>\n",
       "      <th>3</th>\n",
       "      <td>2023-2056234</td>\n",
       "      <td>2R2R</td>\n",
       "      <td>DHS</td>\n",
       "      <td>PCEQS620</td>\n",
       "      <td>2058570</td>\n",
       "      <td>ZP6</td>\n",
       "      <td>MÓDULO DO ACC (13) PEÇA INCORRETA ¨</td>\n",
       "      <td>20/5/2024 20:04:56</td>\n",
       "    </tr>\n",
       "    <tr>\n",
       "      <th>4</th>\n",
       "      <td>2023-2056234</td>\n",
       "      <td>2R2R</td>\n",
       "      <td>DHS</td>\n",
       "      <td>PCEQS999</td>\n",
       "      <td>2087715</td>\n",
       "      <td>ESPC</td>\n",
       "      <td>TAMPA TRASEIRA 05. SUJEIRA NA PINTURA</td>\n",
       "      <td>11/4/2024 12:15:40</td>\n",
       "    </tr>\n",
       "    <tr>\n",
       "      <th>5</th>\n",
       "      <td>2023-3896001</td>\n",
       "      <td>0Q0Q</td>\n",
       "      <td></td>\n",
       "      <td>HCEQS203</td>\n",
       "      <td>2043971</td>\n",
       "      <td>ZP5A</td>\n",
       "      <td>TAMPA DIANTEIRA 05. SUJEIRA NA PINTURA</td>\n",
       "      <td>5/6/2024 17:38:52</td>\n",
       "    </tr>\n",
       "  </tbody>\n",
       "</table>\n",
       "</div>"
      ],
      "text/plain": [
       "0           KNR   COR MOTOR   ESTACAO  USUARIO HALLE  \\\n",
       "1  2023-2056234  2R2R   DHS  HCEQS506  4013334  ZP7    \n",
       "2  2023-2056234  2R2R   DHS  HCEQS506  4013334  ZP7    \n",
       "3  2023-2056234  2R2R   DHS  PCEQS620  2058570  ZP6    \n",
       "4  2023-2056234  2R2R   DHS  PCEQS999  2087715  ESPC   \n",
       "5  2023-3896001  0Q0Q        HCEQS203  2043971  ZP5A   \n",
       "\n",
       "0                                   FALHA                DATA  \n",
       "1         PARALAMA DIANTEIRO 01. AMASSADO  20/5/2024 21:31:52  \n",
       "2        PORTA TRASEIRA 04. CAROÇO / PICO  20/5/2024 21:30:23  \n",
       "3     MÓDULO DO ACC (13) PEÇA INCORRETA ¨  20/5/2024 20:04:56  \n",
       "4   TAMPA TRASEIRA 05. SUJEIRA NA PINTURA  11/4/2024 12:15:40  \n",
       "5  TAMPA DIANTEIRA 05. SUJEIRA NA PINTURA   5/6/2024 17:38:52  "
      ]
     },
     "execution_count": 8,
     "metadata": {},
     "output_type": "execute_result"
    }
   ],
   "source": [
    "df_falhas.head()"
   ]
  },
  {
   "cell_type": "code",
   "execution_count": 9,
   "id": "7ec43bc2-7526-4cdb-bf03-3160eb61a78b",
   "metadata": {},
   "outputs": [
    {
     "data": {
      "text/plain": [
       "array(['ZP7 ', 'ZP6 ', 'ESPC', 'ZP5A', 'ZP8R', 'ZP6', 'ZP7', 'ZP8',\n",
       "       'ZP8 ', 'RUID', 'ROD', 'ROD ', 'CAB', 'CAB ', 'DKA', 'DKA ',\n",
       "       'AGUA', 'BUY', 'BUY ', 'ZP61', 'ZP62', 'PROC', 'ZP5', 'ZP5 ',\n",
       "       'PVC', 'PVC ', None, '    '], dtype=object)"
      ]
     },
     "execution_count": 9,
     "metadata": {},
     "output_type": "execute_result"
    }
   ],
   "source": [
    "df_falhas[\"HALLE\"].unique()"
   ]
  },
  {
   "cell_type": "code",
   "execution_count": 10,
   "id": "1d26aafe-27a7-4a56-aaa5-93a893ac4e12",
   "metadata": {},
   "outputs": [],
   "source": [
    "df_falhas[\"HALLE\"] = df_falhas[\"HALLE\"].str.split(pat=\" \").str[0]"
   ]
  },
  {
   "cell_type": "code",
   "execution_count": 11,
   "id": "04765bad-f8eb-4110-b10a-9ecb15ad0b71",
   "metadata": {},
   "outputs": [
    {
     "data": {
      "text/html": [
       "<div>\n",
       "<style scoped>\n",
       "    .dataframe tbody tr th:only-of-type {\n",
       "        vertical-align: middle;\n",
       "    }\n",
       "\n",
       "    .dataframe tbody tr th {\n",
       "        vertical-align: top;\n",
       "    }\n",
       "\n",
       "    .dataframe thead th {\n",
       "        text-align: right;\n",
       "    }\n",
       "</style>\n",
       "<table border=\"1\" class=\"dataframe\">\n",
       "  <thead>\n",
       "    <tr style=\"text-align: right;\">\n",
       "      <th></th>\n",
       "      <th>KNR</th>\n",
       "      <th>COR</th>\n",
       "      <th>MOTOR</th>\n",
       "      <th>ESTACAO</th>\n",
       "      <th>USUARIO</th>\n",
       "      <th>HALLE</th>\n",
       "      <th>FALHA</th>\n",
       "      <th>DATA</th>\n",
       "    </tr>\n",
       "  </thead>\n",
       "  <tbody>\n",
       "    <tr>\n",
       "      <th>1</th>\n",
       "      <td>2023-2056234</td>\n",
       "      <td>2R2R</td>\n",
       "      <td>DHS</td>\n",
       "      <td>HCEQS506</td>\n",
       "      <td>4013334</td>\n",
       "      <td>ZP7</td>\n",
       "      <td>PARALAMA DIANTEIRO 01. AMASSADO</td>\n",
       "      <td>20/5/2024 21:31:52</td>\n",
       "    </tr>\n",
       "    <tr>\n",
       "      <th>2</th>\n",
       "      <td>2023-2056234</td>\n",
       "      <td>2R2R</td>\n",
       "      <td>DHS</td>\n",
       "      <td>HCEQS506</td>\n",
       "      <td>4013334</td>\n",
       "      <td>ZP7</td>\n",
       "      <td>PORTA TRASEIRA 04. CAROÇO / PICO</td>\n",
       "      <td>20/5/2024 21:30:23</td>\n",
       "    </tr>\n",
       "    <tr>\n",
       "      <th>3</th>\n",
       "      <td>2023-2056234</td>\n",
       "      <td>2R2R</td>\n",
       "      <td>DHS</td>\n",
       "      <td>PCEQS620</td>\n",
       "      <td>2058570</td>\n",
       "      <td>ZP6</td>\n",
       "      <td>MÓDULO DO ACC (13) PEÇA INCORRETA ¨</td>\n",
       "      <td>20/5/2024 20:04:56</td>\n",
       "    </tr>\n",
       "    <tr>\n",
       "      <th>4</th>\n",
       "      <td>2023-2056234</td>\n",
       "      <td>2R2R</td>\n",
       "      <td>DHS</td>\n",
       "      <td>PCEQS999</td>\n",
       "      <td>2087715</td>\n",
       "      <td>ESPC</td>\n",
       "      <td>TAMPA TRASEIRA 05. SUJEIRA NA PINTURA</td>\n",
       "      <td>11/4/2024 12:15:40</td>\n",
       "    </tr>\n",
       "    <tr>\n",
       "      <th>5</th>\n",
       "      <td>2023-3896001</td>\n",
       "      <td>0Q0Q</td>\n",
       "      <td></td>\n",
       "      <td>HCEQS203</td>\n",
       "      <td>2043971</td>\n",
       "      <td>ZP5A</td>\n",
       "      <td>TAMPA DIANTEIRA 05. SUJEIRA NA PINTURA</td>\n",
       "      <td>5/6/2024 17:38:52</td>\n",
       "    </tr>\n",
       "  </tbody>\n",
       "</table>\n",
       "</div>"
      ],
      "text/plain": [
       "0           KNR   COR MOTOR   ESTACAO  USUARIO HALLE  \\\n",
       "1  2023-2056234  2R2R   DHS  HCEQS506  4013334   ZP7   \n",
       "2  2023-2056234  2R2R   DHS  HCEQS506  4013334   ZP7   \n",
       "3  2023-2056234  2R2R   DHS  PCEQS620  2058570   ZP6   \n",
       "4  2023-2056234  2R2R   DHS  PCEQS999  2087715  ESPC   \n",
       "5  2023-3896001  0Q0Q        HCEQS203  2043971  ZP5A   \n",
       "\n",
       "0                                   FALHA                DATA  \n",
       "1         PARALAMA DIANTEIRO 01. AMASSADO  20/5/2024 21:31:52  \n",
       "2        PORTA TRASEIRA 04. CAROÇO / PICO  20/5/2024 21:30:23  \n",
       "3     MÓDULO DO ACC (13) PEÇA INCORRETA ¨  20/5/2024 20:04:56  \n",
       "4   TAMPA TRASEIRA 05. SUJEIRA NA PINTURA  11/4/2024 12:15:40  \n",
       "5  TAMPA DIANTEIRA 05. SUJEIRA NA PINTURA   5/6/2024 17:38:52  "
      ]
     },
     "execution_count": 11,
     "metadata": {},
     "output_type": "execute_result"
    }
   ],
   "source": [
    "df_falhas.head()"
   ]
  },
  {
   "cell_type": "code",
   "execution_count": 12,
   "id": "b3e64a34-cd5a-4cbb-a4c7-167284c50f32",
   "metadata": {},
   "outputs": [],
   "source": [
    "df_falhas[df_falhas[\"HALLE\"].isnull() == True] = \"OUTROS\""
   ]
  },
  {
   "cell_type": "code",
   "execution_count": 13,
   "id": "62387265-95f1-44e5-9ebe-2fde05c9c521",
   "metadata": {},
   "outputs": [],
   "source": [
    "df_falhas[df_falhas[\"HALLE\"] == \"\"] = \"OUTROS\""
   ]
  },
  {
   "cell_type": "code",
   "execution_count": 14,
   "id": "57adcec0-4a79-47f0-a7cf-aa82b1c8bea4",
   "metadata": {},
   "outputs": [
    {
     "data": {
      "text/plain": [
       "array(['ZP7', 'ZP6', 'ESPC', 'ZP5A', 'ZP8R', 'ZP8', 'RUID', 'ROD', 'CAB',\n",
       "       'DKA', 'AGUA', 'BUY', 'ZP61', 'ZP62', 'PROC', 'ZP5', 'PVC',\n",
       "       'OUTROS'], dtype=object)"
      ]
     },
     "execution_count": 14,
     "metadata": {},
     "output_type": "execute_result"
    }
   ],
   "source": [
    "df_falhas[\"HALLE\"].unique()"
   ]
  },
  {
   "cell_type": "code",
   "execution_count": 15,
   "id": "2bcdc8ca-e969-409a-9adc-7e9fc56fd1b6",
   "metadata": {},
   "outputs": [
    {
     "data": {
      "text/plain": [
       "166601"
      ]
     },
     "execution_count": 15,
     "metadata": {},
     "output_type": "execute_result"
    }
   ],
   "source": [
    "len(df_falhas[df_falhas[\"HALLE\"] == \"ZP7\"])"
   ]
  },
  {
   "cell_type": "code",
   "execution_count": 17,
   "id": "202cb0eb-1d50-4222-8c37-a0949c995d0c",
   "metadata": {},
   "outputs": [
    {
     "data": {
      "text/plain": [
       "23969"
      ]
     },
     "execution_count": 17,
     "metadata": {},
     "output_type": "execute_result"
    }
   ],
   "source": [
    "df_falhas[\"KNR\"].nunique()"
   ]
  },
  {
   "cell_type": "code",
   "execution_count": 18,
   "id": "4e6558f3-291b-4585-8f63-80fc2f4b8283",
   "metadata": {},
   "outputs": [
    {
     "data": {
      "text/plain": [
       "18"
      ]
     },
     "execution_count": 18,
     "metadata": {},
     "output_type": "execute_result"
    }
   ],
   "source": [
    "df_falhas[\"HALLE\"].nunique()"
   ]
  },
  {
   "cell_type": "code",
   "execution_count": null,
   "id": "e94be768-f2c7-48f4-8800-d276567da53d",
   "metadata": {},
   "outputs": [],
   "source": [
    "for halle in df_falhas[\"HALLE\"].unique():\n",
    "    for knr in df_falhas[\"KNR\"].unique():\n",
    "        df_falhas[\"FALHA_\" + halle] = len(df_falhas[(df_falhas[\"HALLE\"] == halle) & (df_falhas[\"KNR\"] == knr)])"
   ]
  },
  {
   "cell_type": "code",
   "execution_count": null,
   "id": "6a69fa95-4835-4bf9-83a3-839be704d839",
   "metadata": {},
   "outputs": [],
   "source": [
    "for knr in df_falhas[\"KNR\"].unique():\n",
    "    for halle in df_falhas[\"HALLE\"].unique():\n",
    "        df_falhas[\"FALHA_\" + halle] = len(df_falhas[(df_falhas[\"HALLE\"] == halle) & (df_falhas[\"KNR\"] == knr)])"
   ]
  },
  {
   "cell_type": "code",
   "execution_count": null,
   "id": "69439c07-bbec-4a1a-a277-618de5a11c7d",
   "metadata": {},
   "outputs": [],
   "source": [
    "df_falhas.head()"
   ]
  },
  {
   "cell_type": "code",
   "execution_count": 114,
   "id": "8ba27241-0eb3-4038-aca6-366ae4389781",
   "metadata": {},
   "outputs": [
    {
     "data": {
      "text/plain": [
       "(328901, 26)"
      ]
     },
     "execution_count": 114,
     "metadata": {},
     "output_type": "execute_result"
    }
   ],
   "source": [
    "df_falhas.shape"
   ]
  }
 ],
 "metadata": {
  "kernelspec": {
   "display_name": "Python 3 (ipykernel)",
   "language": "python",
   "name": "python3"
  },
  "language_info": {
   "codemirror_mode": {
    "name": "ipython",
    "version": 3
   },
   "file_extension": ".py",
   "mimetype": "text/x-python",
   "name": "python",
   "nbconvert_exporter": "python",
   "pygments_lexer": "ipython3",
   "version": "3.11.1"
  }
 },
 "nbformat": 4,
 "nbformat_minor": 5
}
