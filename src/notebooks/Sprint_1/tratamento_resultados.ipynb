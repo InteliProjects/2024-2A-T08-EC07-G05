{
 "cells": [
  {
   "cell_type": "markdown",
   "id": "55b7ea64-625e-4b25-b055-83174546a53c",
   "metadata": {},
   "source": [
    "# Tratamento da tabela resultados"
   ]
  },
  {
   "cell_type": "markdown",
   "id": "62e29463-e412-43dc-b8b6-d75ecc901c62",
   "metadata": {},
   "source": [
    "## Instalando e importando bibliotecas"
   ]
  },
  {
   "cell_type": "code",
   "execution_count": null,
   "id": "33c611ba-6d89-477d-8f28-4b041c9e8097",
   "metadata": {},
   "outputs": [],
   "source": [
    "pip install ydata-profiling matplotlib ipywidgets pandas pyarrow"
   ]
  },
  {
   "cell_type": "code",
   "execution_count": 2,
   "id": "26a2c680-7ade-4972-ab96-a597ac6e23d3",
   "metadata": {},
   "outputs": [],
   "source": [
    "import pandas as pd\n",
    "import pyarrow\n",
    "import matplotlib.pyplot as plt"
   ]
  },
  {
   "cell_type": "markdown",
   "id": "af88fd75-a237-4563-b525-e7f7479828a6",
   "metadata": {},
   "source": [
    "## Importando dataset"
   ]
  },
  {
   "cell_type": "code",
   "execution_count": 3,
   "id": "e006b9a0-0939-4f9c-92c6-ba78cb0ca5de",
   "metadata": {},
   "outputs": [],
   "source": [
    "df_resultados = pd.read_parquet(\"RESULTADOS_04_06_2024_full.parquet\", engine='pyarrow')"
   ]
  },
  {
   "cell_type": "markdown",
   "id": "34c3a1e7-1f09-4bed-924f-f0de0b4f94b5",
   "metadata": {},
   "source": [
    "## Tratando dados"
   ]
  },
  {
   "cell_type": "markdown",
   "id": "35d69b45-fc23-40be-b002-7d2dc01ce559",
   "metadata": {},
   "source": [
    "#### Tirando coluna vazia"
   ]
  },
  {
   "cell_type": "code",
   "execution_count": 4,
   "id": "75b112ed-3695-4612-84b9-c5f308979838",
   "metadata": {},
   "outputs": [],
   "source": [
    "df_resultados = df_resultados.drop(columns=['Unnamed: 0'])"
   ]
  },
  {
   "cell_type": "code",
   "execution_count": 5,
   "id": "cf6279ef-0bc3-4253-bcda-0c45e1981ace",
   "metadata": {},
   "outputs": [],
   "source": [
    "df_resultados = df_resultados.drop_duplicates()"
   ]
  },
  {
   "cell_type": "markdown",
   "id": "1306e793-dce3-4f74-813c-b7cd4c8765c9",
   "metadata": {},
   "source": [
    "#### Removendo nulos"
   ]
  },
  {
   "cell_type": "code",
   "execution_count": 6,
   "id": "5837d70c-c9c8-4363-b770-0015758f1e1d",
   "metadata": {},
   "outputs": [],
   "source": [
    "df_resultados = df_resultados.dropna()"
   ]
  },
  {
   "cell_type": "markdown",
   "id": "7475e379-aac2-4eec-b4dc-549937b4eeca",
   "metadata": {},
   "source": [
    "#### Convertendo data de object pra datetime"
   ]
  },
  {
   "cell_type": "code",
   "execution_count": 7,
   "id": "4bf1fe35-98dc-4385-a0f8-4b3f9873a9a6",
   "metadata": {},
   "outputs": [],
   "source": [
    "df_resultados['DATA'] = pd.to_datetime(df_resultados['DATA'], errors='coerce')"
   ]
  },
  {
   "cell_type": "markdown",
   "id": "0926d7f0-5bb5-4f3e-a71c-bc22c8635884",
   "metadata": {},
   "source": [
    "#### Criando as colunas por status e por id"
   ]
  },
  {
   "cell_type": "code",
   "execution_count": 8,
   "id": "456ede25-ba5f-41cf-b633-0a2a24eb46df",
   "metadata": {},
   "outputs": [],
   "source": [
    "pivot_df = df_resultados.pivot_table(index='KNR', columns=[\"ID\", \"STATUS\"], aggfunc='size', fill_value=0)\n",
    "\n",
    "pivot_df.columns = [f'QTD_STATUS_{col[0]}_OK' if col[1]== 10 else f'QTD_STATUS_{col[0]}_NOK' for col in pivot_df.columns]\n",
    "\n",
    "pivot_df.reset_index(inplace=True)"
   ]
  },
  {
   "cell_type": "markdown",
   "id": "8244f211-4c7d-4fae-8c9c-de353622f4c7",
   "metadata": {},
   "source": [
    "#### Criando coluna de quantidade de operações por KNR, que, no caso, também é a soma dos status de cada resultado"
   ]
  },
  {
   "cell_type": "code",
   "execution_count": 9,
   "id": "18020253-d198-4a7f-8582-b26c28fee814",
   "metadata": {},
   "outputs": [],
   "source": [
    "pivot_df[\"TEMPO_MEDIO\"] = df_resultados.groupby('KNR').DATA.transform('max') - df_resultados.groupby('KNR').DATA.transform('min')"
   ]
  },
  {
   "cell_type": "markdown",
   "id": "655a7457-da1d-44b5-ba4f-66cd89006e3e",
   "metadata": {},
   "source": [
    "### Transformando tempo em minutos"
   ]
  },
  {
   "cell_type": "code",
   "execution_count": 10,
   "id": "049a6082-9dbd-4e97-b7c1-516824ce71ed",
   "metadata": {},
   "outputs": [],
   "source": [
    "pivot_df[\"TEMPO_MEDIO\"] = pivot_df[\"TEMPO_MEDIO\"].dt.total_seconds()/60"
   ]
  },
  {
   "cell_type": "code",
   "execution_count": 13,
   "id": "f0102aaa-e61f-415c-bfd8-77b049fca99b",
   "metadata": {},
   "outputs": [
    {
     "data": {
      "text/html": [
       "<div>\n",
       "<style scoped>\n",
       "    .dataframe tbody tr th:only-of-type {\n",
       "        vertical-align: middle;\n",
       "    }\n",
       "\n",
       "    .dataframe tbody tr th {\n",
       "        vertical-align: top;\n",
       "    }\n",
       "\n",
       "    .dataframe thead th {\n",
       "        text-align: right;\n",
       "    }\n",
       "</style>\n",
       "<table border=\"1\" class=\"dataframe\">\n",
       "  <thead>\n",
       "    <tr style=\"text-align: right;\">\n",
       "      <th></th>\n",
       "      <th>KNR</th>\n",
       "      <th>QTD_STATUS_1_OK</th>\n",
       "      <th>QTD_STATUS_1_NOK</th>\n",
       "      <th>QTD_STATUS_2_OK</th>\n",
       "      <th>QTD_STATUS_2_NOK</th>\n",
       "      <th>QTD_STATUS_718_OK</th>\n",
       "      <th>QTD_STATUS_718_NOK</th>\n",
       "      <th>TEMPO_MEDIO</th>\n",
       "    </tr>\n",
       "  </thead>\n",
       "  <tbody>\n",
       "    <tr>\n",
       "      <th>0</th>\n",
       "      <td>2023-2056234</td>\n",
       "      <td>5</td>\n",
       "      <td>0</td>\n",
       "      <td>766</td>\n",
       "      <td>4</td>\n",
       "      <td>71</td>\n",
       "      <td>0</td>\n",
       "      <td>NaN</td>\n",
       "    </tr>\n",
       "    <tr>\n",
       "      <th>1</th>\n",
       "      <td>2024-0576004</td>\n",
       "      <td>0</td>\n",
       "      <td>0</td>\n",
       "      <td>0</td>\n",
       "      <td>0</td>\n",
       "      <td>4</td>\n",
       "      <td>0</td>\n",
       "      <td>NaN</td>\n",
       "    </tr>\n",
       "    <tr>\n",
       "      <th>2</th>\n",
       "      <td>2024-0576005</td>\n",
       "      <td>0</td>\n",
       "      <td>0</td>\n",
       "      <td>0</td>\n",
       "      <td>0</td>\n",
       "      <td>5</td>\n",
       "      <td>0</td>\n",
       "      <td>NaN</td>\n",
       "    </tr>\n",
       "    <tr>\n",
       "      <th>3</th>\n",
       "      <td>2024-0576006</td>\n",
       "      <td>0</td>\n",
       "      <td>0</td>\n",
       "      <td>0</td>\n",
       "      <td>0</td>\n",
       "      <td>4</td>\n",
       "      <td>0</td>\n",
       "      <td>NaN</td>\n",
       "    </tr>\n",
       "    <tr>\n",
       "      <th>4</th>\n",
       "      <td>2024-0576008</td>\n",
       "      <td>0</td>\n",
       "      <td>0</td>\n",
       "      <td>6</td>\n",
       "      <td>0</td>\n",
       "      <td>32</td>\n",
       "      <td>0</td>\n",
       "      <td>NaN</td>\n",
       "    </tr>\n",
       "    <tr>\n",
       "      <th>5</th>\n",
       "      <td>2024-0576015</td>\n",
       "      <td>0</td>\n",
       "      <td>0</td>\n",
       "      <td>0</td>\n",
       "      <td>0</td>\n",
       "      <td>5</td>\n",
       "      <td>1</td>\n",
       "      <td>NaN</td>\n",
       "    </tr>\n",
       "    <tr>\n",
       "      <th>6</th>\n",
       "      <td>2024-0576016</td>\n",
       "      <td>0</td>\n",
       "      <td>0</td>\n",
       "      <td>0</td>\n",
       "      <td>0</td>\n",
       "      <td>1</td>\n",
       "      <td>4</td>\n",
       "      <td>6553.933333</td>\n",
       "    </tr>\n",
       "    <tr>\n",
       "      <th>7</th>\n",
       "      <td>2024-0576017</td>\n",
       "      <td>0</td>\n",
       "      <td>0</td>\n",
       "      <td>0</td>\n",
       "      <td>0</td>\n",
       "      <td>5</td>\n",
       "      <td>2</td>\n",
       "      <td>6553.933333</td>\n",
       "    </tr>\n",
       "    <tr>\n",
       "      <th>8</th>\n",
       "      <td>2024-0576018</td>\n",
       "      <td>0</td>\n",
       "      <td>0</td>\n",
       "      <td>4</td>\n",
       "      <td>0</td>\n",
       "      <td>32</td>\n",
       "      <td>0</td>\n",
       "      <td>6553.933333</td>\n",
       "    </tr>\n",
       "    <tr>\n",
       "      <th>9</th>\n",
       "      <td>2024-1176003</td>\n",
       "      <td>0</td>\n",
       "      <td>0</td>\n",
       "      <td>0</td>\n",
       "      <td>0</td>\n",
       "      <td>4</td>\n",
       "      <td>0</td>\n",
       "      <td>6553.933333</td>\n",
       "    </tr>\n",
       "    <tr>\n",
       "      <th>10</th>\n",
       "      <td>2024-1176004</td>\n",
       "      <td>0</td>\n",
       "      <td>0</td>\n",
       "      <td>8</td>\n",
       "      <td>0</td>\n",
       "      <td>27</td>\n",
       "      <td>0</td>\n",
       "      <td>6553.933333</td>\n",
       "    </tr>\n",
       "    <tr>\n",
       "      <th>11</th>\n",
       "      <td>2024-1316075</td>\n",
       "      <td>0</td>\n",
       "      <td>0</td>\n",
       "      <td>0</td>\n",
       "      <td>0</td>\n",
       "      <td>1</td>\n",
       "      <td>0</td>\n",
       "      <td>6553.933333</td>\n",
       "    </tr>\n",
       "    <tr>\n",
       "      <th>12</th>\n",
       "      <td>2024-1316198</td>\n",
       "      <td>0</td>\n",
       "      <td>0</td>\n",
       "      <td>0</td>\n",
       "      <td>0</td>\n",
       "      <td>1</td>\n",
       "      <td>1</td>\n",
       "      <td>6553.933333</td>\n",
       "    </tr>\n",
       "    <tr>\n",
       "      <th>13</th>\n",
       "      <td>2024-1316280</td>\n",
       "      <td>0</td>\n",
       "      <td>0</td>\n",
       "      <td>0</td>\n",
       "      <td>0</td>\n",
       "      <td>1</td>\n",
       "      <td>1</td>\n",
       "      <td>6553.933333</td>\n",
       "    </tr>\n",
       "    <tr>\n",
       "      <th>14</th>\n",
       "      <td>2024-1316303</td>\n",
       "      <td>0</td>\n",
       "      <td>0</td>\n",
       "      <td>4</td>\n",
       "      <td>0</td>\n",
       "      <td>36</td>\n",
       "      <td>0</td>\n",
       "      <td>6553.933333</td>\n",
       "    </tr>\n",
       "    <tr>\n",
       "      <th>15</th>\n",
       "      <td>2024-1316317</td>\n",
       "      <td>0</td>\n",
       "      <td>0</td>\n",
       "      <td>4</td>\n",
       "      <td>0</td>\n",
       "      <td>36</td>\n",
       "      <td>0</td>\n",
       "      <td>6553.933333</td>\n",
       "    </tr>\n",
       "    <tr>\n",
       "      <th>16</th>\n",
       "      <td>2024-1316422</td>\n",
       "      <td>0</td>\n",
       "      <td>0</td>\n",
       "      <td>0</td>\n",
       "      <td>0</td>\n",
       "      <td>1</td>\n",
       "      <td>1</td>\n",
       "      <td>6553.933333</td>\n",
       "    </tr>\n",
       "    <tr>\n",
       "      <th>17</th>\n",
       "      <td>2024-1326035</td>\n",
       "      <td>0</td>\n",
       "      <td>0</td>\n",
       "      <td>0</td>\n",
       "      <td>0</td>\n",
       "      <td>1</td>\n",
       "      <td>0</td>\n",
       "      <td>6553.933333</td>\n",
       "    </tr>\n",
       "    <tr>\n",
       "      <th>18</th>\n",
       "      <td>2024-1326119</td>\n",
       "      <td>0</td>\n",
       "      <td>0</td>\n",
       "      <td>0</td>\n",
       "      <td>0</td>\n",
       "      <td>1</td>\n",
       "      <td>0</td>\n",
       "      <td>6553.933333</td>\n",
       "    </tr>\n",
       "    <tr>\n",
       "      <th>19</th>\n",
       "      <td>2024-1326139</td>\n",
       "      <td>0</td>\n",
       "      <td>0</td>\n",
       "      <td>694</td>\n",
       "      <td>10</td>\n",
       "      <td>32</td>\n",
       "      <td>0</td>\n",
       "      <td>6553.933333</td>\n",
       "    </tr>\n",
       "  </tbody>\n",
       "</table>\n",
       "</div>"
      ],
      "text/plain": [
       "             KNR  QTD_STATUS_1_OK  QTD_STATUS_1_NOK  QTD_STATUS_2_OK  \\\n",
       "0   2023-2056234                5                 0              766   \n",
       "1   2024-0576004                0                 0                0   \n",
       "2   2024-0576005                0                 0                0   \n",
       "3   2024-0576006                0                 0                0   \n",
       "4   2024-0576008                0                 0                6   \n",
       "5   2024-0576015                0                 0                0   \n",
       "6   2024-0576016                0                 0                0   \n",
       "7   2024-0576017                0                 0                0   \n",
       "8   2024-0576018                0                 0                4   \n",
       "9   2024-1176003                0                 0                0   \n",
       "10  2024-1176004                0                 0                8   \n",
       "11  2024-1316075                0                 0                0   \n",
       "12  2024-1316198                0                 0                0   \n",
       "13  2024-1316280                0                 0                0   \n",
       "14  2024-1316303                0                 0                4   \n",
       "15  2024-1316317                0                 0                4   \n",
       "16  2024-1316422                0                 0                0   \n",
       "17  2024-1326035                0                 0                0   \n",
       "18  2024-1326119                0                 0                0   \n",
       "19  2024-1326139                0                 0              694   \n",
       "\n",
       "    QTD_STATUS_2_NOK  QTD_STATUS_718_OK  QTD_STATUS_718_NOK  TEMPO_MEDIO  \n",
       "0                  4                 71                   0          NaN  \n",
       "1                  0                  4                   0          NaN  \n",
       "2                  0                  5                   0          NaN  \n",
       "3                  0                  4                   0          NaN  \n",
       "4                  0                 32                   0          NaN  \n",
       "5                  0                  5                   1          NaN  \n",
       "6                  0                  1                   4  6553.933333  \n",
       "7                  0                  5                   2  6553.933333  \n",
       "8                  0                 32                   0  6553.933333  \n",
       "9                  0                  4                   0  6553.933333  \n",
       "10                 0                 27                   0  6553.933333  \n",
       "11                 0                  1                   0  6553.933333  \n",
       "12                 0                  1                   1  6553.933333  \n",
       "13                 0                  1                   1  6553.933333  \n",
       "14                 0                 36                   0  6553.933333  \n",
       "15                 0                 36                   0  6553.933333  \n",
       "16                 0                  1                   1  6553.933333  \n",
       "17                 0                  1                   0  6553.933333  \n",
       "18                 0                  1                   0  6553.933333  \n",
       "19                10                 32                   0  6553.933333  "
      ]
     },
     "execution_count": 13,
     "metadata": {},
     "output_type": "execute_result"
    }
   ],
   "source": [
    "pivot_df.head(20)"
   ]
  },
  {
   "cell_type": "markdown",
   "id": "151665e2-572f-4562-b26a-887f6eb3410d",
   "metadata": {},
   "source": [
    "## Exportando em parquet para pré processamento e modelagem"
   ]
  },
  {
   "cell_type": "code",
   "execution_count": 12,
   "id": "bc2c289e-bde2-4a69-8555-0fd0cb380082",
   "metadata": {},
   "outputs": [],
   "source": [
    "pivot_df.to_parquet(\"RESULTADOS_04_06_2024_TRATADO.parquet\")"
   ]
  }
 ],
 "metadata": {
  "kernelspec": {
   "display_name": "Python 3 (ipykernel)",
   "language": "python",
   "name": "python3"
  },
  "language_info": {
   "codemirror_mode": {
    "name": "ipython",
    "version": 3
   },
   "file_extension": ".py",
   "mimetype": "text/x-python",
   "name": "python",
   "nbconvert_exporter": "python",
   "pygments_lexer": "ipython3",
   "version": "3.11.1"
  }
 },
 "nbformat": 4,
 "nbformat_minor": 5
}
