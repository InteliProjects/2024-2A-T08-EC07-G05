{
 "cells": [
  {
   "cell_type": "markdown",
   "metadata": {
    "id": "jgLs2vGJ03wM"
   },
   "source": [
    "# Visualização de Dados - Relatório de Falhas\n",
    "Dataset disponível em: https://drive.google.com/file/d/10HMt_3Wb4iFpFYU00Xstpr-TpwSr6C_V/view?usp=share_link"
   ]
  },
  {
   "cell_type": "code",
   "execution_count": 9,
   "metadata": {
    "colab": {
     "base_uri": "https://localhost:8080/"
    },
    "id": "RtdsM-WHgZgs",
    "outputId": "7db4dca0-9326-4008-e229-63a93f95172a"
   },
   "outputs": [
    {
     "name": "stdout",
     "output_type": "stream",
     "text": [
      "zsh:1: command not found: pip\n"
     ]
    }
   ],
   "source": [
    "!pip install pandas pyarrow\n"
   ]
  },
  {
   "cell_type": "code",
   "execution_count": 10,
   "metadata": {
    "id": "J21b06YBkNpC"
   },
   "outputs": [],
   "source": [
    "import pandas as pd\n",
    "import requests\n",
    "import io\n",
    "import re"
   ]
  },
  {
   "cell_type": "code",
   "execution_count": 11,
   "metadata": {
    "id": "p6XWEhHBZvaI"
   },
   "outputs": [],
   "source": [
    "df = pd.read_csv('FALHAS_04_05_06_2024_Relatorio_1.csv')"
   ]
  },
  {
   "cell_type": "code",
   "execution_count": 12,
   "metadata": {
    "id": "atJHGMMJPTGl"
   },
   "outputs": [],
   "source": [
    "df = pd.DataFrame(df)"
   ]
  },
  {
   "cell_type": "code",
   "execution_count": 13,
   "metadata": {
    "id": "g_t_UOp1v-ZG"
   },
   "outputs": [],
   "source": [
    "df.drop(columns='Unnamed: 0', inplace=True)"
   ]
  },
  {
   "cell_type": "code",
   "execution_count": 14,
   "metadata": {
    "id": "RJv2WkfyN88x"
   },
   "outputs": [],
   "source": [
    "df.columns = df.iloc[0]\n",
    "df.drop(df.index[0], inplace=True)"
   ]
  },
  {
   "cell_type": "code",
   "execution_count": 15,
   "metadata": {
    "colab": {
     "base_uri": "https://localhost:8080/"
    },
    "id": "tgGm8xL-lmHe",
    "outputId": "1ee7cb3b-7cd0-4681-a19d-8db0774de599"
   },
   "outputs": [
    {
     "name": "stdout",
     "output_type": "stream",
     "text": [
      "Columns: ['KNR', 'MODELO', 'COR', 'MOTOR', 'ESTACAO', 'USUARIO', 'HALLE', 'FALHA', 'DATA']\n"
     ]
    }
   ],
   "source": [
    "columns = df.columns.tolist()\n",
    "print(\"Columns:\", columns)"
   ]
  },
  {
   "cell_type": "code",
   "execution_count": 16,
   "metadata": {
    "id": "HEU_uRy9rsz4"
   },
   "outputs": [],
   "source": [
    "df.drop(columns='MODELO', inplace=True)"
   ]
  },
  {
   "cell_type": "code",
   "execution_count": 17,
   "metadata": {
    "id": "PhkQ4HAtxrwE"
   },
   "outputs": [],
   "source": [
    "df.drop_duplicates(inplace=True)"
   ]
  },
  {
   "cell_type": "code",
   "execution_count": 18,
   "metadata": {
    "colab": {
     "base_uri": "https://localhost:8080/",
     "height": 484
    },
    "id": "toHwtWUTaDfX",
    "outputId": "9239a0f7-856e-4e6b-aec3-cff49297d40e"
   },
   "outputs": [
    {
     "data": {
      "text/plain": [
       "FALHA\n",
       "PAINEL LATERAL 05. SUJEIRA NA PINTURA                     13089\n",
       "Painel lateral 05. Sujeira na pintura                     12046\n",
       "PAINEL LATERAL 04. CAROÇO / PICO                           6476\n",
       "Painel lateral 04. Caroço / Pico                           5898\n",
       "PAINEL LATERAL 01. AMASSADO                                5287\n",
       "                                                          ...  \n",
       "NÚMERO DO CHASSI NA CARROCERIA DANIFICADO (A) ¨               1\n",
       "Número do chassi na carroceria Danificado (a) ¨               1\n",
       "CHIC. PORTA (42/52/64D/64C/0612/0613) DANIFICADO (A) ¨        1\n",
       "Fechadura da porta dianteira (42/52) Ajuste incorreto         1\n",
       "PINO TUCKER 130 SOLTO(A) ¨                                    1\n",
       "Name: count, Length: 4778, dtype: int64"
      ]
     },
     "execution_count": 18,
     "metadata": {},
     "output_type": "execute_result"
    }
   ],
   "source": [
    "df['FALHA'].value_counts()"
   ]
  },
  {
   "cell_type": "code",
   "execution_count": 19,
   "metadata": {
    "id": "jGHIpAuQ0H03"
   },
   "outputs": [],
   "source": [
    "df['FALHA'] = df['FALHA'].str.upper()"
   ]
  },
  {
   "cell_type": "code",
   "execution_count": 20,
   "metadata": {
    "id": "ws3vDGCrztBu"
   },
   "outputs": [],
   "source": [
    "df[['PEÇA', 'FALHA_PEÇA']] = df['FALHA'].str.split(' ', expand=True, n=1)"
   ]
  },
  {
   "cell_type": "code",
   "execution_count": 21,
   "metadata": {
    "colab": {
     "base_uri": "https://localhost:8080/",
     "height": 1000
    },
    "id": "ougty9dAz5tZ",
    "outputId": "b0bfc4a5-408b-46ce-bbc7-0cabab6dece5"
   },
   "outputs": [
    {
     "data": {
      "text/html": [
       "<div>\n",
       "<style scoped>\n",
       "    .dataframe tbody tr th:only-of-type {\n",
       "        vertical-align: middle;\n",
       "    }\n",
       "\n",
       "    .dataframe tbody tr th {\n",
       "        vertical-align: top;\n",
       "    }\n",
       "\n",
       "    .dataframe thead th {\n",
       "        text-align: right;\n",
       "    }\n",
       "</style>\n",
       "<table border=\"1\" class=\"dataframe\">\n",
       "  <thead>\n",
       "    <tr style=\"text-align: right;\">\n",
       "      <th></th>\n",
       "      <th>KNR</th>\n",
       "      <th>COR</th>\n",
       "      <th>MOTOR</th>\n",
       "      <th>ESTACAO</th>\n",
       "      <th>USUARIO</th>\n",
       "      <th>HALLE</th>\n",
       "      <th>FALHA</th>\n",
       "      <th>DATA</th>\n",
       "      <th>PEÇA</th>\n",
       "      <th>FALHA_PEÇA</th>\n",
       "    </tr>\n",
       "  </thead>\n",
       "  <tbody>\n",
       "    <tr>\n",
       "      <th>1</th>\n",
       "      <td>2023-2056234</td>\n",
       "      <td>2R2R</td>\n",
       "      <td>DHS</td>\n",
       "      <td>HCEQS506</td>\n",
       "      <td>4013334</td>\n",
       "      <td>ZP7</td>\n",
       "      <td>PARALAMA DIANTEIRO 01. AMASSADO</td>\n",
       "      <td>20/5/2024 21:31:52</td>\n",
       "      <td>PARALAMA</td>\n",
       "      <td>DIANTEIRO 01. AMASSADO</td>\n",
       "    </tr>\n",
       "    <tr>\n",
       "      <th>2</th>\n",
       "      <td>2023-2056234</td>\n",
       "      <td>2R2R</td>\n",
       "      <td>DHS</td>\n",
       "      <td>HCEQS506</td>\n",
       "      <td>4013334</td>\n",
       "      <td>ZP7</td>\n",
       "      <td>PORTA TRASEIRA 04. CAROÇO / PICO</td>\n",
       "      <td>20/5/2024 21:30:23</td>\n",
       "      <td>PORTA</td>\n",
       "      <td>TRASEIRA 04. CAROÇO / PICO</td>\n",
       "    </tr>\n",
       "    <tr>\n",
       "      <th>3</th>\n",
       "      <td>2023-2056234</td>\n",
       "      <td>2R2R</td>\n",
       "      <td>DHS</td>\n",
       "      <td>PCEQS620</td>\n",
       "      <td>2058570</td>\n",
       "      <td>ZP6</td>\n",
       "      <td>MÓDULO DO ACC (13) PEÇA INCORRETA ¨</td>\n",
       "      <td>20/5/2024 20:04:56</td>\n",
       "      <td>MÓDULO</td>\n",
       "      <td>DO ACC (13) PEÇA INCORRETA ¨</td>\n",
       "    </tr>\n",
       "    <tr>\n",
       "      <th>4</th>\n",
       "      <td>2023-2056234</td>\n",
       "      <td>2R2R</td>\n",
       "      <td>DHS</td>\n",
       "      <td>PCEQS999</td>\n",
       "      <td>2087715</td>\n",
       "      <td>ESPC</td>\n",
       "      <td>TAMPA TRASEIRA 05. SUJEIRA NA PINTURA</td>\n",
       "      <td>11/4/2024 12:15:40</td>\n",
       "      <td>TAMPA</td>\n",
       "      <td>TRASEIRA 05. SUJEIRA NA PINTURA</td>\n",
       "    </tr>\n",
       "    <tr>\n",
       "      <th>5</th>\n",
       "      <td>2023-3896001</td>\n",
       "      <td>0Q0Q</td>\n",
       "      <td></td>\n",
       "      <td>HCEQS203</td>\n",
       "      <td>2043971</td>\n",
       "      <td>ZP5A</td>\n",
       "      <td>TAMPA DIANTEIRA 05. SUJEIRA NA PINTURA</td>\n",
       "      <td>5/6/2024 17:38:52</td>\n",
       "      <td>TAMPA</td>\n",
       "      <td>DIANTEIRA 05. SUJEIRA NA PINTURA</td>\n",
       "    </tr>\n",
       "    <tr>\n",
       "      <th>6</th>\n",
       "      <td>2023-3896001</td>\n",
       "      <td>0Q0Q</td>\n",
       "      <td></td>\n",
       "      <td>HCEQS203</td>\n",
       "      <td>2043971</td>\n",
       "      <td>ZP5A</td>\n",
       "      <td>TAMPA TRASEIRA 05. SUJEIRA NA PINTURA</td>\n",
       "      <td>5/6/2024 17:39:18</td>\n",
       "      <td>TAMPA</td>\n",
       "      <td>TRASEIRA 05. SUJEIRA NA PINTURA</td>\n",
       "    </tr>\n",
       "    <tr>\n",
       "      <th>7</th>\n",
       "      <td>2023-4896002</td>\n",
       "      <td>0Q0Q</td>\n",
       "      <td></td>\n",
       "      <td>PCEQS314</td>\n",
       "      <td>2061350</td>\n",
       "      <td>ZP5A</td>\n",
       "      <td>TETO 05. SUJEIRA NA PINTURA</td>\n",
       "      <td>28/5/2024 12:25:49</td>\n",
       "      <td>TETO</td>\n",
       "      <td>05. SUJEIRA NA PINTURA</td>\n",
       "    </tr>\n",
       "    <tr>\n",
       "      <th>8</th>\n",
       "      <td>2024-0576008</td>\n",
       "      <td>6UA1</td>\n",
       "      <td>CWL</td>\n",
       "      <td>PCEQS622</td>\n",
       "      <td>4004807</td>\n",
       "      <td>ZP8R</td>\n",
       "      <td>FAROL (09) PEÇA NOK</td>\n",
       "      <td>9/4/2024 17:51:52</td>\n",
       "      <td>FAROL</td>\n",
       "      <td>(09) PEÇA NOK</td>\n",
       "    </tr>\n",
       "    <tr>\n",
       "      <th>9</th>\n",
       "      <td>2024-0576008</td>\n",
       "      <td>6UA1</td>\n",
       "      <td>CWL</td>\n",
       "      <td>PCEQS622</td>\n",
       "      <td>4004807</td>\n",
       "      <td>ZP8R</td>\n",
       "      <td>FAROL (09) PEÇA NOK</td>\n",
       "      <td>9/4/2024 17:51:52</td>\n",
       "      <td>FAROL</td>\n",
       "      <td>(09) PEÇA NOK</td>\n",
       "    </tr>\n",
       "    <tr>\n",
       "      <th>10</th>\n",
       "      <td>2024-0576017</td>\n",
       "      <td>K2K2</td>\n",
       "      <td>CWL</td>\n",
       "      <td>PCEQS999</td>\n",
       "      <td>2087715</td>\n",
       "      <td>ESPC</td>\n",
       "      <td>TAMPA TRASEIRA 05. SUJEIRA NA PINTURA</td>\n",
       "      <td>11/4/2024 11:58:13</td>\n",
       "      <td>TAMPA</td>\n",
       "      <td>TRASEIRA 05. SUJEIRA NA PINTURA</td>\n",
       "    </tr>\n",
       "    <tr>\n",
       "      <th>11</th>\n",
       "      <td>2024-0576017</td>\n",
       "      <td>K2K2</td>\n",
       "      <td>CWL</td>\n",
       "      <td>PCEQS999</td>\n",
       "      <td>2087715</td>\n",
       "      <td>ESPC</td>\n",
       "      <td>TAMPA TRASEIRA 05. SUJEIRA NA PINTURA</td>\n",
       "      <td>11/4/2024 11:58:13</td>\n",
       "      <td>TAMPA</td>\n",
       "      <td>TRASEIRA 05. SUJEIRA NA PINTURA</td>\n",
       "    </tr>\n",
       "    <tr>\n",
       "      <th>12</th>\n",
       "      <td>2024-0576018</td>\n",
       "      <td>2R2R</td>\n",
       "      <td>DHS</td>\n",
       "      <td>STOL</td>\n",
       "      <td>FHQWRAP</td>\n",
       "      <td>ZP6</td>\n",
       "      <td>TESTE ELETRÔNICO (IBN_3) NOK</td>\n",
       "      <td>12/4/2024 17:38:05</td>\n",
       "      <td>TESTE</td>\n",
       "      <td>ELETRÔNICO (IBN_3) NOK</td>\n",
       "    </tr>\n",
       "    <tr>\n",
       "      <th>13</th>\n",
       "      <td>2024-0576018</td>\n",
       "      <td>2R2R</td>\n",
       "      <td>DHS</td>\n",
       "      <td>STOL</td>\n",
       "      <td>FHQWRAP</td>\n",
       "      <td>ZP6</td>\n",
       "      <td>TESTE ELETRÔNICO (IBN_3) NOK</td>\n",
       "      <td>12/4/2024 17:38:05</td>\n",
       "      <td>TESTE</td>\n",
       "      <td>ELETRÔNICO (IBN_3) NOK</td>\n",
       "    </tr>\n",
       "    <tr>\n",
       "      <th>14</th>\n",
       "      <td>2024-1316075</td>\n",
       "      <td>K2K2</td>\n",
       "      <td>CWL</td>\n",
       "      <td>HCEQS504</td>\n",
       "      <td>2051427</td>\n",
       "      <td>ZP7</td>\n",
       "      <td>CONSOLE CENTRAL AJUSTE INCORRETO</td>\n",
       "      <td>4/4/2024 06:56:31</td>\n",
       "      <td>CONSOLE</td>\n",
       "      <td>CENTRAL AJUSTE INCORRETO</td>\n",
       "    </tr>\n",
       "    <tr>\n",
       "      <th>15</th>\n",
       "      <td>2024-1316075</td>\n",
       "      <td>K2K2</td>\n",
       "      <td>CWL</td>\n",
       "      <td>HCEQS504</td>\n",
       "      <td>2051427</td>\n",
       "      <td>ZP7</td>\n",
       "      <td>CONSOLE CENTRAL AJUSTE INCORRETO</td>\n",
       "      <td>4/4/2024 06:56:31</td>\n",
       "      <td>CONSOLE</td>\n",
       "      <td>CENTRAL AJUSTE INCORRETO</td>\n",
       "    </tr>\n",
       "    <tr>\n",
       "      <th>16</th>\n",
       "      <td>2024-1316075</td>\n",
       "      <td>K2K2</td>\n",
       "      <td>CWL</td>\n",
       "      <td>HCEQS506</td>\n",
       "      <td>4004717</td>\n",
       "      <td>ZP7</td>\n",
       "      <td>APLIQUE DA TAMPA TRASEIRA (GRIP MOLDING) DANIF...</td>\n",
       "      <td>4/4/2024 06:39:45</td>\n",
       "      <td>APLIQUE</td>\n",
       "      <td>DA TAMPA TRASEIRA (GRIP MOLDING) DANIFICADO (A) ¨</td>\n",
       "    </tr>\n",
       "    <tr>\n",
       "      <th>17</th>\n",
       "      <td>2024-1316075</td>\n",
       "      <td>K2K2</td>\n",
       "      <td>CWL</td>\n",
       "      <td>HCEQS506</td>\n",
       "      <td>4004717</td>\n",
       "      <td>ZP7</td>\n",
       "      <td>PAINEL LATERAL 05. SUJEIRA NA PINTURA</td>\n",
       "      <td>4/4/2024 06:42:16</td>\n",
       "      <td>PAINEL</td>\n",
       "      <td>LATERAL 05. SUJEIRA NA PINTURA</td>\n",
       "    </tr>\n",
       "    <tr>\n",
       "      <th>18</th>\n",
       "      <td>2024-1316075</td>\n",
       "      <td>K2K2</td>\n",
       "      <td>CWL</td>\n",
       "      <td>HCEQS506</td>\n",
       "      <td>4004717</td>\n",
       "      <td>ZP7</td>\n",
       "      <td>PAINEL LATERAL CONTAMINADO</td>\n",
       "      <td>4/4/2024 06:29:51</td>\n",
       "      <td>PAINEL</td>\n",
       "      <td>LATERAL CONTAMINADO</td>\n",
       "    </tr>\n",
       "    <tr>\n",
       "      <th>19</th>\n",
       "      <td>2024-1316075</td>\n",
       "      <td>K2K2</td>\n",
       "      <td>CWL</td>\n",
       "      <td>HCEQS506</td>\n",
       "      <td>4004717</td>\n",
       "      <td>ZP7</td>\n",
       "      <td>PARALAMA DIANTEIRO 02. ONDULAÇÃO</td>\n",
       "      <td>4/4/2024 06:37:58</td>\n",
       "      <td>PARALAMA</td>\n",
       "      <td>DIANTEIRO 02. ONDULAÇÃO</td>\n",
       "    </tr>\n",
       "    <tr>\n",
       "      <th>20</th>\n",
       "      <td>2024-1316075</td>\n",
       "      <td>K2K2</td>\n",
       "      <td>CWL</td>\n",
       "      <td>HCEQS506</td>\n",
       "      <td>4004717</td>\n",
       "      <td>ZP7</td>\n",
       "      <td>PARALAMA DIANTEIRO PREP. PINTURA NOK</td>\n",
       "      <td>4/4/2024 06:25:44</td>\n",
       "      <td>PARALAMA</td>\n",
       "      <td>DIANTEIRO PREP. PINTURA NOK</td>\n",
       "    </tr>\n",
       "  </tbody>\n",
       "</table>\n",
       "</div>"
      ],
      "text/plain": [
       "0            KNR   COR MOTOR   ESTACAO  USUARIO HALLE  \\\n",
       "1   2023-2056234  2R2R   DHS  HCEQS506  4013334  ZP7    \n",
       "2   2023-2056234  2R2R   DHS  HCEQS506  4013334  ZP7    \n",
       "3   2023-2056234  2R2R   DHS  PCEQS620  2058570  ZP6    \n",
       "4   2023-2056234  2R2R   DHS  PCEQS999  2087715  ESPC   \n",
       "5   2023-3896001  0Q0Q        HCEQS203  2043971  ZP5A   \n",
       "6   2023-3896001  0Q0Q        HCEQS203  2043971  ZP5A   \n",
       "7   2023-4896002  0Q0Q        PCEQS314  2061350  ZP5A   \n",
       "8   2024-0576008  6UA1   CWL  PCEQS622  4004807  ZP8R   \n",
       "9   2024-0576008  6UA1   CWL  PCEQS622  4004807  ZP8R   \n",
       "10  2024-0576017  K2K2   CWL  PCEQS999  2087715  ESPC   \n",
       "11  2024-0576017  K2K2   CWL  PCEQS999  2087715  ESPC   \n",
       "12  2024-0576018  2R2R   DHS      STOL  FHQWRAP   ZP6   \n",
       "13  2024-0576018  2R2R   DHS      STOL  FHQWRAP  ZP6    \n",
       "14  2024-1316075  K2K2   CWL  HCEQS504  2051427   ZP7   \n",
       "15  2024-1316075  K2K2   CWL  HCEQS504  2051427  ZP7    \n",
       "16  2024-1316075  K2K2   CWL  HCEQS506  4004717   ZP7   \n",
       "17  2024-1316075  K2K2   CWL  HCEQS506  4004717   ZP7   \n",
       "18  2024-1316075  K2K2   CWL  HCEQS506  4004717   ZP7   \n",
       "19  2024-1316075  K2K2   CWL  HCEQS506  4004717   ZP7   \n",
       "20  2024-1316075  K2K2   CWL  HCEQS506  4004717   ZP7   \n",
       "\n",
       "0                                               FALHA                DATA  \\\n",
       "1                     PARALAMA DIANTEIRO 01. AMASSADO  20/5/2024 21:31:52   \n",
       "2                    PORTA TRASEIRA 04. CAROÇO / PICO  20/5/2024 21:30:23   \n",
       "3                 MÓDULO DO ACC (13) PEÇA INCORRETA ¨  20/5/2024 20:04:56   \n",
       "4               TAMPA TRASEIRA 05. SUJEIRA NA PINTURA  11/4/2024 12:15:40   \n",
       "5              TAMPA DIANTEIRA 05. SUJEIRA NA PINTURA   5/6/2024 17:38:52   \n",
       "6               TAMPA TRASEIRA 05. SUJEIRA NA PINTURA   5/6/2024 17:39:18   \n",
       "7                         TETO 05. SUJEIRA NA PINTURA  28/5/2024 12:25:49   \n",
       "8                                 FAROL (09) PEÇA NOK   9/4/2024 17:51:52   \n",
       "9                                 FAROL (09) PEÇA NOK   9/4/2024 17:51:52   \n",
       "10              TAMPA TRASEIRA 05. SUJEIRA NA PINTURA  11/4/2024 11:58:13   \n",
       "11              TAMPA TRASEIRA 05. SUJEIRA NA PINTURA  11/4/2024 11:58:13   \n",
       "12                       TESTE ELETRÔNICO (IBN_3) NOK  12/4/2024 17:38:05   \n",
       "13                       TESTE ELETRÔNICO (IBN_3) NOK  12/4/2024 17:38:05   \n",
       "14                   CONSOLE CENTRAL AJUSTE INCORRETO   4/4/2024 06:56:31   \n",
       "15                   CONSOLE CENTRAL AJUSTE INCORRETO   4/4/2024 06:56:31   \n",
       "16  APLIQUE DA TAMPA TRASEIRA (GRIP MOLDING) DANIF...   4/4/2024 06:39:45   \n",
       "17              PAINEL LATERAL 05. SUJEIRA NA PINTURA   4/4/2024 06:42:16   \n",
       "18                         PAINEL LATERAL CONTAMINADO   4/4/2024 06:29:51   \n",
       "19                   PARALAMA DIANTEIRO 02. ONDULAÇÃO   4/4/2024 06:37:58   \n",
       "20               PARALAMA DIANTEIRO PREP. PINTURA NOK   4/4/2024 06:25:44   \n",
       "\n",
       "0       PEÇA                                         FALHA_PEÇA  \n",
       "1   PARALAMA                             DIANTEIRO 01. AMASSADO  \n",
       "2      PORTA                         TRASEIRA 04. CAROÇO / PICO  \n",
       "3     MÓDULO                       DO ACC (13) PEÇA INCORRETA ¨  \n",
       "4      TAMPA                    TRASEIRA 05. SUJEIRA NA PINTURA  \n",
       "5      TAMPA                   DIANTEIRA 05. SUJEIRA NA PINTURA  \n",
       "6      TAMPA                    TRASEIRA 05. SUJEIRA NA PINTURA  \n",
       "7       TETO                             05. SUJEIRA NA PINTURA  \n",
       "8      FAROL                                      (09) PEÇA NOK  \n",
       "9      FAROL                                      (09) PEÇA NOK  \n",
       "10     TAMPA                    TRASEIRA 05. SUJEIRA NA PINTURA  \n",
       "11     TAMPA                    TRASEIRA 05. SUJEIRA NA PINTURA  \n",
       "12     TESTE                             ELETRÔNICO (IBN_3) NOK  \n",
       "13     TESTE                             ELETRÔNICO (IBN_3) NOK  \n",
       "14   CONSOLE                           CENTRAL AJUSTE INCORRETO  \n",
       "15   CONSOLE                           CENTRAL AJUSTE INCORRETO  \n",
       "16   APLIQUE  DA TAMPA TRASEIRA (GRIP MOLDING) DANIFICADO (A) ¨  \n",
       "17    PAINEL                     LATERAL 05. SUJEIRA NA PINTURA  \n",
       "18    PAINEL                                LATERAL CONTAMINADO  \n",
       "19  PARALAMA                            DIANTEIRO 02. ONDULAÇÃO  \n",
       "20  PARALAMA                        DIANTEIRO PREP. PINTURA NOK  "
      ]
     },
     "execution_count": 21,
     "metadata": {},
     "output_type": "execute_result"
    }
   ],
   "source": [
    "df.head(20)"
   ]
  },
  {
   "cell_type": "code",
   "execution_count": 22,
   "metadata": {
    "colab": {
     "base_uri": "https://localhost:8080/",
     "height": 722
    },
    "id": "k4nAx3OWr-aB",
    "outputId": "f76f18f0-ab18-4da0-dcf9-763431351e3e"
   },
   "outputs": [
    {
     "data": {
      "text/plain": [
       "KNR           COR   MOTOR  ESTACAO   USUARIO  HALLE  FALHA                                            DATA                PEÇA   FALHA_PEÇA                               \n",
       "2024-1736352  K2K2  DHS    PCEQS601  2077914  ZP62   MOTOR LIMPADOR VIDRO TRASEIRO (09) MONTAGEM NOK  23/4/2024 23:34:54  MOTOR  LIMPADOR VIDRO TRASEIRO (09) MONTAGEM NOK    2\n",
       "2024-1456342  0Q0Q  DHS    PCEQS601  4002690  ZP62   MOTOR LIMPADOR PÁRA-BRISA BZD - FALTA LEITURA    9/4/2024 15:04:50   MOTOR  LIMPADOR PÁRA-BRISA BZD - FALTA LEITURA      2\n",
       "2024-1736361  2R2R  DHS    PCEQS601  4006401  ZP62   MOTOR LIMPADOR VIDRO TRASEIRO (09) SOLTO(A) ¨    24/4/2024 06:21:13  MOTOR  LIMPADOR VIDRO TRASEIRO (09) SOLTO(A) ¨      2\n",
       "2024-1736342  0Q0Q  DHS    PCEQS601  2077914  ZP62   MOTOR LIMPADOR VIDRO TRASEIRO (09) MONTAGEM NOK  23/4/2024 23:19:58  MOTOR  LIMPADOR VIDRO TRASEIRO (09) MONTAGEM NOK    2\n",
       "2024-1746018  K2K2  DHS    PCEQS601  2075733  ZP62   MOTOR LIMPADOR VIDRO TRASEIRO (09) SOLTO(A) ¨    24/4/2024 09:38:57  MOTOR  LIMPADOR VIDRO TRASEIRO (09) SOLTO(A) ¨      2\n",
       "                                                                                                                                                                             ..\n",
       "2024-1916460  K2K2  CWL    PCEQS614  2053683  ZP6    MOTOR FALHANDO                                   6/5/2024 20:50:08   MOTOR  FALHANDO                                     1\n",
       "                                     4005421  ZP6    MOTOR OSCILA                                     7/5/2024 08:11:26   MOTOR  OSCILA                                       1\n",
       "                                              ZP6    MOTOR OSCILA                                     7/5/2024 08:11:26   MOTOR  OSCILA                                       1\n",
       "                           PCEQS620  2048361  ZP6    MOTOR OSCILA                                     6/5/2024 07:27:37   MOTOR  OSCILA                                       1\n",
       "2024-2626341  2R2R  CWL    PCEQS614  4005421  ZP6    MOTOR OSCILA                                     20/6/2024 07:57:28  MOTOR  OSCILA                                       1\n",
       "Name: count, Length: 184, dtype: int64"
      ]
     },
     "execution_count": 22,
     "metadata": {},
     "output_type": "execute_result"
    }
   ],
   "source": [
    "df[df['PEÇA'] == 'MOTOR'].value_counts()"
   ]
  },
  {
   "cell_type": "code",
   "execution_count": 23,
   "metadata": {
    "colab": {
     "base_uri": "https://localhost:8080/",
     "height": 269
    },
    "id": "u7IndhKYr4GG",
    "outputId": "45d17cc2-bd3e-4246-e7a1-7247453ec4d6"
   },
   "outputs": [
    {
     "data": {
      "text/plain": [
       "MOTOR\n",
       "DHS    194018\n",
       "CWL    117526\n",
       "DRP     15086\n",
       "CWS       692\n",
       "            3\n",
       "Name: count, dtype: int64"
      ]
     },
     "execution_count": 23,
     "metadata": {},
     "output_type": "execute_result"
    }
   ],
   "source": [
    "df['MOTOR'].value_counts()"
   ]
  },
  {
   "cell_type": "code",
   "execution_count": 24,
   "metadata": {
    "colab": {
     "base_uri": "https://localhost:8080/",
     "height": 484
    },
    "id": "JAjQiyG90BX2",
    "outputId": "37f098dd-e626-4ff3-81be-7e3121057b5e"
   },
   "outputs": [
    {
     "data": {
      "text/plain": [
       "PEÇA\n",
       "PAINEL        92915\n",
       "PORTA         66154\n",
       "TAMPA         64037\n",
       "PARALAMA      21839\n",
       "TETO          19686\n",
       "              ...  \n",
       "18.               2\n",
       "ESPUMA            2\n",
       "SELETOR           2\n",
       "COMUTADOR         2\n",
       "SERVOMOTOR        1\n",
       "Name: count, Length: 249, dtype: int64"
      ]
     },
     "execution_count": 24,
     "metadata": {},
     "output_type": "execute_result"
    }
   ],
   "source": [
    "df['PEÇA'].value_counts()"
   ]
  },
  {
   "cell_type": "code",
   "execution_count": 25,
   "metadata": {
    "colab": {
     "base_uri": "https://localhost:8080/"
    },
    "id": "MPbCZOZOlzj6",
    "outputId": "82a93d1a-d612-4b8d-aec1-d6b957689f36"
   },
   "outputs": [
    {
     "data": {
      "text/plain": [
       "array(['ZP7 ', 'ZP6 ', 'ESPC', 'ZP5A', 'ZP8R', 'ZP6', 'ZP7', 'ZP8',\n",
       "       'ZP8 ', 'RUID', 'ROD', 'ROD ', 'CAB', 'CAB ', 'DKA', 'DKA ',\n",
       "       'AGUA', 'BUY', 'BUY ', 'ZP61', 'ZP62', 'PROC', 'ZP5', 'ZP5 ',\n",
       "       'PVC', 'PVC ', nan, '    '], dtype=object)"
      ]
     },
     "execution_count": 25,
     "metadata": {},
     "output_type": "execute_result"
    }
   ],
   "source": [
    "df['HALLE'].unique()"
   ]
  },
  {
   "cell_type": "code",
   "execution_count": 26,
   "metadata": {
    "id": "nqVA_GrVmB2l"
   },
   "outputs": [],
   "source": [
    "df['HALLE'] = df['HALLE'].str.split(' ').str[0]"
   ]
  },
  {
   "cell_type": "code",
   "execution_count": 27,
   "metadata": {
    "colab": {
     "base_uri": "https://localhost:8080/",
     "height": 207
    },
    "id": "aNcWNwTY6N22",
    "outputId": "cb7f6a24-77ab-475c-bb28-2e19c726720a"
   },
   "outputs": [
    {
     "data": {
      "text/plain": [
       "count     327325\n",
       "unique       249\n",
       "top       PAINEL\n",
       "freq       92915\n",
       "Name: PEÇA, dtype: object"
      ]
     },
     "execution_count": 27,
     "metadata": {},
     "output_type": "execute_result"
    }
   ],
   "source": [
    "df['PEÇA'].describe()"
   ]
  },
  {
   "cell_type": "code",
   "execution_count": 28,
   "metadata": {
    "colab": {
     "base_uri": "https://localhost:8080/",
     "height": 207
    },
    "id": "9k2_MP-Z6Wwa",
    "outputId": "5aa2890e-92ce-4b4f-a56b-5620ec9a8cb9"
   },
   "outputs": [
    {
     "data": {
      "text/plain": [
       "count                             327325\n",
       "unique                              2208\n",
       "top       LATERAL 05. SUJEIRA NA PINTURA\n",
       "freq                               25135\n",
       "Name: FALHA_PEÇA, dtype: object"
      ]
     },
     "execution_count": 28,
     "metadata": {},
     "output_type": "execute_result"
    }
   ],
   "source": [
    "df['FALHA_PEÇA'].describe()"
   ]
  },
  {
   "cell_type": "code",
   "execution_count": 29,
   "metadata": {
    "colab": {
     "base_uri": "https://localhost:8080/"
    },
    "id": "m7OpMwvzm4Ht",
    "outputId": "b28f702a-e40c-43c3-dfe1-ed6c1e3af004"
   },
   "outputs": [
    {
     "name": "stdout",
     "output_type": "stream",
     "text": [
      "Data Types:\n",
      " 0\n",
      "KNR           object\n",
      "COR           object\n",
      "MOTOR         object\n",
      "ESTACAO       object\n",
      "USUARIO       object\n",
      "HALLE         object\n",
      "FALHA         object\n",
      "DATA          object\n",
      "PEÇA          object\n",
      "FALHA_PEÇA    object\n",
      "dtype: object\n"
     ]
    }
   ],
   "source": [
    "data_types = df.dtypes\n",
    "print(\"Data Types:\\n\", data_types)"
   ]
  },
  {
   "cell_type": "code",
   "execution_count": 70,
   "metadata": {},
   "outputs": [
    {
     "name": "stdout",
     "output_type": "stream",
     "text": [
      "Número de KNRs de 2024: 327318\n"
     ]
    }
   ],
   "source": [
    "count_starts_with_2024 = df['KNR'].str.startswith('2024').sum()\n",
    "\n",
    "print(\"Número de KNRs de 2024:\", count_starts_with_2024)"
   ]
  },
  {
   "cell_type": "code",
   "execution_count": 71,
   "metadata": {},
   "outputs": [
    {
     "name": "stdout",
     "output_type": "stream",
     "text": [
      "Número de KNRs de 2023: 7\n"
     ]
    }
   ],
   "source": [
    "count_starts_with_2023 = df['KNR'].str.startswith('2023').sum()\n",
    "\n",
    "print(\"Número de KNRs de 2023:\", count_starts_with_2023)"
   ]
  },
  {
   "cell_type": "code",
   "execution_count": 30,
   "metadata": {
    "colab": {
     "base_uri": "https://localhost:8080/"
    },
    "id": "hWoCuCBKfKXF",
    "outputId": "57572111-0389-4f13-ed29-5a816f136168"
   },
   "outputs": [
    {
     "name": "stdout",
     "output_type": "stream",
     "text": [
      "zsh:1: command not found: pip\n"
     ]
    }
   ],
   "source": [
    "!pip install -U ydata-profiling"
   ]
  },
  {
   "cell_type": "code",
   "execution_count": 31,
   "metadata": {
    "id": "Wh1RbZv-5RPZ",
    "scrolled": true
   },
   "outputs": [
    {
     "name": "stderr",
     "output_type": "stream",
     "text": [
      "/Library/Frameworks/Python.framework/Versions/3.12/lib/python3.12/site-packages/tqdm/auto.py:21: TqdmWarning: IProgress not found. Please update jupyter and ipywidgets. See https://ipywidgets.readthedocs.io/en/stable/user_install.html\n",
      "  from .autonotebook import tqdm as notebook_tqdm\n"
     ]
    }
   ],
   "source": [
    "from ydata_profiling import ProfileReport\n",
    "import pandas as pd"
   ]
  },
  {
   "cell_type": "code",
   "execution_count": 32,
   "metadata": {
    "colab": {
     "base_uri": "https://localhost:8080/",
     "height": 917,
     "referenced_widgets": [
      "7774e863eb114fe7bccb84fb56895ce8",
      "1da341817c9d434dbfd7791c03796a40",
      "7fbdac9e6dca479391dd3f9f95daccf4",
      "7513b9ce7d2c440ab7aa856ec7a32725",
      "bf533db0159d463c898020fac6fe3586",
      "e509965d1d24417e9fe9cb001c99c40c",
      "8b21a71cfae24fda8860dbb0af4e7504",
      "601ec49067f848e39b2aa9c664b282ea",
      "35c16632e76c4789bf9055fc858dc85d",
      "2cb337df67ef43baa4ce82a5e359f275",
      "6b68df25d1974aad85afdf4295969e38",
      "cafc0b8e4cc841448fb79b2fe8b07ffb",
      "5e434828f9424dc2ab1c04ed4efd63ea",
      "0a7fb8c818d84a7c974f2de582020805",
      "5f46bcbc860d49809b83fe31168fb169",
      "e3230eb2514d49d5a957b77882b96134",
      "4069da5eb54b419e8b44a8e2eda2b3f9",
      "1d46a92528934a32b3fa2ae4e72fdb11",
      "4e1cb93c4f0a43b5a9bf63b4452ddaf6",
      "0d7ed50e21d94f3594e28dadfb76a139",
      "f6ee869a445d47ac96e41b147ea03c1f",
      "30087e05512744cc81a6b73840c7320a",
      "7e3fd10f309240f1a5e1aca79c99c1fe",
      "9e8cc05d0cf442df9ff9ddb6f0d23a2a",
      "709103903a054c358c364349d7f29672",
      "2a637286f395487aa1290416450fc362",
      "19f4097316f246d9896b782bca632847",
      "828d52b87961477387e112490c0d9832",
      "af1b5b27a0b049a88e822d486347b6ec",
      "9d6ce68cfcd54fcb8e04b3c9560906bf",
      "ff8dad61507b4034956ec0c7f5ca07d3",
      "a7e4306f568a49cd8b7d12e9c945f146",
      "31db749b06364a62a229381f31905f17"
     ]
    },
    "id": "sZRKdZV75MnD",
    "outputId": "76f3e9eb-38fd-4660-a90b-ffd183992b07",
    "scrolled": true
   },
   "outputs": [
    {
     "name": "stderr",
     "output_type": "stream",
     "text": [
      "Summarize dataset: 100%|██████████████████████████████████████████████████████████████████████████████| 20/20 [00:17<00:00,  1.16it/s, Completed]\n",
      "Generate report structure: 100%|███████████████████████████████████████████████████████████████████████████████████| 1/1 [00:03<00:00,  3.42s/it]\n",
      "Render HTML: 100%|█████████████████████████████████████████████████████████████████████████████████████████████████| 1/1 [00:00<00:00,  5.11it/s]\n",
      "Export report to file: 100%|██████████████████████████████████████████████████████████████████████████████████████| 1/1 [00:00<00:00, 324.24it/s]\n"
     ]
    }
   ],
   "source": [
    "# Gerando o relatório\n",
    "profile = ProfileReport(df, title='Relatório de Análise Descritiva', explorative=True)\n",
    "\n",
    "profile.to_file(\"relatorio_analise_descritiva_falhas.html\")"
   ]
  },
  {
   "cell_type": "code",
   "execution_count": 33,
   "metadata": {
    "id": "WhG26AqLhw5j"
   },
   "outputs": [],
   "source": [
    "# Importando as bibliotecas\n",
    "import matplotlib.pyplot as plt\n",
    "import seaborn as sns"
   ]
  },
  {
   "cell_type": "code",
   "execution_count": 34,
   "metadata": {
    "colab": {
     "base_uri": "https://localhost:8080/",
     "height": 466
    },
    "id": "7iG9Wapj5ZYT",
    "outputId": "42c1ba95-9bdc-4e6d-9c40-a743e061638c"
   },
   "outputs": [
    {
     "name": "stderr",
     "output_type": "stream",
     "text": [
      "/var/folders/tk/cffj7y_s7fx5cs8bnqgnpvn80000gn/T/ipykernel_18979/77814070.py:10: UserWarning: FigureCanvasAgg is non-interactive, and thus cannot be shown\n",
      "  plt.show()\n"
     ]
    }
   ],
   "source": [
    "plt.figure(figsize=(16, 8))\n",
    "\n",
    "order = df['FALHA'].value_counts().nlargest(10).index\n",
    "\n",
    "# Plotando o gráfico\n",
    "sns.countplot(data=df, y='FALHA', order=order)\n",
    "plt.title('Tipos de falha por veículo')\n",
    "plt.xlabel('Quantidade de veículos')\n",
    "plt.ylabel('Falhas')\n",
    "plt.show()"
   ]
  },
  {
   "cell_type": "code",
   "execution_count": 35,
   "metadata": {
    "colab": {
     "base_uri": "https://localhost:8080/",
     "height": 555
    },
    "id": "aojWsKnChvFe",
    "outputId": "2692f5b5-407d-4639-bf15-a889cd0f9675"
   },
   "outputs": [
    {
     "name": "stderr",
     "output_type": "stream",
     "text": [
      "/var/folders/tk/cffj7y_s7fx5cs8bnqgnpvn80000gn/T/ipykernel_18979/762063765.py:9: UserWarning: FigureCanvasAgg is non-interactive, and thus cannot be shown\n",
      "  plt.show()\n"
     ]
    }
   ],
   "source": [
    "plt.figure(figsize=(16, 8))\n",
    "\n",
    "order = df['MOTOR'].value_counts().nlargest(4).index\n",
    "\n",
    "sns.countplot(data=df, y='MOTOR', order=order)\n",
    "plt.title('Tipos de falha por motor')\n",
    "plt.xlabel('Quantidade de falhas')\n",
    "plt.ylabel('Falhas')\n",
    "plt.show()"
   ]
  },
  {
   "cell_type": "code",
   "execution_count": 36,
   "metadata": {
    "colab": {
     "base_uri": "https://localhost:8080/",
     "height": 207
    },
    "id": "yifcCxgzi_Ix",
    "outputId": "370c37de-c132-4001-cb18-464d1325ba1f"
   },
   "outputs": [
    {
     "data": {
      "text/plain": [
       "count           327325\n",
       "unique           23972\n",
       "top       2024-1746005\n",
       "freq                94\n",
       "Name: KNR, dtype: object"
      ]
     },
     "execution_count": 36,
     "metadata": {},
     "output_type": "execute_result"
    }
   ],
   "source": [
    "df['KNR'].describe()"
   ]
  },
  {
   "cell_type": "code",
   "execution_count": 37,
   "metadata": {
    "colab": {
     "base_uri": "https://localhost:8080/",
     "height": 529
    },
    "id": "Rah9m_RbjPtZ",
    "outputId": "42d4b5cd-ea83-466a-9327-9d31fd365120"
   },
   "outputs": [
    {
     "name": "stderr",
     "output_type": "stream",
     "text": [
      "/var/folders/tk/cffj7y_s7fx5cs8bnqgnpvn80000gn/T/ipykernel_18979/3696129182.py:10: UserWarning: FigureCanvasAgg is non-interactive, and thus cannot be shown\n",
      "  plt.show()\n"
     ]
    }
   ],
   "source": [
    "plt.figure(figsize=(16, 8))\n",
    "\n",
    "order = df['KNR'].value_counts().nlargest(20).index\n",
    "\n",
    "# Plotando o gráfico\n",
    "sns.countplot(data=df, y='KNR', order=order)\n",
    "plt.title('Quantidade de falhas por KNR')\n",
    "plt.xlabel('Quantidade de falhas')\n",
    "plt.ylabel('KNR')\n",
    "plt.show()"
   ]
  },
  {
   "cell_type": "code",
   "execution_count": 38,
   "metadata": {
    "colab": {
     "base_uri": "https://localhost:8080/"
    },
    "id": "8GgjaxtqhY9S",
    "outputId": "4da9183f-b36a-41b8-882c-bbedee76cf90"
   },
   "outputs": [
    {
     "name": "stdout",
     "output_type": "stream",
     "text": [
      "Média de falhas por KNR: 13.654471883864508\n"
     ]
    }
   ],
   "source": [
    "media_de_falhas_por_knr = df['KNR'].value_counts().mean()\n",
    "print(\"Média de falhas por KNR:\", media_de_falhas_por_knr)"
   ]
  },
  {
   "cell_type": "code",
   "execution_count": 39,
   "metadata": {
    "id": "S8TKv-D3jyMF"
   },
   "outputs": [],
   "source": [
    "# import pandas as pd\n",
    "# import matplotlib.pyplot as plt\n",
    "\n",
    "# # Group by KNR and FALHA and count occurrences\n",
    "# failure_counts = df.groupby(['KNR', 'FALHA']).size().reset_index(name='Count')\n",
    "\n",
    "# # Sort and retain only top 5 failure types per KNR\n",
    "# top_failures_per_knr = failure_counts.groupby('KNR').apply(\n",
    "#     lambda x: x.sort_values('Count', ascending=False).head(5)\n",
    "# ).reset_index(drop=True)\n",
    "\n",
    "# # Pivot the data for plotting\n",
    "# pivot_df = top_failures_per_knr.pivot(index='KNR', columns='FALHA', values='Count').fillna(0)\n",
    "\n",
    "# # Get top 20 KNRs based on total number of top 5 failures\n",
    "# pivot_df['Total'] = pivot_df.sum(axis=1)\n",
    "# top_knr = pivot_df.sort_values('Total', ascending=False).head(20)\n",
    "# top_knr.drop(columns='Total', inplace=True)\n",
    "\n",
    "# # Plotting\n",
    "# top_knr.plot(kind='bar', stacked=True, figsize=(16, 8))\n",
    "# plt.title('Top 5 Types of Failures per KNR')\n",
    "# plt.xlabel('KNR')\n",
    "# plt.ylabel('Count of Failures')\n",
    "# plt.legend(title='Type of Failure', bbox_to_anchor=(1.05, 1), loc='upper left')\n",
    "# plt.show()"
   ]
  },
  {
   "cell_type": "code",
   "execution_count": 40,
   "metadata": {
    "colab": {
     "base_uri": "https://localhost:8080/",
     "height": 455
    },
    "id": "3qcvA-o4ln1e",
    "outputId": "f8b27f02-8d9b-4bcb-d0f6-e17c1ccf91fc"
   },
   "outputs": [
    {
     "data": {
      "text/plain": [
       "COR\n",
       "K2K2    86577\n",
       "2R2R    75643\n",
       "0Q0Q    55588\n",
       "A1A1    34322\n",
       "5T5T    31912\n",
       "6UA1    17185\n",
       "6K6K     8951\n",
       "0QA1     5034\n",
       "2RA1     4988\n",
       "K2A1     4205\n",
       "6KA1     2920\n",
       "Name: count, dtype: int64"
      ]
     },
     "execution_count": 40,
     "metadata": {},
     "output_type": "execute_result"
    }
   ],
   "source": [
    "df['COR'].value_counts()"
   ]
  },
  {
   "cell_type": "code",
   "execution_count": 41,
   "metadata": {
    "colab": {
     "base_uri": "https://localhost:8080/",
     "height": 207
    },
    "id": "bamL9kpsNdhv",
    "outputId": "9cefdb7a-7907-4c4d-e6b7-0e2456de244d"
   },
   "outputs": [
    {
     "data": {
      "text/plain": [
       "count     327325\n",
       "unique        11\n",
       "top         K2K2\n",
       "freq       86577\n",
       "Name: COR, dtype: object"
      ]
     },
     "execution_count": 41,
     "metadata": {},
     "output_type": "execute_result"
    }
   ],
   "source": [
    "df['COR'].describe()"
   ]
  },
  {
   "cell_type": "code",
   "execution_count": null,
   "metadata": {
    "id": "sxekMrJTNjFf"
   },
   "outputs": [],
   "source": []
  },
  {
   "cell_type": "markdown",
   "metadata": {
    "id": "d6IuDRDP1LnR"
   },
   "source": [
    "# Visualização de Dados - Tabela de Predict"
   ]
  },
  {
   "cell_type": "code",
   "execution_count": 43,
   "metadata": {
    "id": "UpHBi4iJ1Pye"
   },
   "outputs": [],
   "source": [
    "df_predict = pd.read_csv('PREDICT_VW_M7_EC.csv', sep=';')"
   ]
  },
  {
   "cell_type": "code",
   "execution_count": 44,
   "metadata": {
    "id": "wTzFRWBT1qBC"
   },
   "outputs": [],
   "source": [
    "df_predict = pd.DataFrame(df_predict)"
   ]
  },
  {
   "cell_type": "code",
   "execution_count": 45,
   "metadata": {
    "colab": {
     "base_uri": "https://localhost:8080/",
     "height": 593
    },
    "id": "jRUUvX4C31Dc",
    "outputId": "5fe489f5-ee62-4af8-a428-3a029b3c8b18"
   },
   "outputs": [
    {
     "data": {
      "text/html": [
       "<div>\n",
       "<style scoped>\n",
       "    .dataframe tbody tr th:only-of-type {\n",
       "        vertical-align: middle;\n",
       "    }\n",
       "\n",
       "    .dataframe tbody tr th {\n",
       "        vertical-align: top;\n",
       "    }\n",
       "\n",
       "    .dataframe thead th {\n",
       "        text-align: right;\n",
       "    }\n",
       "</style>\n",
       "<table border=\"1\" class=\"dataframe\">\n",
       "  <thead>\n",
       "    <tr style=\"text-align: right;\">\n",
       "      <th></th>\n",
       "      <th>KNR</th>\n",
       "      <th>MOD</th>\n",
       "      <th>TEMPO_MONT</th>\n",
       "      <th>TEMPO_BODY</th>\n",
       "      <th>TEMPO_ZP5</th>\n",
       "      <th>TEMPO_ZP6</th>\n",
       "      <th>TEMPO_ZP7</th>\n",
       "      <th>TEMPO_CABINES</th>\n",
       "      <th>TEMPO_TOTAL</th>\n",
       "      <th>DIV_MIN_ZP7</th>\n",
       "      <th>...</th>\n",
       "      <th>MAX_TORQUE_3107</th>\n",
       "      <th>MAX_TORQUE_3108</th>\n",
       "      <th>MAX_TORQUE_4224</th>\n",
       "      <th>MIN_TORQUE_1302</th>\n",
       "      <th>MIN_TORQUE_3141</th>\n",
       "      <th>MIN_TORQUE_3214</th>\n",
       "      <th>MIN_TORQUE_4204</th>\n",
       "      <th>MIN_TORQUE_4212</th>\n",
       "      <th>MIN_TORQUE_5947</th>\n",
       "      <th>TOTAL_TORQUE_NOK</th>\n",
       "    </tr>\n",
       "  </thead>\n",
       "  <tbody>\n",
       "    <tr>\n",
       "      <th>0</th>\n",
       "      <td>2024-0316012</td>\n",
       "      <td>T-Cross 1.0  TPLUS  128cv  A6F</td>\n",
       "      <td>431</td>\n",
       "      <td>873.0</td>\n",
       "      <td>11.0</td>\n",
       "      <td>52653</td>\n",
       "      <td>0</td>\n",
       "      <td>0.0</td>\n",
       "      <td>55775</td>\n",
       "      <td>0</td>\n",
       "      <td>...</td>\n",
       "      <td>60.21</td>\n",
       "      <td>60.72</td>\n",
       "      <td>18.45</td>\n",
       "      <td>30.13</td>\n",
       "      <td>130.53</td>\n",
       "      <td>95.76</td>\n",
       "      <td>23.31</td>\n",
       "      <td>23.03</td>\n",
       "      <td>57.65</td>\n",
       "      <td>0</td>\n",
       "    </tr>\n",
       "    <tr>\n",
       "      <th>1</th>\n",
       "      <td>2024-0316022</td>\n",
       "      <td>T-Cross 1.0  TPLUS  128cv  A6F</td>\n",
       "      <td>431</td>\n",
       "      <td>843.0</td>\n",
       "      <td>13.0</td>\n",
       "      <td>52327</td>\n",
       "      <td>554</td>\n",
       "      <td>0.0</td>\n",
       "      <td>57376</td>\n",
       "      <td>103</td>\n",
       "      <td>...</td>\n",
       "      <td>60.43</td>\n",
       "      <td>60.57</td>\n",
       "      <td>18.11</td>\n",
       "      <td>30.17</td>\n",
       "      <td>116.84</td>\n",
       "      <td>98.58</td>\n",
       "      <td>23.07</td>\n",
       "      <td>23.10</td>\n",
       "      <td>58.57</td>\n",
       "      <td>0</td>\n",
       "    </tr>\n",
       "    <tr>\n",
       "      <th>2</th>\n",
       "      <td>2024-0316030</td>\n",
       "      <td>T-Cross 1.4  HIGH   150cv  A6F</td>\n",
       "      <td>822</td>\n",
       "      <td>1485.0</td>\n",
       "      <td>12.0</td>\n",
       "      <td>532</td>\n",
       "      <td>0</td>\n",
       "      <td>0.0</td>\n",
       "      <td>56161</td>\n",
       "      <td>0</td>\n",
       "      <td>...</td>\n",
       "      <td>60.44</td>\n",
       "      <td>60.51</td>\n",
       "      <td>18.30</td>\n",
       "      <td>30.10</td>\n",
       "      <td>134.39</td>\n",
       "      <td>96.00</td>\n",
       "      <td>23.07</td>\n",
       "      <td>23.17</td>\n",
       "      <td>53.21</td>\n",
       "      <td>0</td>\n",
       "    </tr>\n",
       "    <tr>\n",
       "      <th>3</th>\n",
       "      <td>2024-0316046</td>\n",
       "      <td>T-Cross 1.0  COMFO  85KW   A6F</td>\n",
       "      <td>435</td>\n",
       "      <td>1093.0</td>\n",
       "      <td>9.0</td>\n",
       "      <td>504</td>\n",
       "      <td>0</td>\n",
       "      <td>0.0</td>\n",
       "      <td>56717</td>\n",
       "      <td>0</td>\n",
       "      <td>...</td>\n",
       "      <td>60.60</td>\n",
       "      <td>60.50</td>\n",
       "      <td>18.05</td>\n",
       "      <td>29.15</td>\n",
       "      <td>142.75</td>\n",
       "      <td>94.77</td>\n",
       "      <td>23.17</td>\n",
       "      <td>23.04</td>\n",
       "      <td>58.61</td>\n",
       "      <td>1</td>\n",
       "    </tr>\n",
       "    <tr>\n",
       "      <th>4</th>\n",
       "      <td>2024-0316047</td>\n",
       "      <td>T-Cross 1.0  COMFO  128cv  A6F</td>\n",
       "      <td>432</td>\n",
       "      <td>610.0</td>\n",
       "      <td>12.0</td>\n",
       "      <td>52326</td>\n",
       "      <td>0</td>\n",
       "      <td>0.0</td>\n",
       "      <td>55974</td>\n",
       "      <td>0</td>\n",
       "      <td>...</td>\n",
       "      <td>60.34</td>\n",
       "      <td>60.31</td>\n",
       "      <td>18.33</td>\n",
       "      <td>30.15</td>\n",
       "      <td>140.38</td>\n",
       "      <td>97.38</td>\n",
       "      <td>23.26</td>\n",
       "      <td>23.05</td>\n",
       "      <td>62.70</td>\n",
       "      <td>0</td>\n",
       "    </tr>\n",
       "  </tbody>\n",
       "</table>\n",
       "<p>5 rows × 80 columns</p>\n",
       "</div>"
      ],
      "text/plain": [
       "            KNR                             MOD  TEMPO_MONT  TEMPO_BODY  \\\n",
       "0  2024-0316012  T-Cross 1.0  TPLUS  128cv  A6F         431       873.0   \n",
       "1  2024-0316022  T-Cross 1.0  TPLUS  128cv  A6F         431       843.0   \n",
       "2  2024-0316030  T-Cross 1.4  HIGH   150cv  A6F         822      1485.0   \n",
       "3  2024-0316046  T-Cross 1.0  COMFO  85KW   A6F         435      1093.0   \n",
       "4  2024-0316047  T-Cross 1.0  COMFO  128cv  A6F         432       610.0   \n",
       "\n",
       "   TEMPO_ZP5  TEMPO_ZP6  TEMPO_ZP7  TEMPO_CABINES  TEMPO_TOTAL  DIV_MIN_ZP7  \\\n",
       "0       11.0      52653          0            0.0        55775            0   \n",
       "1       13.0      52327        554            0.0        57376          103   \n",
       "2       12.0        532          0            0.0        56161            0   \n",
       "3        9.0        504          0            0.0        56717            0   \n",
       "4       12.0      52326          0            0.0        55974            0   \n",
       "\n",
       "   ...  MAX_TORQUE_3107  MAX_TORQUE_3108  MAX_TORQUE_4224  MIN_TORQUE_1302  \\\n",
       "0  ...            60.21            60.72            18.45            30.13   \n",
       "1  ...            60.43            60.57            18.11            30.17   \n",
       "2  ...            60.44            60.51            18.30            30.10   \n",
       "3  ...            60.60            60.50            18.05            29.15   \n",
       "4  ...            60.34            60.31            18.33            30.15   \n",
       "\n",
       "   MIN_TORQUE_3141  MIN_TORQUE_3214  MIN_TORQUE_4204  MIN_TORQUE_4212  \\\n",
       "0           130.53            95.76            23.31            23.03   \n",
       "1           116.84            98.58            23.07            23.10   \n",
       "2           134.39            96.00            23.07            23.17   \n",
       "3           142.75            94.77            23.17            23.04   \n",
       "4           140.38            97.38            23.26            23.05   \n",
       "\n",
       "   MIN_TORQUE_5947  TOTAL_TORQUE_NOK  \n",
       "0            57.65                 0  \n",
       "1            58.57                 0  \n",
       "2            53.21                 0  \n",
       "3            58.61                 1  \n",
       "4            62.70                 0  \n",
       "\n",
       "[5 rows x 80 columns]"
      ]
     },
     "execution_count": 45,
     "metadata": {},
     "output_type": "execute_result"
    }
   ],
   "source": [
    "df_predict.head()"
   ]
  },
  {
   "cell_type": "code",
   "execution_count": 46,
   "metadata": {
    "colab": {
     "base_uri": "https://localhost:8080/"
    },
    "id": "2Q8Lx6qn3QQk",
    "outputId": "f493ae73-87e8-4c18-e2a1-013357f38a80"
   },
   "outputs": [
    {
     "name": "stdout",
     "output_type": "stream",
     "text": [
      "<class 'pandas.core.frame.DataFrame'>\n",
      "RangeIndex: 35395 entries, 0 to 35394\n",
      "Data columns (total 80 columns):\n",
      " #   Column            Non-Null Count  Dtype  \n",
      "---  ------            --------------  -----  \n",
      " 0   KNR               35395 non-null  object \n",
      " 1   MOD               35395 non-null  object \n",
      " 2   TEMPO_MONT        35395 non-null  int64  \n",
      " 3   TEMPO_BODY        35390 non-null  float64\n",
      " 4   TEMPO_ZP5         35159 non-null  float64\n",
      " 5   TEMPO_ZP6         35395 non-null  int64  \n",
      " 6   TEMPO_ZP7         35395 non-null  int64  \n",
      " 7   TEMPO_CABINES     35292 non-null  float64\n",
      " 8   TEMPO_TOTAL       35395 non-null  int64  \n",
      " 9   DIV_MIN_ZP7       35395 non-null  int64  \n",
      " 10  DIV_MIN_OPTIMO    35395 non-null  int64  \n",
      " 11  DIV_MIN_PINT      35395 non-null  int64  \n",
      " 12  N_POS_ZP7         35395 non-null  int64  \n",
      " 13  N_ZP5             35395 non-null  int64  \n",
      " 14  N_ZP5A            35395 non-null  int64  \n",
      " 15  N_ZP6             35395 non-null  int64  \n",
      " 16  N_CABINES         35395 non-null  int64  \n",
      " 17  N_OK_ZP5          35395 non-null  int64  \n",
      " 18  N_NOK_ZP5A        35395 non-null  int64  \n",
      " 19  N_OK_ZP5A         35395 non-null  int64  \n",
      " 20  N_NOK_ZP6         35395 non-null  int64  \n",
      " 21  N_OK_ZP6          35395 non-null  int64  \n",
      " 22  N_NOK_CABINES     35395 non-null  int64  \n",
      " 23  N_OK_CABINES      35395 non-null  int64  \n",
      " 24  N_NOK_ZP7         35395 non-null  int64  \n",
      " 25  TOTAL_FALHAS      35395 non-null  int64  \n",
      " 26  PR_TETO           35395 non-null  int64  \n",
      " 27  PR_DRIVE          35395 non-null  int64  \n",
      " 28  DIV_SG_ELETRICA   35395 non-null  int64  \n",
      " 29  DIV_SG_ASSOALHO   35395 non-null  int64  \n",
      " 30  DIV_SG_GERAL      35395 non-null  int64  \n",
      " 31  FALHAS_ZP5        35395 non-null  int64  \n",
      " 32  FALHAS_ZP5A       35395 non-null  int64  \n",
      " 33  FALHAS_CAB        35395 non-null  int64  \n",
      " 34  FALHAS_ZP7        35395 non-null  int64  \n",
      " 35  FALHAS_ROD        35395 non-null  int64  \n",
      " 36  TROCA_PECA        35395 non-null  int64  \n",
      " 37  REPINT            35395 non-null  int64  \n",
      " 38  MEAN_ANGLE_3108   35395 non-null  float64\n",
      " 39  MEAN_ANGLE_3205   35395 non-null  float64\n",
      " 40  MEAN_ANGLE_3214   35395 non-null  float64\n",
      " 41  MEAN_ANGLE_3233   35395 non-null  float64\n",
      " 42  MEAN_ANGLE_3234   35395 non-null  float64\n",
      " 43  MEAN_ANGLE_3141   35395 non-null  float64\n",
      " 44  MEAN_ANGLE_5243   35395 non-null  float64\n",
      " 45  MEAN_ANGLE_5244   35395 non-null  float64\n",
      " 46  MAX_ANGLE_3107    35395 non-null  float64\n",
      " 47  MAX_ANGLE_3108    35395 non-null  float64\n",
      " 48  MAX_ANGLE_3141    35395 non-null  float64\n",
      " 49  MAX_ANGLE_3142    35395 non-null  float64\n",
      " 50  MAX_ANGLE_5639    35395 non-null  float64\n",
      " 51  MAX_ANGLE_6501    35395 non-null  float64\n",
      " 52  MAX_ANGLE_6502    35395 non-null  float64\n",
      " 53  MIN_ANGLE_3233    35395 non-null  float64\n",
      " 54  MIN_ANGLE_3234    35395 non-null  float64\n",
      " 55  MIN_ANGLE_3141    35395 non-null  float64\n",
      " 56  MIN_ANGLE_3142    35395 non-null  float64\n",
      " 57  MEAN_TORQUE_1316  35395 non-null  float64\n",
      " 58  MEAN_TORQUE_1901  35395 non-null  float64\n",
      " 59  MEAN_TORQUE_1902  35395 non-null  float64\n",
      " 60  MEAN_TORQUE_2763  35395 non-null  float64\n",
      " 61  MEAN_TORQUE_3108  35395 non-null  float64\n",
      " 62  MEAN_TORQUE_3205  35395 non-null  float64\n",
      " 63  MEAN_TORQUE_3214  35395 non-null  float64\n",
      " 64  MEAN_TORQUE_4223  35395 non-null  float64\n",
      " 65  MEAN_TORQUE_4225  35346 non-null  float64\n",
      " 66  MEAN_TORQUE_5217  35395 non-null  float64\n",
      " 67  MEAN_TORQUE_5524  35395 non-null  float64\n",
      " 68  MEAN_TORQUE_5525  35395 non-null  float64\n",
      " 69  MEAN_TORQUE_5639  35395 non-null  float64\n",
      " 70  MAX_TORQUE_3107   35395 non-null  float64\n",
      " 71  MAX_TORQUE_3108   35395 non-null  float64\n",
      " 72  MAX_TORQUE_4224   35395 non-null  float64\n",
      " 73  MIN_TORQUE_1302   35395 non-null  float64\n",
      " 74  MIN_TORQUE_3141   35395 non-null  float64\n",
      " 75  MIN_TORQUE_3214   35395 non-null  float64\n",
      " 76  MIN_TORQUE_4204   35395 non-null  float64\n",
      " 77  MIN_TORQUE_4212   35395 non-null  float64\n",
      " 78  MIN_TORQUE_5947   35395 non-null  float64\n",
      " 79  TOTAL_TORQUE_NOK  35395 non-null  int64  \n",
      "dtypes: float64(44), int64(34), object(2)\n",
      "memory usage: 21.6+ MB\n"
     ]
    }
   ],
   "source": [
    "df_predict.info()"
   ]
  },
  {
   "cell_type": "code",
   "execution_count": 47,
   "metadata": {
    "colab": {
     "base_uri": "https://localhost:8080/",
     "height": 346
    },
    "id": "jdwK-tEn3TAN",
    "outputId": "0b81ae5c-22b1-429a-b3fa-674aa76a3360"
   },
   "outputs": [
    {
     "data": {
      "text/html": [
       "<div>\n",
       "<style scoped>\n",
       "    .dataframe tbody tr th:only-of-type {\n",
       "        vertical-align: middle;\n",
       "    }\n",
       "\n",
       "    .dataframe tbody tr th {\n",
       "        vertical-align: top;\n",
       "    }\n",
       "\n",
       "    .dataframe thead th {\n",
       "        text-align: right;\n",
       "    }\n",
       "</style>\n",
       "<table border=\"1\" class=\"dataframe\">\n",
       "  <thead>\n",
       "    <tr style=\"text-align: right;\">\n",
       "      <th></th>\n",
       "      <th>TEMPO_MONT</th>\n",
       "      <th>TEMPO_BODY</th>\n",
       "      <th>TEMPO_ZP5</th>\n",
       "      <th>TEMPO_ZP6</th>\n",
       "      <th>TEMPO_ZP7</th>\n",
       "      <th>TEMPO_CABINES</th>\n",
       "      <th>TEMPO_TOTAL</th>\n",
       "      <th>DIV_MIN_ZP7</th>\n",
       "      <th>DIV_MIN_OPTIMO</th>\n",
       "      <th>DIV_MIN_PINT</th>\n",
       "      <th>...</th>\n",
       "      <th>MAX_TORQUE_3107</th>\n",
       "      <th>MAX_TORQUE_3108</th>\n",
       "      <th>MAX_TORQUE_4224</th>\n",
       "      <th>MIN_TORQUE_1302</th>\n",
       "      <th>MIN_TORQUE_3141</th>\n",
       "      <th>MIN_TORQUE_3214</th>\n",
       "      <th>MIN_TORQUE_4204</th>\n",
       "      <th>MIN_TORQUE_4212</th>\n",
       "      <th>MIN_TORQUE_5947</th>\n",
       "      <th>TOTAL_TORQUE_NOK</th>\n",
       "    </tr>\n",
       "  </thead>\n",
       "  <tbody>\n",
       "    <tr>\n",
       "      <th>count</th>\n",
       "      <td>35395.000000</td>\n",
       "      <td>35390.000000</td>\n",
       "      <td>35159.000000</td>\n",
       "      <td>35395.000000</td>\n",
       "      <td>35395.000000</td>\n",
       "      <td>35292.000000</td>\n",
       "      <td>35395.000000</td>\n",
       "      <td>35395.000000</td>\n",
       "      <td>35395.000000</td>\n",
       "      <td>35395.000000</td>\n",
       "      <td>...</td>\n",
       "      <td>35395.000000</td>\n",
       "      <td>35395.000000</td>\n",
       "      <td>35395.000000</td>\n",
       "      <td>35395.000000</td>\n",
       "      <td>35395.000000</td>\n",
       "      <td>35395.000000</td>\n",
       "      <td>35395.000000</td>\n",
       "      <td>35395.000000</td>\n",
       "      <td>35395.000000</td>\n",
       "      <td>35395.000000</td>\n",
       "    </tr>\n",
       "    <tr>\n",
       "      <th>mean</th>\n",
       "      <td>1308.970504</td>\n",
       "      <td>2241.530913</td>\n",
       "      <td>44.024631</td>\n",
       "      <td>290.952027</td>\n",
       "      <td>81.409775</td>\n",
       "      <td>7.553043</td>\n",
       "      <td>8608.354796</td>\n",
       "      <td>15.639723</td>\n",
       "      <td>86.947026</td>\n",
       "      <td>5.517248</td>\n",
       "      <td>...</td>\n",
       "      <td>60.435352</td>\n",
       "      <td>60.432727</td>\n",
       "      <td>18.259367</td>\n",
       "      <td>29.879111</td>\n",
       "      <td>146.350126</td>\n",
       "      <td>92.716723</td>\n",
       "      <td>22.945732</td>\n",
       "      <td>22.891910</td>\n",
       "      <td>54.942789</td>\n",
       "      <td>1.160983</td>\n",
       "    </tr>\n",
       "    <tr>\n",
       "      <th>std</th>\n",
       "      <td>4155.782300</td>\n",
       "      <td>5905.237256</td>\n",
       "      <td>777.945324</td>\n",
       "      <td>2003.325811</td>\n",
       "      <td>620.141719</td>\n",
       "      <td>323.048368</td>\n",
       "      <td>10239.763440</td>\n",
       "      <td>479.363022</td>\n",
       "      <td>227.232713</td>\n",
       "      <td>10.244340</td>\n",
       "      <td>...</td>\n",
       "      <td>0.223471</td>\n",
       "      <td>0.239071</td>\n",
       "      <td>0.182572</td>\n",
       "      <td>2.208267</td>\n",
       "      <td>20.557274</td>\n",
       "      <td>4.919054</td>\n",
       "      <td>1.263938</td>\n",
       "      <td>1.447745</td>\n",
       "      <td>8.749900</td>\n",
       "      <td>1.265160</td>\n",
       "    </tr>\n",
       "    <tr>\n",
       "      <th>min</th>\n",
       "      <td>302.000000</td>\n",
       "      <td>2.000000</td>\n",
       "      <td>-7103.000000</td>\n",
       "      <td>-624.000000</td>\n",
       "      <td>0.000000</td>\n",
       "      <td>0.000000</td>\n",
       "      <td>1711.000000</td>\n",
       "      <td>0.000000</td>\n",
       "      <td>0.000000</td>\n",
       "      <td>0.000000</td>\n",
       "      <td>...</td>\n",
       "      <td>37.290000</td>\n",
       "      <td>34.520000</td>\n",
       "      <td>0.000000</td>\n",
       "      <td>0.000000</td>\n",
       "      <td>0.000000</td>\n",
       "      <td>-0.340000</td>\n",
       "      <td>0.000000</td>\n",
       "      <td>0.000000</td>\n",
       "      <td>0.000000</td>\n",
       "      <td>0.000000</td>\n",
       "    </tr>\n",
       "    <tr>\n",
       "      <th>25%</th>\n",
       "      <td>434.000000</td>\n",
       "      <td>609.000000</td>\n",
       "      <td>9.000000</td>\n",
       "      <td>39.000000</td>\n",
       "      <td>0.000000</td>\n",
       "      <td>0.000000</td>\n",
       "      <td>3813.500000</td>\n",
       "      <td>0.000000</td>\n",
       "      <td>8.000000</td>\n",
       "      <td>2.000000</td>\n",
       "      <td>...</td>\n",
       "      <td>60.310000</td>\n",
       "      <td>60.310000</td>\n",
       "      <td>18.170000</td>\n",
       "      <td>30.090000</td>\n",
       "      <td>136.280000</td>\n",
       "      <td>90.090000</td>\n",
       "      <td>23.040000</td>\n",
       "      <td>23.040000</td>\n",
       "      <td>54.170000</td>\n",
       "      <td>0.000000</td>\n",
       "    </tr>\n",
       "    <tr>\n",
       "      <th>50%</th>\n",
       "      <td>465.000000</td>\n",
       "      <td>961.000000</td>\n",
       "      <td>11.000000</td>\n",
       "      <td>43.000000</td>\n",
       "      <td>0.000000</td>\n",
       "      <td>0.000000</td>\n",
       "      <td>6491.000000</td>\n",
       "      <td>0.000000</td>\n",
       "      <td>19.000000</td>\n",
       "      <td>3.000000</td>\n",
       "      <td>...</td>\n",
       "      <td>60.430000</td>\n",
       "      <td>60.430000</td>\n",
       "      <td>18.260000</td>\n",
       "      <td>30.150000</td>\n",
       "      <td>142.420000</td>\n",
       "      <td>92.420000</td>\n",
       "      <td>23.090000</td>\n",
       "      <td>23.090000</td>\n",
       "      <td>56.180000</td>\n",
       "      <td>1.000000</td>\n",
       "    </tr>\n",
       "    <tr>\n",
       "      <th>75%</th>\n",
       "      <td>826.000000</td>\n",
       "      <td>1479.000000</td>\n",
       "      <td>14.000000</td>\n",
       "      <td>99.000000</td>\n",
       "      <td>0.000000</td>\n",
       "      <td>0.000000</td>\n",
       "      <td>8664.000000</td>\n",
       "      <td>0.000000</td>\n",
       "      <td>64.000000</td>\n",
       "      <td>6.000000</td>\n",
       "      <td>...</td>\n",
       "      <td>60.560000</td>\n",
       "      <td>60.550000</td>\n",
       "      <td>18.340000</td>\n",
       "      <td>30.200000</td>\n",
       "      <td>153.570000</td>\n",
       "      <td>95.050000</td>\n",
       "      <td>23.150000</td>\n",
       "      <td>23.150000</td>\n",
       "      <td>58.050000</td>\n",
       "      <td>2.000000</td>\n",
       "    </tr>\n",
       "    <tr>\n",
       "      <th>max</th>\n",
       "      <td>52821.000000</td>\n",
       "      <td>99938.000000</td>\n",
       "      <td>52404.000000</td>\n",
       "      <td>57006.000000</td>\n",
       "      <td>26065.000000</td>\n",
       "      <td>52412.000000</td>\n",
       "      <td>136002.000000</td>\n",
       "      <td>55515.000000</td>\n",
       "      <td>8653.000000</td>\n",
       "      <td>167.000000</td>\n",
       "      <td>...</td>\n",
       "      <td>66.080000</td>\n",
       "      <td>65.330000</td>\n",
       "      <td>18.720000</td>\n",
       "      <td>30.460000</td>\n",
       "      <td>251.470000</td>\n",
       "      <td>124.390000</td>\n",
       "      <td>27.660000</td>\n",
       "      <td>28.010000</td>\n",
       "      <td>66.620000</td>\n",
       "      <td>55.000000</td>\n",
       "    </tr>\n",
       "  </tbody>\n",
       "</table>\n",
       "<p>8 rows × 78 columns</p>\n",
       "</div>"
      ],
      "text/plain": [
       "         TEMPO_MONT    TEMPO_BODY     TEMPO_ZP5     TEMPO_ZP6     TEMPO_ZP7  \\\n",
       "count  35395.000000  35390.000000  35159.000000  35395.000000  35395.000000   \n",
       "mean    1308.970504   2241.530913     44.024631    290.952027     81.409775   \n",
       "std     4155.782300   5905.237256    777.945324   2003.325811    620.141719   \n",
       "min      302.000000      2.000000  -7103.000000   -624.000000      0.000000   \n",
       "25%      434.000000    609.000000      9.000000     39.000000      0.000000   \n",
       "50%      465.000000    961.000000     11.000000     43.000000      0.000000   \n",
       "75%      826.000000   1479.000000     14.000000     99.000000      0.000000   \n",
       "max    52821.000000  99938.000000  52404.000000  57006.000000  26065.000000   \n",
       "\n",
       "       TEMPO_CABINES    TEMPO_TOTAL   DIV_MIN_ZP7  DIV_MIN_OPTIMO  \\\n",
       "count   35292.000000   35395.000000  35395.000000    35395.000000   \n",
       "mean        7.553043    8608.354796     15.639723       86.947026   \n",
       "std       323.048368   10239.763440    479.363022      227.232713   \n",
       "min         0.000000    1711.000000      0.000000        0.000000   \n",
       "25%         0.000000    3813.500000      0.000000        8.000000   \n",
       "50%         0.000000    6491.000000      0.000000       19.000000   \n",
       "75%         0.000000    8664.000000      0.000000       64.000000   \n",
       "max     52412.000000  136002.000000  55515.000000     8653.000000   \n",
       "\n",
       "       DIV_MIN_PINT  ...  MAX_TORQUE_3107  MAX_TORQUE_3108  MAX_TORQUE_4224  \\\n",
       "count  35395.000000  ...     35395.000000     35395.000000     35395.000000   \n",
       "mean       5.517248  ...        60.435352        60.432727        18.259367   \n",
       "std       10.244340  ...         0.223471         0.239071         0.182572   \n",
       "min        0.000000  ...        37.290000        34.520000         0.000000   \n",
       "25%        2.000000  ...        60.310000        60.310000        18.170000   \n",
       "50%        3.000000  ...        60.430000        60.430000        18.260000   \n",
       "75%        6.000000  ...        60.560000        60.550000        18.340000   \n",
       "max      167.000000  ...        66.080000        65.330000        18.720000   \n",
       "\n",
       "       MIN_TORQUE_1302  MIN_TORQUE_3141  MIN_TORQUE_3214  MIN_TORQUE_4204  \\\n",
       "count     35395.000000     35395.000000     35395.000000     35395.000000   \n",
       "mean         29.879111       146.350126        92.716723        22.945732   \n",
       "std           2.208267        20.557274         4.919054         1.263938   \n",
       "min           0.000000         0.000000        -0.340000         0.000000   \n",
       "25%          30.090000       136.280000        90.090000        23.040000   \n",
       "50%          30.150000       142.420000        92.420000        23.090000   \n",
       "75%          30.200000       153.570000        95.050000        23.150000   \n",
       "max          30.460000       251.470000       124.390000        27.660000   \n",
       "\n",
       "       MIN_TORQUE_4212  MIN_TORQUE_5947  TOTAL_TORQUE_NOK  \n",
       "count     35395.000000     35395.000000      35395.000000  \n",
       "mean         22.891910        54.942789          1.160983  \n",
       "std           1.447745         8.749900          1.265160  \n",
       "min           0.000000         0.000000          0.000000  \n",
       "25%          23.040000        54.170000          0.000000  \n",
       "50%          23.090000        56.180000          1.000000  \n",
       "75%          23.150000        58.050000          2.000000  \n",
       "max          28.010000        66.620000         55.000000  \n",
       "\n",
       "[8 rows x 78 columns]"
      ]
     },
     "execution_count": 47,
     "metadata": {},
     "output_type": "execute_result"
    }
   ],
   "source": [
    "df_predict.describe()"
   ]
  },
  {
   "cell_type": "code",
   "execution_count": 48,
   "metadata": {
    "colab": {
     "base_uri": "https://localhost:8080/",
     "height": 207
    },
    "id": "X4bWHAE84C6b",
    "outputId": "370f3557-7645-40e1-957e-b163ee31cb68"
   },
   "outputs": [
    {
     "data": {
      "text/plain": [
       "count                              35395\n",
       "unique                                13\n",
       "top       T-Cross 1.4  HIGH   150cv  A6F\n",
       "freq                               10676\n",
       "Name: MOD, dtype: object"
      ]
     },
     "execution_count": 48,
     "metadata": {},
     "output_type": "execute_result"
    }
   ],
   "source": [
    "df_predict[\"MOD\"].describe()"
   ]
  },
  {
   "cell_type": "markdown",
   "metadata": {
    "id": "Y0bqrur6DYdv"
   },
   "source": [
    "## Descrição da Coluna MOD\n",
    "\n",
    "Exemplo: T-Cross 1.4 HIGH 150cv A6F\n",
    "\n",
    "* Modelo: T-Cross\n",
    "* Cilindradas: 1.4\n",
    "* Tipo: Highline\n",
    "* Potência: 150 [pode estar em cavalos(cv), quilowatts (KW) ou Pferdestärke (PS - Força de cavalo em alemão)]\n",
    "* Transmissão: A6F - Automática de 6 velocidades ou M5F - Manual de 5 Velocidades"
   ]
  },
  {
   "cell_type": "code",
   "execution_count": 49,
   "metadata": {
    "colab": {
     "base_uri": "https://localhost:8080/",
     "height": 517
    },
    "id": "3c98QKeG4NNU",
    "outputId": "b0b92305-99e5-464d-d027-ab62ca3193b1"
   },
   "outputs": [
    {
     "data": {
      "text/plain": [
       "MOD\n",
       "T-Cross 1.4  HIGH   150cv  A6F    10676\n",
       "T-Cross 1.0  TPLUS  128cv  A6F     7992\n",
       "T-Cross 1.0  COMFO  128cv  A6F     7259\n",
       "T-Cross 1.0  SENSE  128PS  A6F     5138\n",
       "T-Cross 1.0  TREND  70KW   M5F     1023\n",
       "T-Cross 1.6  COMFO  110cv  M5F      856\n",
       "T-Cross 1.0  TREND  85KW   A6F      656\n",
       "T-Cross 1.0  TREND  70KW   M6F      621\n",
       "T-Cross 1.0  COMFO  85KW   A6F      519\n",
       "T-Cross 1.0  HIGH   85KW   A6F      289\n",
       "T-Cross 1.0  COMFO  70KW   M5F      128\n",
       "T-Cross 1.6  HIGH   110cv  A6F      126\n",
       "T-Cross 1.6  TREND  110cv  M5F      112\n",
       "Name: count, dtype: int64"
      ]
     },
     "execution_count": 49,
     "metadata": {},
     "output_type": "execute_result"
    }
   ],
   "source": [
    "df_predict[\"MOD\"].value_counts()"
   ]
  },
  {
   "cell_type": "code",
   "execution_count": 50,
   "metadata": {
    "colab": {
     "base_uri": "https://localhost:8080/"
    },
    "id": "0tvj3NCy4SZk",
    "outputId": "1c9c7859-28b1-4851-defe-5764a10eb183"
   },
   "outputs": [
    {
     "data": {
      "text/plain": [
       "Index(['KNR', 'MOD', 'TEMPO_MONT', 'TEMPO_BODY', 'TEMPO_ZP5', 'TEMPO_ZP6',\n",
       "       'TEMPO_ZP7', 'TEMPO_CABINES', 'TEMPO_TOTAL', 'DIV_MIN_ZP7',\n",
       "       'DIV_MIN_OPTIMO', 'DIV_MIN_PINT', 'N_POS_ZP7', 'N_ZP5', 'N_ZP5A',\n",
       "       'N_ZP6', 'N_CABINES', 'N_OK_ZP5', 'N_NOK_ZP5A', 'N_OK_ZP5A',\n",
       "       'N_NOK_ZP6', 'N_OK_ZP6', 'N_NOK_CABINES', 'N_OK_CABINES', 'N_NOK_ZP7',\n",
       "       'TOTAL_FALHAS', 'PR_TETO', 'PR_DRIVE', 'DIV_SG_ELETRICA',\n",
       "       'DIV_SG_ASSOALHO', 'DIV_SG_GERAL', 'FALHAS_ZP5', 'FALHAS_ZP5A',\n",
       "       'FALHAS_CAB', 'FALHAS_ZP7', 'FALHAS_ROD', 'TROCA_PECA', 'REPINT',\n",
       "       'MEAN_ANGLE_3108', 'MEAN_ANGLE_3205', 'MEAN_ANGLE_3214',\n",
       "       'MEAN_ANGLE_3233', 'MEAN_ANGLE_3234', 'MEAN_ANGLE_3141',\n",
       "       'MEAN_ANGLE_5243', 'MEAN_ANGLE_5244', 'MAX_ANGLE_3107',\n",
       "       'MAX_ANGLE_3108', 'MAX_ANGLE_3141', 'MAX_ANGLE_3142', 'MAX_ANGLE_5639',\n",
       "       'MAX_ANGLE_6501', 'MAX_ANGLE_6502', 'MIN_ANGLE_3233', 'MIN_ANGLE_3234',\n",
       "       'MIN_ANGLE_3141', 'MIN_ANGLE_3142', 'MEAN_TORQUE_1316',\n",
       "       'MEAN_TORQUE_1901', 'MEAN_TORQUE_1902', 'MEAN_TORQUE_2763',\n",
       "       'MEAN_TORQUE_3108', 'MEAN_TORQUE_3205', 'MEAN_TORQUE_3214',\n",
       "       'MEAN_TORQUE_4223', 'MEAN_TORQUE_4225', 'MEAN_TORQUE_5217',\n",
       "       'MEAN_TORQUE_5524', 'MEAN_TORQUE_5525', 'MEAN_TORQUE_5639',\n",
       "       'MAX_TORQUE_3107', 'MAX_TORQUE_3108', 'MAX_TORQUE_4224',\n",
       "       'MIN_TORQUE_1302', 'MIN_TORQUE_3141', 'MIN_TORQUE_3214',\n",
       "       'MIN_TORQUE_4204', 'MIN_TORQUE_4212', 'MIN_TORQUE_5947',\n",
       "       'TOTAL_TORQUE_NOK'],\n",
       "      dtype='object')"
      ]
     },
     "execution_count": 50,
     "metadata": {},
     "output_type": "execute_result"
    }
   ],
   "source": [
    "df_predict.columns"
   ]
  },
  {
   "cell_type": "markdown",
   "metadata": {
    "id": "zPc65GsfERbL"
   },
   "source": [
    "## Descrição do Subset de torques\n",
    "Criei um subset com as colunas em relação a ANGLE e TORQUE.\n",
    "\n",
    "No final, aparentemente, TOTAL_TORQUE_NOK significa o total de torques Not-OK. Mas ainda não sei como essa conta é feita."
   ]
  },
  {
   "cell_type": "code",
   "execution_count": 51,
   "metadata": {
    "id": "dHUVktmn9cQ8"
   },
   "outputs": [],
   "source": [
    "subset_torques = df_predict.loc[:, ['MEAN_ANGLE_3108', 'MAX_ANGLE_3108', 'MIN_ANGLE_3141',\n",
    "                       'MEAN_TORQUE_3108', 'MAX_TORQUE_3108', 'MIN_TORQUE_3141', 'TOTAL_TORQUE_NOK']]"
   ]
  },
  {
   "cell_type": "code",
   "execution_count": 52,
   "metadata": {
    "colab": {
     "base_uri": "https://localhost:8080/",
     "height": 439
    },
    "id": "7dZHaqnL_vH7",
    "outputId": "188e6485-998f-48ba-b399-160663e51a43"
   },
   "outputs": [
    {
     "data": {
      "text/html": [
       "<div>\n",
       "<style scoped>\n",
       "    .dataframe tbody tr th:only-of-type {\n",
       "        vertical-align: middle;\n",
       "    }\n",
       "\n",
       "    .dataframe tbody tr th {\n",
       "        vertical-align: top;\n",
       "    }\n",
       "\n",
       "    .dataframe thead th {\n",
       "        text-align: right;\n",
       "    }\n",
       "</style>\n",
       "<table border=\"1\" class=\"dataframe\">\n",
       "  <thead>\n",
       "    <tr style=\"text-align: right;\">\n",
       "      <th></th>\n",
       "      <th>MEAN_ANGLE_3108</th>\n",
       "      <th>MAX_ANGLE_3108</th>\n",
       "      <th>MIN_ANGLE_3141</th>\n",
       "      <th>MEAN_TORQUE_3108</th>\n",
       "      <th>MAX_TORQUE_3108</th>\n",
       "      <th>MIN_TORQUE_3141</th>\n",
       "      <th>TOTAL_TORQUE_NOK</th>\n",
       "    </tr>\n",
       "  </thead>\n",
       "  <tbody>\n",
       "    <tr>\n",
       "      <th>0</th>\n",
       "      <td>23.0</td>\n",
       "      <td>23.0</td>\n",
       "      <td>180.28</td>\n",
       "      <td>60.72</td>\n",
       "      <td>60.72</td>\n",
       "      <td>130.53</td>\n",
       "      <td>0</td>\n",
       "    </tr>\n",
       "    <tr>\n",
       "      <th>1</th>\n",
       "      <td>27.0</td>\n",
       "      <td>27.0</td>\n",
       "      <td>180.25</td>\n",
       "      <td>60.57</td>\n",
       "      <td>60.57</td>\n",
       "      <td>116.84</td>\n",
       "      <td>0</td>\n",
       "    </tr>\n",
       "    <tr>\n",
       "      <th>2</th>\n",
       "      <td>16.0</td>\n",
       "      <td>16.0</td>\n",
       "      <td>180.25</td>\n",
       "      <td>60.51</td>\n",
       "      <td>60.51</td>\n",
       "      <td>134.39</td>\n",
       "      <td>0</td>\n",
       "    </tr>\n",
       "    <tr>\n",
       "      <th>3</th>\n",
       "      <td>14.0</td>\n",
       "      <td>14.0</td>\n",
       "      <td>180.23</td>\n",
       "      <td>60.50</td>\n",
       "      <td>60.50</td>\n",
       "      <td>142.75</td>\n",
       "      <td>1</td>\n",
       "    </tr>\n",
       "    <tr>\n",
       "      <th>4</th>\n",
       "      <td>52.0</td>\n",
       "      <td>52.0</td>\n",
       "      <td>180.26</td>\n",
       "      <td>60.31</td>\n",
       "      <td>60.31</td>\n",
       "      <td>140.38</td>\n",
       "      <td>0</td>\n",
       "    </tr>\n",
       "    <tr>\n",
       "      <th>...</th>\n",
       "      <td>...</td>\n",
       "      <td>...</td>\n",
       "      <td>...</td>\n",
       "      <td>...</td>\n",
       "      <td>...</td>\n",
       "      <td>...</td>\n",
       "      <td>...</td>\n",
       "    </tr>\n",
       "    <tr>\n",
       "      <th>35390</th>\n",
       "      <td>27.0</td>\n",
       "      <td>27.0</td>\n",
       "      <td>180.30</td>\n",
       "      <td>60.26</td>\n",
       "      <td>60.26</td>\n",
       "      <td>140.54</td>\n",
       "      <td>1</td>\n",
       "    </tr>\n",
       "    <tr>\n",
       "      <th>35391</th>\n",
       "      <td>18.0</td>\n",
       "      <td>18.0</td>\n",
       "      <td>180.24</td>\n",
       "      <td>60.35</td>\n",
       "      <td>60.35</td>\n",
       "      <td>140.68</td>\n",
       "      <td>2</td>\n",
       "    </tr>\n",
       "    <tr>\n",
       "      <th>35392</th>\n",
       "      <td>28.0</td>\n",
       "      <td>28.0</td>\n",
       "      <td>180.30</td>\n",
       "      <td>60.87</td>\n",
       "      <td>60.87</td>\n",
       "      <td>140.29</td>\n",
       "      <td>2</td>\n",
       "    </tr>\n",
       "    <tr>\n",
       "      <th>35393</th>\n",
       "      <td>25.0</td>\n",
       "      <td>25.0</td>\n",
       "      <td>180.31</td>\n",
       "      <td>60.42</td>\n",
       "      <td>60.42</td>\n",
       "      <td>127.94</td>\n",
       "      <td>2</td>\n",
       "    </tr>\n",
       "    <tr>\n",
       "      <th>35394</th>\n",
       "      <td>17.0</td>\n",
       "      <td>17.0</td>\n",
       "      <td>180.30</td>\n",
       "      <td>60.69</td>\n",
       "      <td>60.69</td>\n",
       "      <td>145.90</td>\n",
       "      <td>0</td>\n",
       "    </tr>\n",
       "  </tbody>\n",
       "</table>\n",
       "<p>35395 rows × 7 columns</p>\n",
       "</div>"
      ],
      "text/plain": [
       "       MEAN_ANGLE_3108  MAX_ANGLE_3108  MIN_ANGLE_3141  MEAN_TORQUE_3108  \\\n",
       "0                 23.0            23.0          180.28             60.72   \n",
       "1                 27.0            27.0          180.25             60.57   \n",
       "2                 16.0            16.0          180.25             60.51   \n",
       "3                 14.0            14.0          180.23             60.50   \n",
       "4                 52.0            52.0          180.26             60.31   \n",
       "...                ...             ...             ...               ...   \n",
       "35390             27.0            27.0          180.30             60.26   \n",
       "35391             18.0            18.0          180.24             60.35   \n",
       "35392             28.0            28.0          180.30             60.87   \n",
       "35393             25.0            25.0          180.31             60.42   \n",
       "35394             17.0            17.0          180.30             60.69   \n",
       "\n",
       "       MAX_TORQUE_3108  MIN_TORQUE_3141  TOTAL_TORQUE_NOK  \n",
       "0                60.72           130.53                 0  \n",
       "1                60.57           116.84                 0  \n",
       "2                60.51           134.39                 0  \n",
       "3                60.50           142.75                 1  \n",
       "4                60.31           140.38                 0  \n",
       "...                ...              ...               ...  \n",
       "35390            60.26           140.54                 1  \n",
       "35391            60.35           140.68                 2  \n",
       "35392            60.87           140.29                 2  \n",
       "35393            60.42           127.94                 2  \n",
       "35394            60.69           145.90                 0  \n",
       "\n",
       "[35395 rows x 7 columns]"
      ]
     },
     "execution_count": 52,
     "metadata": {},
     "output_type": "execute_result"
    }
   ],
   "source": [
    "subset_torques"
   ]
  },
  {
   "cell_type": "markdown",
   "metadata": {
    "id": "Md3IfxpgEr8m"
   },
   "source": [
    "## Descrição - Subset dos números de falha\n",
    "\n",
    "Aqui eu separei em um subset as colunas com os números de falhas em relação a cada estação. E no final, em TOTAL_FALHAS, há uma soma de todas as falhas.\n",
    "\n",
    "* N = Number\n",
    "* NOK = Not OK\n",
    "* OK = OK (auto-explicativo)\n",
    "* N_NOK_ESTACAO = número de falhas Not-OK naquela estação"
   ]
  },
  {
   "cell_type": "code",
   "execution_count": 53,
   "metadata": {
    "id": "sdUBE5_WAHyb"
   },
   "outputs": [],
   "source": [
    "subset__numero_de_falhas = df_predict.loc[:, [\n",
    "    'N_POS_ZP7', 'N_ZP5', 'N_ZP5A', 'N_ZP6', 'N_CABINES', 'N_OK_ZP5',\n",
    "    'N_NOK_ZP5A', 'N_OK_ZP5A', 'N_NOK_ZP6', 'N_OK_ZP6', 'N_NOK_CABINES',\n",
    "    'N_OK_CABINES', 'TOTAL_FALHAS'\n",
    "]]"
   ]
  },
  {
   "cell_type": "code",
   "execution_count": 54,
   "metadata": {
    "colab": {
     "base_uri": "https://localhost:8080/",
     "height": 224
    },
    "id": "7P93K6dKBEsD",
    "outputId": "66c23b8e-8061-4b46-9781-1667ec869578"
   },
   "outputs": [
    {
     "data": {
      "text/html": [
       "<div>\n",
       "<style scoped>\n",
       "    .dataframe tbody tr th:only-of-type {\n",
       "        vertical-align: middle;\n",
       "    }\n",
       "\n",
       "    .dataframe tbody tr th {\n",
       "        vertical-align: top;\n",
       "    }\n",
       "\n",
       "    .dataframe thead th {\n",
       "        text-align: right;\n",
       "    }\n",
       "</style>\n",
       "<table border=\"1\" class=\"dataframe\">\n",
       "  <thead>\n",
       "    <tr style=\"text-align: right;\">\n",
       "      <th></th>\n",
       "      <th>N_POS_ZP7</th>\n",
       "      <th>N_ZP5</th>\n",
       "      <th>N_ZP5A</th>\n",
       "      <th>N_ZP6</th>\n",
       "      <th>N_CABINES</th>\n",
       "      <th>N_OK_ZP5</th>\n",
       "      <th>N_NOK_ZP5A</th>\n",
       "      <th>N_OK_ZP5A</th>\n",
       "      <th>N_NOK_ZP6</th>\n",
       "      <th>N_OK_ZP6</th>\n",
       "      <th>N_NOK_CABINES</th>\n",
       "      <th>N_OK_CABINES</th>\n",
       "      <th>TOTAL_FALHAS</th>\n",
       "    </tr>\n",
       "  </thead>\n",
       "  <tbody>\n",
       "    <tr>\n",
       "      <th>0</th>\n",
       "      <td>0</td>\n",
       "      <td>1</td>\n",
       "      <td>0</td>\n",
       "      <td>1</td>\n",
       "      <td>1</td>\n",
       "      <td>1</td>\n",
       "      <td>0</td>\n",
       "      <td>1</td>\n",
       "      <td>0</td>\n",
       "      <td>1</td>\n",
       "      <td>0</td>\n",
       "      <td>1</td>\n",
       "      <td>7</td>\n",
       "    </tr>\n",
       "    <tr>\n",
       "      <th>1</th>\n",
       "      <td>1</td>\n",
       "      <td>1</td>\n",
       "      <td>1</td>\n",
       "      <td>0</td>\n",
       "      <td>0</td>\n",
       "      <td>1</td>\n",
       "      <td>1</td>\n",
       "      <td>1</td>\n",
       "      <td>0</td>\n",
       "      <td>1</td>\n",
       "      <td>0</td>\n",
       "      <td>1</td>\n",
       "      <td>7</td>\n",
       "    </tr>\n",
       "    <tr>\n",
       "      <th>2</th>\n",
       "      <td>0</td>\n",
       "      <td>1</td>\n",
       "      <td>0</td>\n",
       "      <td>3</td>\n",
       "      <td>0</td>\n",
       "      <td>1</td>\n",
       "      <td>0</td>\n",
       "      <td>1</td>\n",
       "      <td>0</td>\n",
       "      <td>2</td>\n",
       "      <td>0</td>\n",
       "      <td>1</td>\n",
       "      <td>6</td>\n",
       "    </tr>\n",
       "    <tr>\n",
       "      <th>3</th>\n",
       "      <td>1</td>\n",
       "      <td>1</td>\n",
       "      <td>0</td>\n",
       "      <td>0</td>\n",
       "      <td>0</td>\n",
       "      <td>1</td>\n",
       "      <td>0</td>\n",
       "      <td>1</td>\n",
       "      <td>0</td>\n",
       "      <td>2</td>\n",
       "      <td>0</td>\n",
       "      <td>1</td>\n",
       "      <td>6</td>\n",
       "    </tr>\n",
       "    <tr>\n",
       "      <th>4</th>\n",
       "      <td>0</td>\n",
       "      <td>1</td>\n",
       "      <td>0</td>\n",
       "      <td>0</td>\n",
       "      <td>0</td>\n",
       "      <td>1</td>\n",
       "      <td>0</td>\n",
       "      <td>1</td>\n",
       "      <td>0</td>\n",
       "      <td>1</td>\n",
       "      <td>0</td>\n",
       "      <td>1</td>\n",
       "      <td>3</td>\n",
       "    </tr>\n",
       "  </tbody>\n",
       "</table>\n",
       "</div>"
      ],
      "text/plain": [
       "   N_POS_ZP7  N_ZP5  N_ZP5A  N_ZP6  N_CABINES  N_OK_ZP5  N_NOK_ZP5A  \\\n",
       "0          0      1       0      1          1         1           0   \n",
       "1          1      1       1      0          0         1           1   \n",
       "2          0      1       0      3          0         1           0   \n",
       "3          1      1       0      0          0         1           0   \n",
       "4          0      1       0      0          0         1           0   \n",
       "\n",
       "   N_OK_ZP5A  N_NOK_ZP6  N_OK_ZP6  N_NOK_CABINES  N_OK_CABINES  TOTAL_FALHAS  \n",
       "0          1          0         1              0             1             7  \n",
       "1          1          0         1              0             1             7  \n",
       "2          1          0         2              0             1             6  \n",
       "3          1          0         2              0             1             6  \n",
       "4          1          0         1              0             1             3  "
      ]
     },
     "execution_count": 54,
     "metadata": {},
     "output_type": "execute_result"
    }
   ],
   "source": [
    "subset__numero_de_falhas.head()"
   ]
  },
  {
   "cell_type": "markdown",
   "metadata": {
    "id": "GHDGtSWHFPTM",
    "jp-MarkdownHeadingCollapsed": true
   },
   "source": [
    "# Descrição Colunas de Troca de Peça e Repintura\n",
    "Colunas interessantes para o modelo final.\n",
    "\n",
    "* 0 = sem troca de peça e/ou repintura\n",
    "* 1 = houve troca de peça e/ou repintura"
   ]
  },
  {
   "cell_type": "code",
   "execution_count": 55,
   "metadata": {
    "colab": {
     "base_uri": "https://localhost:8080/",
     "height": 176
    },
    "id": "tHJeZ_jvBF_O",
    "outputId": "3277dea0-96e1-4d4a-d1e5-0984ab167c9e"
   },
   "outputs": [
    {
     "data": {
      "text/plain": [
       "TROCA_PECA\n",
       "0    34094\n",
       "1     1301\n",
       "Name: count, dtype: int64"
      ]
     },
     "execution_count": 55,
     "metadata": {},
     "output_type": "execute_result"
    }
   ],
   "source": [
    "df_predict['TROCA_PECA'].value_counts()"
   ]
  },
  {
   "cell_type": "code",
   "execution_count": 56,
   "metadata": {
    "colab": {
     "base_uri": "https://localhost:8080/",
     "height": 176
    },
    "id": "kaguNTErBvXy",
    "outputId": "dea2c4b2-6ff4-4892-be6f-a7ac4bb20154"
   },
   "outputs": [
    {
     "data": {
      "text/plain": [
       "REPINT\n",
       "0    31991\n",
       "1     3404\n",
       "Name: count, dtype: int64"
      ]
     },
     "execution_count": 56,
     "metadata": {},
     "output_type": "execute_result"
    }
   ],
   "source": [
    "df_predict['REPINT'].value_counts()"
   ]
  },
  {
   "cell_type": "markdown",
   "metadata": {
    "id": "VnjIpmDyFh1L"
   },
   "source": [
    "## Descrição das colunas de Falhas\n",
    "Aqui eu tô tentando descobrir o que significa mas aparentemente é o número total de falhas por estação, não necessariamente indicando qual é OK ou NOK."
   ]
  },
  {
   "cell_type": "code",
   "execution_count": 57,
   "metadata": {
    "colab": {
     "base_uri": "https://localhost:8080/",
     "height": 672
    },
    "id": "dqLhSUmEB51n",
    "outputId": "116f6282-5e76-4994-e4e7-255c89a89c2f"
   },
   "outputs": [
    {
     "data": {
      "text/plain": [
       "FALHAS_ZP7\n",
       "3     6758\n",
       "2     6607\n",
       "4     5457\n",
       "1     4933\n",
       "5     3989\n",
       "6     2550\n",
       "0     1863\n",
       "7     1528\n",
       "8      874\n",
       "9      458\n",
       "10     183\n",
       "11     107\n",
       "12      44\n",
       "13      21\n",
       "14      17\n",
       "16       3\n",
       "15       2\n",
       "18       1\n",
       "Name: count, dtype: int64"
      ]
     },
     "execution_count": 57,
     "metadata": {},
     "output_type": "execute_result"
    }
   ],
   "source": [
    "df_predict['FALHAS_ZP7'].value_counts()"
   ]
  },
  {
   "cell_type": "code",
   "execution_count": 58,
   "metadata": {
    "colab": {
     "base_uri": "https://localhost:8080/",
     "height": 269
    },
    "id": "6Dig7Z4ZCLt0",
    "outputId": "6f52e36e-2ef2-495a-8f8e-cf69f4d5bf45"
   },
   "outputs": [
    {
     "data": {
      "text/plain": [
       "FALHAS_ROD\n",
       "0    33320\n",
       "1     1820\n",
       "2      238\n",
       "3       15\n",
       "4        2\n",
       "Name: count, dtype: int64"
      ]
     },
     "execution_count": 58,
     "metadata": {},
     "output_type": "execute_result"
    }
   ],
   "source": [
    "df_predict['FALHAS_ROD'].value_counts()"
   ]
  },
  {
   "cell_type": "code",
   "execution_count": 59,
   "metadata": {
    "id": "7JwyaJgCCVgM"
   },
   "outputs": [],
   "source": [
    "subset_falhas_por_estacao = df_predict.loc[:, [\n",
    "    'FALHAS_ZP5', 'FALHAS_ZP5A', 'FALHAS_CAB', 'FALHAS_ZP7', 'FALHAS_ROD',\n",
    "]]"
   ]
  },
  {
   "cell_type": "code",
   "execution_count": 60,
   "metadata": {
    "colab": {
     "base_uri": "https://localhost:8080/",
     "height": 204
    },
    "id": "r4cYyK6EC-pZ",
    "outputId": "d5acc403-96e3-4918-e7c1-e4308334d839"
   },
   "outputs": [
    {
     "data": {
      "text/html": [
       "<div>\n",
       "<style scoped>\n",
       "    .dataframe tbody tr th:only-of-type {\n",
       "        vertical-align: middle;\n",
       "    }\n",
       "\n",
       "    .dataframe tbody tr th {\n",
       "        vertical-align: top;\n",
       "    }\n",
       "\n",
       "    .dataframe thead th {\n",
       "        text-align: right;\n",
       "    }\n",
       "</style>\n",
       "<table border=\"1\" class=\"dataframe\">\n",
       "  <thead>\n",
       "    <tr style=\"text-align: right;\">\n",
       "      <th></th>\n",
       "      <th>FALHAS_ZP5</th>\n",
       "      <th>FALHAS_ZP5A</th>\n",
       "      <th>FALHAS_CAB</th>\n",
       "      <th>FALHAS_ZP7</th>\n",
       "      <th>FALHAS_ROD</th>\n",
       "    </tr>\n",
       "  </thead>\n",
       "  <tbody>\n",
       "    <tr>\n",
       "      <th>0</th>\n",
       "      <td>1</td>\n",
       "      <td>3</td>\n",
       "      <td>0</td>\n",
       "      <td>1</td>\n",
       "      <td>0</td>\n",
       "    </tr>\n",
       "    <tr>\n",
       "      <th>1</th>\n",
       "      <td>0</td>\n",
       "      <td>2</td>\n",
       "      <td>0</td>\n",
       "      <td>4</td>\n",
       "      <td>0</td>\n",
       "    </tr>\n",
       "    <tr>\n",
       "      <th>2</th>\n",
       "      <td>0</td>\n",
       "      <td>0</td>\n",
       "      <td>1</td>\n",
       "      <td>5</td>\n",
       "      <td>0</td>\n",
       "    </tr>\n",
       "    <tr>\n",
       "      <th>3</th>\n",
       "      <td>0</td>\n",
       "      <td>0</td>\n",
       "      <td>1</td>\n",
       "      <td>4</td>\n",
       "      <td>0</td>\n",
       "    </tr>\n",
       "    <tr>\n",
       "      <th>4</th>\n",
       "      <td>0</td>\n",
       "      <td>0</td>\n",
       "      <td>1</td>\n",
       "      <td>1</td>\n",
       "      <td>0</td>\n",
       "    </tr>\n",
       "  </tbody>\n",
       "</table>\n",
       "</div>"
      ],
      "text/plain": [
       "   FALHAS_ZP5  FALHAS_ZP5A  FALHAS_CAB  FALHAS_ZP7  FALHAS_ROD\n",
       "0           1            3           0           1           0\n",
       "1           0            2           0           4           0\n",
       "2           0            0           1           5           0\n",
       "3           0            0           1           4           0\n",
       "4           0            0           1           1           0"
      ]
     },
     "execution_count": 60,
     "metadata": {},
     "output_type": "execute_result"
    }
   ],
   "source": [
    "subset_falhas_por_estacao.head()"
   ]
  },
  {
   "cell_type": "markdown",
   "metadata": {
    "jp-MarkdownHeadingCollapsed": true
   },
   "source": [
    "# Visualização de Dados - Tabela de STATUS"
   ]
  },
  {
   "cell_type": "code",
   "execution_count": 61,
   "metadata": {},
   "outputs": [
    {
     "name": "stderr",
     "output_type": "stream",
     "text": [
      "/var/folders/tk/cffj7y_s7fx5cs8bnqgnpvn80000gn/T/ipykernel_18979/4242501525.py:1: DtypeWarning: Columns (1,2,3,4,5,6,7,8,9,10,11,12,13,14,15) have mixed types. Specify dtype option on import or set low_memory=False.\n",
      "  df_status = pd.read_csv('STATUS_PREDICTOR_ANO.csv')\n"
     ]
    }
   ],
   "source": [
    "df_status = pd.read_csv('STATUS_PREDICTOR_ANO.csv')"
   ]
  },
  {
   "cell_type": "code",
   "execution_count": 63,
   "metadata": {},
   "outputs": [],
   "source": [
    "df_status = pd.DataFrame(df_status)"
   ]
  },
  {
   "cell_type": "code",
   "execution_count": 65,
   "metadata": {},
   "outputs": [
    {
     "data": {
      "text/html": [
       "<div>\n",
       "<style scoped>\n",
       "    .dataframe tbody tr th:only-of-type {\n",
       "        vertical-align: middle;\n",
       "    }\n",
       "\n",
       "    .dataframe tbody tr th {\n",
       "        vertical-align: top;\n",
       "    }\n",
       "\n",
       "    .dataframe thead th {\n",
       "        text-align: right;\n",
       "    }\n",
       "</style>\n",
       "<table border=\"1\" class=\"dataframe\">\n",
       "  <thead>\n",
       "    <tr style=\"text-align: right;\">\n",
       "      <th></th>\n",
       "      <th>Unnamed: 0</th>\n",
       "      <th>Unnamed: 1</th>\n",
       "      <th>Unnamed: 2</th>\n",
       "      <th>Unnamed: 3</th>\n",
       "      <th>2023-4026002</th>\n",
       "      <th>R600</th>\n",
       "      <th>2023-09-29 07:14:44</th>\n",
       "      <th>2024-0346154</th>\n",
       "      <th>A600</th>\n",
       "      <th>2024-01-15 11:11:44</th>\n",
       "      <th>2024-1556203</th>\n",
       "      <th>R800</th>\n",
       "      <th>2024-04-10 19:03:20</th>\n",
       "      <th>2024-2536233</th>\n",
       "      <th>G710</th>\n",
       "      <th>2024-06-14 17:36:53</th>\n",
       "    </tr>\n",
       "  </thead>\n",
       "  <tbody>\n",
       "    <tr>\n",
       "      <th>0</th>\n",
       "      <td>NaN</td>\n",
       "      <td>KNR</td>\n",
       "      <td>STATUS</td>\n",
       "      <td>DATA</td>\n",
       "      <td>NaN</td>\n",
       "      <td>NaN</td>\n",
       "      <td>NaN</td>\n",
       "      <td>NaN</td>\n",
       "      <td>NaN</td>\n",
       "      <td>NaN</td>\n",
       "      <td>NaN</td>\n",
       "      <td>NaN</td>\n",
       "      <td>NaN</td>\n",
       "      <td>NaN</td>\n",
       "      <td>NaN</td>\n",
       "      <td>NaN</td>\n",
       "    </tr>\n",
       "    <tr>\n",
       "      <th>1</th>\n",
       "      <td>NaN</td>\n",
       "      <td>2023-2016173</td>\n",
       "      <td>G620</td>\n",
       "      <td>2023-06-06 07:50:27</td>\n",
       "      <td>NaN</td>\n",
       "      <td>NaN</td>\n",
       "      <td>NaN</td>\n",
       "      <td>NaN</td>\n",
       "      <td>NaN</td>\n",
       "      <td>NaN</td>\n",
       "      <td>NaN</td>\n",
       "      <td>NaN</td>\n",
       "      <td>NaN</td>\n",
       "      <td>NaN</td>\n",
       "      <td>NaN</td>\n",
       "      <td>NaN</td>\n",
       "    </tr>\n",
       "    <tr>\n",
       "      <th>2</th>\n",
       "      <td>NaN</td>\n",
       "      <td>2023-2016173</td>\n",
       "      <td>M620</td>\n",
       "      <td>2023-06-06 07:50:27</td>\n",
       "      <td>NaN</td>\n",
       "      <td>NaN</td>\n",
       "      <td>NaN</td>\n",
       "      <td>NaN</td>\n",
       "      <td>NaN</td>\n",
       "      <td>NaN</td>\n",
       "      <td>NaN</td>\n",
       "      <td>NaN</td>\n",
       "      <td>NaN</td>\n",
       "      <td>NaN</td>\n",
       "      <td>NaN</td>\n",
       "      <td>NaN</td>\n",
       "    </tr>\n",
       "    <tr>\n",
       "      <th>3</th>\n",
       "      <td>NaN</td>\n",
       "      <td>2023-2026032</td>\n",
       "      <td>G620</td>\n",
       "      <td>2023-06-20 17:35:51</td>\n",
       "      <td>NaN</td>\n",
       "      <td>NaN</td>\n",
       "      <td>NaN</td>\n",
       "      <td>NaN</td>\n",
       "      <td>NaN</td>\n",
       "      <td>NaN</td>\n",
       "      <td>NaN</td>\n",
       "      <td>NaN</td>\n",
       "      <td>NaN</td>\n",
       "      <td>NaN</td>\n",
       "      <td>NaN</td>\n",
       "      <td>NaN</td>\n",
       "    </tr>\n",
       "    <tr>\n",
       "      <th>4</th>\n",
       "      <td>NaN</td>\n",
       "      <td>2023-2026032</td>\n",
       "      <td>M620</td>\n",
       "      <td>2023-06-20 17:35:51</td>\n",
       "      <td>NaN</td>\n",
       "      <td>NaN</td>\n",
       "      <td>NaN</td>\n",
       "      <td>NaN</td>\n",
       "      <td>NaN</td>\n",
       "      <td>NaN</td>\n",
       "      <td>NaN</td>\n",
       "      <td>NaN</td>\n",
       "      <td>NaN</td>\n",
       "      <td>NaN</td>\n",
       "      <td>NaN</td>\n",
       "      <td>NaN</td>\n",
       "    </tr>\n",
       "    <tr>\n",
       "      <th>5</th>\n",
       "      <td>NaN</td>\n",
       "      <td>2023-2026085</td>\n",
       "      <td>G620</td>\n",
       "      <td>2023-06-22 20:22:36</td>\n",
       "      <td>NaN</td>\n",
       "      <td>NaN</td>\n",
       "      <td>NaN</td>\n",
       "      <td>NaN</td>\n",
       "      <td>NaN</td>\n",
       "      <td>NaN</td>\n",
       "      <td>NaN</td>\n",
       "      <td>NaN</td>\n",
       "      <td>NaN</td>\n",
       "      <td>NaN</td>\n",
       "      <td>NaN</td>\n",
       "      <td>NaN</td>\n",
       "    </tr>\n",
       "    <tr>\n",
       "      <th>6</th>\n",
       "      <td>NaN</td>\n",
       "      <td>2023-2026085</td>\n",
       "      <td>M620</td>\n",
       "      <td>2023-06-22 20:22:36</td>\n",
       "      <td>NaN</td>\n",
       "      <td>NaN</td>\n",
       "      <td>NaN</td>\n",
       "      <td>NaN</td>\n",
       "      <td>NaN</td>\n",
       "      <td>NaN</td>\n",
       "      <td>NaN</td>\n",
       "      <td>NaN</td>\n",
       "      <td>NaN</td>\n",
       "      <td>NaN</td>\n",
       "      <td>NaN</td>\n",
       "      <td>NaN</td>\n",
       "    </tr>\n",
       "    <tr>\n",
       "      <th>7</th>\n",
       "      <td>NaN</td>\n",
       "      <td>2023-2026098</td>\n",
       "      <td>G620</td>\n",
       "      <td>2023-06-23 20:40:34</td>\n",
       "      <td>NaN</td>\n",
       "      <td>NaN</td>\n",
       "      <td>NaN</td>\n",
       "      <td>NaN</td>\n",
       "      <td>NaN</td>\n",
       "      <td>NaN</td>\n",
       "      <td>NaN</td>\n",
       "      <td>NaN</td>\n",
       "      <td>NaN</td>\n",
       "      <td>NaN</td>\n",
       "      <td>NaN</td>\n",
       "      <td>NaN</td>\n",
       "    </tr>\n",
       "    <tr>\n",
       "      <th>8</th>\n",
       "      <td>NaN</td>\n",
       "      <td>2023-2026098</td>\n",
       "      <td>M620</td>\n",
       "      <td>2023-06-23 20:40:34</td>\n",
       "      <td>NaN</td>\n",
       "      <td>NaN</td>\n",
       "      <td>NaN</td>\n",
       "      <td>NaN</td>\n",
       "      <td>NaN</td>\n",
       "      <td>NaN</td>\n",
       "      <td>NaN</td>\n",
       "      <td>NaN</td>\n",
       "      <td>NaN</td>\n",
       "      <td>NaN</td>\n",
       "      <td>NaN</td>\n",
       "      <td>NaN</td>\n",
       "    </tr>\n",
       "    <tr>\n",
       "      <th>9</th>\n",
       "      <td>NaN</td>\n",
       "      <td>2023-2026162</td>\n",
       "      <td>G620</td>\n",
       "      <td>2023-06-28 07:31:41</td>\n",
       "      <td>NaN</td>\n",
       "      <td>NaN</td>\n",
       "      <td>NaN</td>\n",
       "      <td>NaN</td>\n",
       "      <td>NaN</td>\n",
       "      <td>NaN</td>\n",
       "      <td>NaN</td>\n",
       "      <td>NaN</td>\n",
       "      <td>NaN</td>\n",
       "      <td>NaN</td>\n",
       "      <td>NaN</td>\n",
       "      <td>NaN</td>\n",
       "    </tr>\n",
       "    <tr>\n",
       "      <th>10</th>\n",
       "      <td>NaN</td>\n",
       "      <td>2023-2026162</td>\n",
       "      <td>M620</td>\n",
       "      <td>2023-06-28 07:31:41</td>\n",
       "      <td>NaN</td>\n",
       "      <td>NaN</td>\n",
       "      <td>NaN</td>\n",
       "      <td>NaN</td>\n",
       "      <td>NaN</td>\n",
       "      <td>NaN</td>\n",
       "      <td>NaN</td>\n",
       "      <td>NaN</td>\n",
       "      <td>NaN</td>\n",
       "      <td>NaN</td>\n",
       "      <td>NaN</td>\n",
       "      <td>NaN</td>\n",
       "    </tr>\n",
       "    <tr>\n",
       "      <th>11</th>\n",
       "      <td>NaN</td>\n",
       "      <td>2023-2026162</td>\n",
       "      <td>G710</td>\n",
       "      <td>2023-06-28 08:16:42</td>\n",
       "      <td>NaN</td>\n",
       "      <td>NaN</td>\n",
       "      <td>NaN</td>\n",
       "      <td>NaN</td>\n",
       "      <td>NaN</td>\n",
       "      <td>NaN</td>\n",
       "      <td>NaN</td>\n",
       "      <td>NaN</td>\n",
       "      <td>NaN</td>\n",
       "      <td>NaN</td>\n",
       "      <td>NaN</td>\n",
       "      <td>NaN</td>\n",
       "    </tr>\n",
       "    <tr>\n",
       "      <th>12</th>\n",
       "      <td>NaN</td>\n",
       "      <td>2023-2026175</td>\n",
       "      <td>G620</td>\n",
       "      <td>2023-06-27 13:56:38</td>\n",
       "      <td>NaN</td>\n",
       "      <td>NaN</td>\n",
       "      <td>NaN</td>\n",
       "      <td>NaN</td>\n",
       "      <td>NaN</td>\n",
       "      <td>NaN</td>\n",
       "      <td>NaN</td>\n",
       "      <td>NaN</td>\n",
       "      <td>NaN</td>\n",
       "      <td>NaN</td>\n",
       "      <td>NaN</td>\n",
       "      <td>NaN</td>\n",
       "    </tr>\n",
       "    <tr>\n",
       "      <th>13</th>\n",
       "      <td>NaN</td>\n",
       "      <td>2023-2026175</td>\n",
       "      <td>M620</td>\n",
       "      <td>2023-06-27 13:56:38</td>\n",
       "      <td>NaN</td>\n",
       "      <td>NaN</td>\n",
       "      <td>NaN</td>\n",
       "      <td>NaN</td>\n",
       "      <td>NaN</td>\n",
       "      <td>NaN</td>\n",
       "      <td>NaN</td>\n",
       "      <td>NaN</td>\n",
       "      <td>NaN</td>\n",
       "      <td>NaN</td>\n",
       "      <td>NaN</td>\n",
       "      <td>NaN</td>\n",
       "    </tr>\n",
       "    <tr>\n",
       "      <th>14</th>\n",
       "      <td>NaN</td>\n",
       "      <td>2023-2026215</td>\n",
       "      <td>M644</td>\n",
       "      <td>2023-06-29 10:06:13</td>\n",
       "      <td>NaN</td>\n",
       "      <td>NaN</td>\n",
       "      <td>NaN</td>\n",
       "      <td>NaN</td>\n",
       "      <td>NaN</td>\n",
       "      <td>NaN</td>\n",
       "      <td>NaN</td>\n",
       "      <td>NaN</td>\n",
       "      <td>NaN</td>\n",
       "      <td>NaN</td>\n",
       "      <td>NaN</td>\n",
       "      <td>NaN</td>\n",
       "    </tr>\n",
       "    <tr>\n",
       "      <th>15</th>\n",
       "      <td>NaN</td>\n",
       "      <td>2023-2026215</td>\n",
       "      <td>G620</td>\n",
       "      <td>2023-06-29 10:31:31</td>\n",
       "      <td>NaN</td>\n",
       "      <td>NaN</td>\n",
       "      <td>NaN</td>\n",
       "      <td>NaN</td>\n",
       "      <td>NaN</td>\n",
       "      <td>NaN</td>\n",
       "      <td>NaN</td>\n",
       "      <td>NaN</td>\n",
       "      <td>NaN</td>\n",
       "      <td>NaN</td>\n",
       "      <td>NaN</td>\n",
       "      <td>NaN</td>\n",
       "    </tr>\n",
       "    <tr>\n",
       "      <th>16</th>\n",
       "      <td>NaN</td>\n",
       "      <td>2023-2026215</td>\n",
       "      <td>M620</td>\n",
       "      <td>2023-06-29 10:31:31</td>\n",
       "      <td>NaN</td>\n",
       "      <td>NaN</td>\n",
       "      <td>NaN</td>\n",
       "      <td>NaN</td>\n",
       "      <td>NaN</td>\n",
       "      <td>NaN</td>\n",
       "      <td>NaN</td>\n",
       "      <td>NaN</td>\n",
       "      <td>NaN</td>\n",
       "      <td>NaN</td>\n",
       "      <td>NaN</td>\n",
       "      <td>NaN</td>\n",
       "    </tr>\n",
       "    <tr>\n",
       "      <th>17</th>\n",
       "      <td>NaN</td>\n",
       "      <td>2023-2026291</td>\n",
       "      <td>G620</td>\n",
       "      <td>2023-06-22 18:23:52</td>\n",
       "      <td>NaN</td>\n",
       "      <td>NaN</td>\n",
       "      <td>NaN</td>\n",
       "      <td>NaN</td>\n",
       "      <td>NaN</td>\n",
       "      <td>NaN</td>\n",
       "      <td>NaN</td>\n",
       "      <td>NaN</td>\n",
       "      <td>NaN</td>\n",
       "      <td>NaN</td>\n",
       "      <td>NaN</td>\n",
       "      <td>NaN</td>\n",
       "    </tr>\n",
       "    <tr>\n",
       "      <th>18</th>\n",
       "      <td>NaN</td>\n",
       "      <td>2023-2026291</td>\n",
       "      <td>M620</td>\n",
       "      <td>2023-06-22 18:23:52</td>\n",
       "      <td>NaN</td>\n",
       "      <td>NaN</td>\n",
       "      <td>NaN</td>\n",
       "      <td>NaN</td>\n",
       "      <td>NaN</td>\n",
       "      <td>NaN</td>\n",
       "      <td>NaN</td>\n",
       "      <td>NaN</td>\n",
       "      <td>NaN</td>\n",
       "      <td>NaN</td>\n",
       "      <td>NaN</td>\n",
       "      <td>NaN</td>\n",
       "    </tr>\n",
       "    <tr>\n",
       "      <th>19</th>\n",
       "      <td>NaN</td>\n",
       "      <td>2023-2026304</td>\n",
       "      <td>G620</td>\n",
       "      <td>2023-06-26 07:04:52</td>\n",
       "      <td>NaN</td>\n",
       "      <td>NaN</td>\n",
       "      <td>NaN</td>\n",
       "      <td>NaN</td>\n",
       "      <td>NaN</td>\n",
       "      <td>NaN</td>\n",
       "      <td>NaN</td>\n",
       "      <td>NaN</td>\n",
       "      <td>NaN</td>\n",
       "      <td>NaN</td>\n",
       "      <td>NaN</td>\n",
       "      <td>NaN</td>\n",
       "    </tr>\n",
       "  </tbody>\n",
       "</table>\n",
       "</div>"
      ],
      "text/plain": [
       "    Unnamed: 0    Unnamed: 1 Unnamed: 2           Unnamed: 3 2023-4026002  \\\n",
       "0          NaN           KNR     STATUS                 DATA          NaN   \n",
       "1          NaN  2023-2016173       G620  2023-06-06 07:50:27          NaN   \n",
       "2          NaN  2023-2016173       M620  2023-06-06 07:50:27          NaN   \n",
       "3          NaN  2023-2026032       G620  2023-06-20 17:35:51          NaN   \n",
       "4          NaN  2023-2026032       M620  2023-06-20 17:35:51          NaN   \n",
       "5          NaN  2023-2026085       G620  2023-06-22 20:22:36          NaN   \n",
       "6          NaN  2023-2026085       M620  2023-06-22 20:22:36          NaN   \n",
       "7          NaN  2023-2026098       G620  2023-06-23 20:40:34          NaN   \n",
       "8          NaN  2023-2026098       M620  2023-06-23 20:40:34          NaN   \n",
       "9          NaN  2023-2026162       G620  2023-06-28 07:31:41          NaN   \n",
       "10         NaN  2023-2026162       M620  2023-06-28 07:31:41          NaN   \n",
       "11         NaN  2023-2026162       G710  2023-06-28 08:16:42          NaN   \n",
       "12         NaN  2023-2026175       G620  2023-06-27 13:56:38          NaN   \n",
       "13         NaN  2023-2026175       M620  2023-06-27 13:56:38          NaN   \n",
       "14         NaN  2023-2026215       M644  2023-06-29 10:06:13          NaN   \n",
       "15         NaN  2023-2026215       G620  2023-06-29 10:31:31          NaN   \n",
       "16         NaN  2023-2026215       M620  2023-06-29 10:31:31          NaN   \n",
       "17         NaN  2023-2026291       G620  2023-06-22 18:23:52          NaN   \n",
       "18         NaN  2023-2026291       M620  2023-06-22 18:23:52          NaN   \n",
       "19         NaN  2023-2026304       G620  2023-06-26 07:04:52          NaN   \n",
       "\n",
       "   R600 2023-09-29 07:14:44 2024-0346154 A600 2024-01-15 11:11:44  \\\n",
       "0   NaN                 NaN          NaN  NaN                 NaN   \n",
       "1   NaN                 NaN          NaN  NaN                 NaN   \n",
       "2   NaN                 NaN          NaN  NaN                 NaN   \n",
       "3   NaN                 NaN          NaN  NaN                 NaN   \n",
       "4   NaN                 NaN          NaN  NaN                 NaN   \n",
       "5   NaN                 NaN          NaN  NaN                 NaN   \n",
       "6   NaN                 NaN          NaN  NaN                 NaN   \n",
       "7   NaN                 NaN          NaN  NaN                 NaN   \n",
       "8   NaN                 NaN          NaN  NaN                 NaN   \n",
       "9   NaN                 NaN          NaN  NaN                 NaN   \n",
       "10  NaN                 NaN          NaN  NaN                 NaN   \n",
       "11  NaN                 NaN          NaN  NaN                 NaN   \n",
       "12  NaN                 NaN          NaN  NaN                 NaN   \n",
       "13  NaN                 NaN          NaN  NaN                 NaN   \n",
       "14  NaN                 NaN          NaN  NaN                 NaN   \n",
       "15  NaN                 NaN          NaN  NaN                 NaN   \n",
       "16  NaN                 NaN          NaN  NaN                 NaN   \n",
       "17  NaN                 NaN          NaN  NaN                 NaN   \n",
       "18  NaN                 NaN          NaN  NaN                 NaN   \n",
       "19  NaN                 NaN          NaN  NaN                 NaN   \n",
       "\n",
       "   2024-1556203 R800 2024-04-10 19:03:20 2024-2536233 G710 2024-06-14 17:36:53  \n",
       "0           NaN  NaN                 NaN          NaN  NaN                 NaN  \n",
       "1           NaN  NaN                 NaN          NaN  NaN                 NaN  \n",
       "2           NaN  NaN                 NaN          NaN  NaN                 NaN  \n",
       "3           NaN  NaN                 NaN          NaN  NaN                 NaN  \n",
       "4           NaN  NaN                 NaN          NaN  NaN                 NaN  \n",
       "5           NaN  NaN                 NaN          NaN  NaN                 NaN  \n",
       "6           NaN  NaN                 NaN          NaN  NaN                 NaN  \n",
       "7           NaN  NaN                 NaN          NaN  NaN                 NaN  \n",
       "8           NaN  NaN                 NaN          NaN  NaN                 NaN  \n",
       "9           NaN  NaN                 NaN          NaN  NaN                 NaN  \n",
       "10          NaN  NaN                 NaN          NaN  NaN                 NaN  \n",
       "11          NaN  NaN                 NaN          NaN  NaN                 NaN  \n",
       "12          NaN  NaN                 NaN          NaN  NaN                 NaN  \n",
       "13          NaN  NaN                 NaN          NaN  NaN                 NaN  \n",
       "14          NaN  NaN                 NaN          NaN  NaN                 NaN  \n",
       "15          NaN  NaN                 NaN          NaN  NaN                 NaN  \n",
       "16          NaN  NaN                 NaN          NaN  NaN                 NaN  \n",
       "17          NaN  NaN                 NaN          NaN  NaN                 NaN  \n",
       "18          NaN  NaN                 NaN          NaN  NaN                 NaN  \n",
       "19          NaN  NaN                 NaN          NaN  NaN                 NaN  "
      ]
     },
     "execution_count": 65,
     "metadata": {},
     "output_type": "execute_result"
    }
   ],
   "source": [
    "df_status.head(20)"
   ]
  },
  {
   "cell_type": "code",
   "execution_count": 66,
   "metadata": {},
   "outputs": [
    {
     "data": {
      "text/plain": [
       "Unnamed: 1\n",
       "2023-3896001    145\n",
       "2023-3546053    116\n",
       "2023-3536275    100\n",
       "2023-3556166     92\n",
       "2023-3536217     87\n",
       "               ... \n",
       "2023-2156024      2\n",
       "2023-2156023      2\n",
       "2023-2156022      2\n",
       "2023-2046372      1\n",
       "KNR               1\n",
       "Name: count, Length: 20429, dtype: int64"
      ]
     },
     "execution_count": 66,
     "metadata": {},
     "output_type": "execute_result"
    }
   ],
   "source": [
    "df_status['Unnamed: 1'].value_counts()"
   ]
  },
  {
   "cell_type": "code",
   "execution_count": 68,
   "metadata": {},
   "outputs": [
    {
     "name": "stdout",
     "output_type": "stream",
     "text": [
      "Número de KNRs de 2024: 0\n"
     ]
    }
   ],
   "source": [
    "count_starts_with_2024 = df_status['Unnamed: 1'].str.startswith('2024').sum()\n",
    "\n",
    "print(\"Número de KNRs de 2024:\", count_starts_with_2024)"
   ]
  },
  {
   "cell_type": "markdown",
   "metadata": {
    "jp-MarkdownHeadingCollapsed": true
   },
   "source": [
    "# Visualização de Dados - Tabela de Resultados_04_06_2024_full"
   ]
  },
  {
   "cell_type": "code",
   "execution_count": 77,
   "metadata": {},
   "outputs": [],
   "source": [
    "df_resultados = pd.read_csv('RESULTADOS_04_06_2024_full_teste.csv', compression=\"gzip\")"
   ]
  },
  {
   "cell_type": "code",
   "execution_count": 78,
   "metadata": {},
   "outputs": [],
   "source": [
    "df_resultados = pd.DataFrame(df_resultados)"
   ]
  },
  {
   "cell_type": "code",
   "execution_count": 79,
   "metadata": {},
   "outputs": [
    {
     "data": {
      "text/html": [
       "<div>\n",
       "<style scoped>\n",
       "    .dataframe tbody tr th:only-of-type {\n",
       "        vertical-align: middle;\n",
       "    }\n",
       "\n",
       "    .dataframe tbody tr th {\n",
       "        vertical-align: top;\n",
       "    }\n",
       "\n",
       "    .dataframe thead th {\n",
       "        text-align: right;\n",
       "    }\n",
       "</style>\n",
       "<table border=\"1\" class=\"dataframe\">\n",
       "  <thead>\n",
       "    <tr style=\"text-align: right;\">\n",
       "      <th></th>\n",
       "      <th>Unnamed: 0</th>\n",
       "      <th>KNR</th>\n",
       "      <th>NAME</th>\n",
       "      <th>ID</th>\n",
       "      <th>STATUS</th>\n",
       "      <th>UNIT</th>\n",
       "      <th>VALUE_ID</th>\n",
       "      <th>VALUE</th>\n",
       "      <th>DATA</th>\n",
       "    </tr>\n",
       "  </thead>\n",
       "  <tbody>\n",
       "    <tr>\n",
       "      <th>0</th>\n",
       "      <td>0</td>\n",
       "      <td>2023-2056234</td>\n",
       "      <td>012001</td>\n",
       "      <td>1</td>\n",
       "      <td>10</td>\n",
       "      <td>NaN</td>\n",
       "      <td>NaN</td>\n",
       "      <td>NaN</td>\n",
       "      <td>2024-05-16 13:41:25</td>\n",
       "    </tr>\n",
       "    <tr>\n",
       "      <th>1</th>\n",
       "      <td>1</td>\n",
       "      <td>2023-2056234</td>\n",
       "      <td>012002</td>\n",
       "      <td>1</td>\n",
       "      <td>10</td>\n",
       "      <td>NaN</td>\n",
       "      <td>NaN</td>\n",
       "      <td>NaN</td>\n",
       "      <td>2024-05-16 14:12:35</td>\n",
       "    </tr>\n",
       "    <tr>\n",
       "      <th>2</th>\n",
       "      <td>2</td>\n",
       "      <td>2023-2056234</td>\n",
       "      <td>012003</td>\n",
       "      <td>1</td>\n",
       "      <td>10</td>\n",
       "      <td>NaN</td>\n",
       "      <td>NaN</td>\n",
       "      <td>NaN</td>\n",
       "      <td>2024-05-16 14:12:27</td>\n",
       "    </tr>\n",
       "    <tr>\n",
       "      <th>3</th>\n",
       "      <td>3</td>\n",
       "      <td>2023-2056234</td>\n",
       "      <td>012004</td>\n",
       "      <td>1</td>\n",
       "      <td>10</td>\n",
       "      <td>NaN</td>\n",
       "      <td>NaN</td>\n",
       "      <td>NaN</td>\n",
       "      <td>2024-05-16 14:11:07</td>\n",
       "    </tr>\n",
       "    <tr>\n",
       "      <th>4</th>\n",
       "      <td>4</td>\n",
       "      <td>2023-2056234</td>\n",
       "      <td>012008</td>\n",
       "      <td>1</td>\n",
       "      <td>10</td>\n",
       "      <td>NaN</td>\n",
       "      <td>NaN</td>\n",
       "      <td>NaN</td>\n",
       "      <td>2024-05-16 14:13:07</td>\n",
       "    </tr>\n",
       "  </tbody>\n",
       "</table>\n",
       "</div>"
      ],
      "text/plain": [
       "   Unnamed: 0           KNR    NAME  ID  STATUS UNIT  VALUE_ID VALUE  \\\n",
       "0           0  2023-2056234  012001   1      10  NaN       NaN   NaN   \n",
       "1           1  2023-2056234  012002   1      10  NaN       NaN   NaN   \n",
       "2           2  2023-2056234  012003   1      10  NaN       NaN   NaN   \n",
       "3           3  2023-2056234  012004   1      10  NaN       NaN   NaN   \n",
       "4           4  2023-2056234  012008   1      10  NaN       NaN   NaN   \n",
       "\n",
       "                  DATA  \n",
       "0  2024-05-16 13:41:25  \n",
       "1  2024-05-16 14:12:35  \n",
       "2  2024-05-16 14:12:27  \n",
       "3  2024-05-16 14:11:07  \n",
       "4  2024-05-16 14:13:07  "
      ]
     },
     "execution_count": 79,
     "metadata": {},
     "output_type": "execute_result"
    }
   ],
   "source": [
    "df_resultados.head()"
   ]
  },
  {
   "cell_type": "code",
   "execution_count": 80,
   "metadata": {},
   "outputs": [
    {
     "name": "stdout",
     "output_type": "stream",
     "text": [
      "Número de KNRs de 2024: 21673378\n"
     ]
    }
   ],
   "source": [
    "count_starts_with_2024 = df_resultados['KNR'].str.startswith('2024').sum()\n",
    "\n",
    "print(\"Número de KNRs de 2024:\", count_starts_with_2024)"
   ]
  },
  {
   "cell_type": "code",
   "execution_count": 81,
   "metadata": {},
   "outputs": [
    {
     "name": "stdout",
     "output_type": "stream",
     "text": [
      "Número de KNRs de 2024: 874\n"
     ]
    }
   ],
   "source": [
    "count_starts_with_2023 = df_resultados['KNR'].str.startswith('2023').sum()\n",
    "\n",
    "print(\"Número de KNRs de 2024:\", count_starts_with_2023)"
   ]
  },
  {
   "cell_type": "code",
   "execution_count": null,
   "metadata": {},
   "outputs": [],
   "source": []
  }
 ],
 "metadata": {
  "colab": {
   "collapsed_sections": [
    "d6IuDRDP1LnR"
   ],
   "provenance": []
  },
  "kernelspec": {
   "display_name": "Python 3 (ipykernel)",
   "language": "python",
   "name": "python3"
  },
  "language_info": {
   "codemirror_mode": {
    "name": "ipython",
    "version": 3
   },
   "file_extension": ".py",
   "mimetype": "text/x-python",
   "name": "python",
   "nbconvert_exporter": "python",
   "pygments_lexer": "ipython3",
   "version": "3.11.1"
  },
  "widgets": {
   "application/vnd.jupyter.widget-state+json": {
    "0a7fb8c818d84a7c974f2de582020805": {
     "model_module": "@jupyter-widgets/controls",
     "model_module_version": "1.5.0",
     "model_name": "FloatProgressModel",
     "state": {
      "_dom_classes": [],
      "_model_module": "@jupyter-widgets/controls",
      "_model_module_version": "1.5.0",
      "_model_name": "FloatProgressModel",
      "_view_count": null,
      "_view_module": "@jupyter-widgets/controls",
      "_view_module_version": "1.5.0",
      "_view_name": "ProgressView",
      "bar_style": "success",
      "description": "",
      "description_tooltip": null,
      "layout": "IPY_MODEL_4e1cb93c4f0a43b5a9bf63b4452ddaf6",
      "max": 1,
      "min": 0,
      "orientation": "horizontal",
      "style": "IPY_MODEL_0d7ed50e21d94f3594e28dadfb76a139",
      "value": 1
     }
    },
    "0d7ed50e21d94f3594e28dadfb76a139": {
     "model_module": "@jupyter-widgets/controls",
     "model_module_version": "1.5.0",
     "model_name": "ProgressStyleModel",
     "state": {
      "_model_module": "@jupyter-widgets/controls",
      "_model_module_version": "1.5.0",
      "_model_name": "ProgressStyleModel",
      "_view_count": null,
      "_view_module": "@jupyter-widgets/base",
      "_view_module_version": "1.2.0",
      "_view_name": "StyleView",
      "bar_color": null,
      "description_width": ""
     }
    },
    "19f4097316f246d9896b782bca632847": {
     "model_module": "@jupyter-widgets/base",
     "model_module_version": "1.2.0",
     "model_name": "LayoutModel",
     "state": {
      "_model_module": "@jupyter-widgets/base",
      "_model_module_version": "1.2.0",
      "_model_name": "LayoutModel",
      "_view_count": null,
      "_view_module": "@jupyter-widgets/base",
      "_view_module_version": "1.2.0",
      "_view_name": "LayoutView",
      "align_content": null,
      "align_items": null,
      "align_self": null,
      "border": null,
      "bottom": null,
      "display": null,
      "flex": null,
      "flex_flow": null,
      "grid_area": null,
      "grid_auto_columns": null,
      "grid_auto_flow": null,
      "grid_auto_rows": null,
      "grid_column": null,
      "grid_gap": null,
      "grid_row": null,
      "grid_template_areas": null,
      "grid_template_columns": null,
      "grid_template_rows": null,
      "height": null,
      "justify_content": null,
      "justify_items": null,
      "left": null,
      "margin": null,
      "max_height": null,
      "max_width": null,
      "min_height": null,
      "min_width": null,
      "object_fit": null,
      "object_position": null,
      "order": null,
      "overflow": null,
      "overflow_x": null,
      "overflow_y": null,
      "padding": null,
      "right": null,
      "top": null,
      "visibility": null,
      "width": null
     }
    },
    "1d46a92528934a32b3fa2ae4e72fdb11": {
     "model_module": "@jupyter-widgets/controls",
     "model_module_version": "1.5.0",
     "model_name": "DescriptionStyleModel",
     "state": {
      "_model_module": "@jupyter-widgets/controls",
      "_model_module_version": "1.5.0",
      "_model_name": "DescriptionStyleModel",
      "_view_count": null,
      "_view_module": "@jupyter-widgets/base",
      "_view_module_version": "1.2.0",
      "_view_name": "StyleView",
      "description_width": ""
     }
    },
    "1da341817c9d434dbfd7791c03796a40": {
     "model_module": "@jupyter-widgets/controls",
     "model_module_version": "1.5.0",
     "model_name": "HTMLModel",
     "state": {
      "_dom_classes": [],
      "_model_module": "@jupyter-widgets/controls",
      "_model_module_version": "1.5.0",
      "_model_name": "HTMLModel",
      "_view_count": null,
      "_view_module": "@jupyter-widgets/controls",
      "_view_module_version": "1.5.0",
      "_view_name": "HTMLView",
      "description": "",
      "description_tooltip": null,
      "layout": "IPY_MODEL_e509965d1d24417e9fe9cb001c99c40c",
      "placeholder": "​",
      "style": "IPY_MODEL_8b21a71cfae24fda8860dbb0af4e7504",
      "value": "Summarize dataset: 100%"
     }
    },
    "2a637286f395487aa1290416450fc362": {
     "model_module": "@jupyter-widgets/controls",
     "model_module_version": "1.5.0",
     "model_name": "HTMLModel",
     "state": {
      "_dom_classes": [],
      "_model_module": "@jupyter-widgets/controls",
      "_model_module_version": "1.5.0",
      "_model_name": "HTMLModel",
      "_view_count": null,
      "_view_module": "@jupyter-widgets/controls",
      "_view_module_version": "1.5.0",
      "_view_name": "HTMLView",
      "description": "",
      "description_tooltip": null,
      "layout": "IPY_MODEL_a7e4306f568a49cd8b7d12e9c945f146",
      "placeholder": "​",
      "style": "IPY_MODEL_31db749b06364a62a229381f31905f17",
      "value": " 1/1 [00:00&lt;00:00,  1.24it/s]"
     }
    },
    "2cb337df67ef43baa4ce82a5e359f275": {
     "model_module": "@jupyter-widgets/base",
     "model_module_version": "1.2.0",
     "model_name": "LayoutModel",
     "state": {
      "_model_module": "@jupyter-widgets/base",
      "_model_module_version": "1.2.0",
      "_model_name": "LayoutModel",
      "_view_count": null,
      "_view_module": "@jupyter-widgets/base",
      "_view_module_version": "1.2.0",
      "_view_name": "LayoutView",
      "align_content": null,
      "align_items": null,
      "align_self": null,
      "border": null,
      "bottom": null,
      "display": null,
      "flex": null,
      "flex_flow": null,
      "grid_area": null,
      "grid_auto_columns": null,
      "grid_auto_flow": null,
      "grid_auto_rows": null,
      "grid_column": null,
      "grid_gap": null,
      "grid_row": null,
      "grid_template_areas": null,
      "grid_template_columns": null,
      "grid_template_rows": null,
      "height": null,
      "justify_content": null,
      "justify_items": null,
      "left": null,
      "margin": null,
      "max_height": null,
      "max_width": null,
      "min_height": null,
      "min_width": null,
      "object_fit": null,
      "object_position": null,
      "order": null,
      "overflow": null,
      "overflow_x": null,
      "overflow_y": null,
      "padding": null,
      "right": null,
      "top": null,
      "visibility": null,
      "width": null
     }
    },
    "30087e05512744cc81a6b73840c7320a": {
     "model_module": "@jupyter-widgets/controls",
     "model_module_version": "1.5.0",
     "model_name": "DescriptionStyleModel",
     "state": {
      "_model_module": "@jupyter-widgets/controls",
      "_model_module_version": "1.5.0",
      "_model_name": "DescriptionStyleModel",
      "_view_count": null,
      "_view_module": "@jupyter-widgets/base",
      "_view_module_version": "1.2.0",
      "_view_name": "StyleView",
      "description_width": ""
     }
    },
    "31db749b06364a62a229381f31905f17": {
     "model_module": "@jupyter-widgets/controls",
     "model_module_version": "1.5.0",
     "model_name": "DescriptionStyleModel",
     "state": {
      "_model_module": "@jupyter-widgets/controls",
      "_model_module_version": "1.5.0",
      "_model_name": "DescriptionStyleModel",
      "_view_count": null,
      "_view_module": "@jupyter-widgets/base",
      "_view_module_version": "1.2.0",
      "_view_name": "StyleView",
      "description_width": ""
     }
    },
    "35c16632e76c4789bf9055fc858dc85d": {
     "model_module": "@jupyter-widgets/controls",
     "model_module_version": "1.5.0",
     "model_name": "ProgressStyleModel",
     "state": {
      "_model_module": "@jupyter-widgets/controls",
      "_model_module_version": "1.5.0",
      "_model_name": "ProgressStyleModel",
      "_view_count": null,
      "_view_module": "@jupyter-widgets/base",
      "_view_module_version": "1.2.0",
      "_view_name": "StyleView",
      "bar_color": null,
      "description_width": ""
     }
    },
    "4069da5eb54b419e8b44a8e2eda2b3f9": {
     "model_module": "@jupyter-widgets/base",
     "model_module_version": "1.2.0",
     "model_name": "LayoutModel",
     "state": {
      "_model_module": "@jupyter-widgets/base",
      "_model_module_version": "1.2.0",
      "_model_name": "LayoutModel",
      "_view_count": null,
      "_view_module": "@jupyter-widgets/base",
      "_view_module_version": "1.2.0",
      "_view_name": "LayoutView",
      "align_content": null,
      "align_items": null,
      "align_self": null,
      "border": null,
      "bottom": null,
      "display": null,
      "flex": null,
      "flex_flow": null,
      "grid_area": null,
      "grid_auto_columns": null,
      "grid_auto_flow": null,
      "grid_auto_rows": null,
      "grid_column": null,
      "grid_gap": null,
      "grid_row": null,
      "grid_template_areas": null,
      "grid_template_columns": null,
      "grid_template_rows": null,
      "height": null,
      "justify_content": null,
      "justify_items": null,
      "left": null,
      "margin": null,
      "max_height": null,
      "max_width": null,
      "min_height": null,
      "min_width": null,
      "object_fit": null,
      "object_position": null,
      "order": null,
      "overflow": null,
      "overflow_x": null,
      "overflow_y": null,
      "padding": null,
      "right": null,
      "top": null,
      "visibility": null,
      "width": null
     }
    },
    "4e1cb93c4f0a43b5a9bf63b4452ddaf6": {
     "model_module": "@jupyter-widgets/base",
     "model_module_version": "1.2.0",
     "model_name": "LayoutModel",
     "state": {
      "_model_module": "@jupyter-widgets/base",
      "_model_module_version": "1.2.0",
      "_model_name": "LayoutModel",
      "_view_count": null,
      "_view_module": "@jupyter-widgets/base",
      "_view_module_version": "1.2.0",
      "_view_name": "LayoutView",
      "align_content": null,
      "align_items": null,
      "align_self": null,
      "border": null,
      "bottom": null,
      "display": null,
      "flex": null,
      "flex_flow": null,
      "grid_area": null,
      "grid_auto_columns": null,
      "grid_auto_flow": null,
      "grid_auto_rows": null,
      "grid_column": null,
      "grid_gap": null,
      "grid_row": null,
      "grid_template_areas": null,
      "grid_template_columns": null,
      "grid_template_rows": null,
      "height": null,
      "justify_content": null,
      "justify_items": null,
      "left": null,
      "margin": null,
      "max_height": null,
      "max_width": null,
      "min_height": null,
      "min_width": null,
      "object_fit": null,
      "object_position": null,
      "order": null,
      "overflow": null,
      "overflow_x": null,
      "overflow_y": null,
      "padding": null,
      "right": null,
      "top": null,
      "visibility": null,
      "width": null
     }
    },
    "5e434828f9424dc2ab1c04ed4efd63ea": {
     "model_module": "@jupyter-widgets/controls",
     "model_module_version": "1.5.0",
     "model_name": "HTMLModel",
     "state": {
      "_dom_classes": [],
      "_model_module": "@jupyter-widgets/controls",
      "_model_module_version": "1.5.0",
      "_model_name": "HTMLModel",
      "_view_count": null,
      "_view_module": "@jupyter-widgets/controls",
      "_view_module_version": "1.5.0",
      "_view_name": "HTMLView",
      "description": "",
      "description_tooltip": null,
      "layout": "IPY_MODEL_4069da5eb54b419e8b44a8e2eda2b3f9",
      "placeholder": "​",
      "style": "IPY_MODEL_1d46a92528934a32b3fa2ae4e72fdb11",
      "value": "Generate report structure: 100%"
     }
    },
    "5f46bcbc860d49809b83fe31168fb169": {
     "model_module": "@jupyter-widgets/controls",
     "model_module_version": "1.5.0",
     "model_name": "HTMLModel",
     "state": {
      "_dom_classes": [],
      "_model_module": "@jupyter-widgets/controls",
      "_model_module_version": "1.5.0",
      "_model_name": "HTMLModel",
      "_view_count": null,
      "_view_module": "@jupyter-widgets/controls",
      "_view_module_version": "1.5.0",
      "_view_name": "HTMLView",
      "description": "",
      "description_tooltip": null,
      "layout": "IPY_MODEL_f6ee869a445d47ac96e41b147ea03c1f",
      "placeholder": "​",
      "style": "IPY_MODEL_30087e05512744cc81a6b73840c7320a",
      "value": " 1/1 [00:11&lt;00:00, 11.39s/it]"
     }
    },
    "601ec49067f848e39b2aa9c664b282ea": {
     "model_module": "@jupyter-widgets/base",
     "model_module_version": "1.2.0",
     "model_name": "LayoutModel",
     "state": {
      "_model_module": "@jupyter-widgets/base",
      "_model_module_version": "1.2.0",
      "_model_name": "LayoutModel",
      "_view_count": null,
      "_view_module": "@jupyter-widgets/base",
      "_view_module_version": "1.2.0",
      "_view_name": "LayoutView",
      "align_content": null,
      "align_items": null,
      "align_self": null,
      "border": null,
      "bottom": null,
      "display": null,
      "flex": null,
      "flex_flow": null,
      "grid_area": null,
      "grid_auto_columns": null,
      "grid_auto_flow": null,
      "grid_auto_rows": null,
      "grid_column": null,
      "grid_gap": null,
      "grid_row": null,
      "grid_template_areas": null,
      "grid_template_columns": null,
      "grid_template_rows": null,
      "height": null,
      "justify_content": null,
      "justify_items": null,
      "left": null,
      "margin": null,
      "max_height": null,
      "max_width": null,
      "min_height": null,
      "min_width": null,
      "object_fit": null,
      "object_position": null,
      "order": null,
      "overflow": null,
      "overflow_x": null,
      "overflow_y": null,
      "padding": null,
      "right": null,
      "top": null,
      "visibility": null,
      "width": null
     }
    },
    "6b68df25d1974aad85afdf4295969e38": {
     "model_module": "@jupyter-widgets/controls",
     "model_module_version": "1.5.0",
     "model_name": "DescriptionStyleModel",
     "state": {
      "_model_module": "@jupyter-widgets/controls",
      "_model_module_version": "1.5.0",
      "_model_name": "DescriptionStyleModel",
      "_view_count": null,
      "_view_module": "@jupyter-widgets/base",
      "_view_module_version": "1.2.0",
      "_view_name": "StyleView",
      "description_width": ""
     }
    },
    "709103903a054c358c364349d7f29672": {
     "model_module": "@jupyter-widgets/controls",
     "model_module_version": "1.5.0",
     "model_name": "FloatProgressModel",
     "state": {
      "_dom_classes": [],
      "_model_module": "@jupyter-widgets/controls",
      "_model_module_version": "1.5.0",
      "_model_name": "FloatProgressModel",
      "_view_count": null,
      "_view_module": "@jupyter-widgets/controls",
      "_view_module_version": "1.5.0",
      "_view_name": "ProgressView",
      "bar_style": "success",
      "description": "",
      "description_tooltip": null,
      "layout": "IPY_MODEL_9d6ce68cfcd54fcb8e04b3c9560906bf",
      "max": 1,
      "min": 0,
      "orientation": "horizontal",
      "style": "IPY_MODEL_ff8dad61507b4034956ec0c7f5ca07d3",
      "value": 1
     }
    },
    "7513b9ce7d2c440ab7aa856ec7a32725": {
     "model_module": "@jupyter-widgets/controls",
     "model_module_version": "1.5.0",
     "model_name": "HTMLModel",
     "state": {
      "_dom_classes": [],
      "_model_module": "@jupyter-widgets/controls",
      "_model_module_version": "1.5.0",
      "_model_name": "HTMLModel",
      "_view_count": null,
      "_view_module": "@jupyter-widgets/controls",
      "_view_module_version": "1.5.0",
      "_view_name": "HTMLView",
      "description": "",
      "description_tooltip": null,
      "layout": "IPY_MODEL_2cb337df67ef43baa4ce82a5e359f275",
      "placeholder": "​",
      "style": "IPY_MODEL_6b68df25d1974aad85afdf4295969e38",
      "value": " 20/20 [01:17&lt;00:00,  2.27s/it, Completed]"
     }
    },
    "7774e863eb114fe7bccb84fb56895ce8": {
     "model_module": "@jupyter-widgets/controls",
     "model_module_version": "1.5.0",
     "model_name": "HBoxModel",
     "state": {
      "_dom_classes": [],
      "_model_module": "@jupyter-widgets/controls",
      "_model_module_version": "1.5.0",
      "_model_name": "HBoxModel",
      "_view_count": null,
      "_view_module": "@jupyter-widgets/controls",
      "_view_module_version": "1.5.0",
      "_view_name": "HBoxView",
      "box_style": "",
      "children": [
       "IPY_MODEL_1da341817c9d434dbfd7791c03796a40",
       "IPY_MODEL_7fbdac9e6dca479391dd3f9f95daccf4",
       "IPY_MODEL_7513b9ce7d2c440ab7aa856ec7a32725"
      ],
      "layout": "IPY_MODEL_bf533db0159d463c898020fac6fe3586"
     }
    },
    "7e3fd10f309240f1a5e1aca79c99c1fe": {
     "model_module": "@jupyter-widgets/controls",
     "model_module_version": "1.5.0",
     "model_name": "HBoxModel",
     "state": {
      "_dom_classes": [],
      "_model_module": "@jupyter-widgets/controls",
      "_model_module_version": "1.5.0",
      "_model_name": "HBoxModel",
      "_view_count": null,
      "_view_module": "@jupyter-widgets/controls",
      "_view_module_version": "1.5.0",
      "_view_name": "HBoxView",
      "box_style": "",
      "children": [
       "IPY_MODEL_9e8cc05d0cf442df9ff9ddb6f0d23a2a",
       "IPY_MODEL_709103903a054c358c364349d7f29672",
       "IPY_MODEL_2a637286f395487aa1290416450fc362"
      ],
      "layout": "IPY_MODEL_19f4097316f246d9896b782bca632847"
     }
    },
    "7fbdac9e6dca479391dd3f9f95daccf4": {
     "model_module": "@jupyter-widgets/controls",
     "model_module_version": "1.5.0",
     "model_name": "FloatProgressModel",
     "state": {
      "_dom_classes": [],
      "_model_module": "@jupyter-widgets/controls",
      "_model_module_version": "1.5.0",
      "_model_name": "FloatProgressModel",
      "_view_count": null,
      "_view_module": "@jupyter-widgets/controls",
      "_view_module_version": "1.5.0",
      "_view_name": "ProgressView",
      "bar_style": "success",
      "description": "",
      "description_tooltip": null,
      "layout": "IPY_MODEL_601ec49067f848e39b2aa9c664b282ea",
      "max": 5,
      "min": 0,
      "orientation": "horizontal",
      "style": "IPY_MODEL_35c16632e76c4789bf9055fc858dc85d",
      "value": 5
     }
    },
    "828d52b87961477387e112490c0d9832": {
     "model_module": "@jupyter-widgets/base",
     "model_module_version": "1.2.0",
     "model_name": "LayoutModel",
     "state": {
      "_model_module": "@jupyter-widgets/base",
      "_model_module_version": "1.2.0",
      "_model_name": "LayoutModel",
      "_view_count": null,
      "_view_module": "@jupyter-widgets/base",
      "_view_module_version": "1.2.0",
      "_view_name": "LayoutView",
      "align_content": null,
      "align_items": null,
      "align_self": null,
      "border": null,
      "bottom": null,
      "display": null,
      "flex": null,
      "flex_flow": null,
      "grid_area": null,
      "grid_auto_columns": null,
      "grid_auto_flow": null,
      "grid_auto_rows": null,
      "grid_column": null,
      "grid_gap": null,
      "grid_row": null,
      "grid_template_areas": null,
      "grid_template_columns": null,
      "grid_template_rows": null,
      "height": null,
      "justify_content": null,
      "justify_items": null,
      "left": null,
      "margin": null,
      "max_height": null,
      "max_width": null,
      "min_height": null,
      "min_width": null,
      "object_fit": null,
      "object_position": null,
      "order": null,
      "overflow": null,
      "overflow_x": null,
      "overflow_y": null,
      "padding": null,
      "right": null,
      "top": null,
      "visibility": null,
      "width": null
     }
    },
    "8b21a71cfae24fda8860dbb0af4e7504": {
     "model_module": "@jupyter-widgets/controls",
     "model_module_version": "1.5.0",
     "model_name": "DescriptionStyleModel",
     "state": {
      "_model_module": "@jupyter-widgets/controls",
      "_model_module_version": "1.5.0",
      "_model_name": "DescriptionStyleModel",
      "_view_count": null,
      "_view_module": "@jupyter-widgets/base",
      "_view_module_version": "1.2.0",
      "_view_name": "StyleView",
      "description_width": ""
     }
    },
    "9d6ce68cfcd54fcb8e04b3c9560906bf": {
     "model_module": "@jupyter-widgets/base",
     "model_module_version": "1.2.0",
     "model_name": "LayoutModel",
     "state": {
      "_model_module": "@jupyter-widgets/base",
      "_model_module_version": "1.2.0",
      "_model_name": "LayoutModel",
      "_view_count": null,
      "_view_module": "@jupyter-widgets/base",
      "_view_module_version": "1.2.0",
      "_view_name": "LayoutView",
      "align_content": null,
      "align_items": null,
      "align_self": null,
      "border": null,
      "bottom": null,
      "display": null,
      "flex": null,
      "flex_flow": null,
      "grid_area": null,
      "grid_auto_columns": null,
      "grid_auto_flow": null,
      "grid_auto_rows": null,
      "grid_column": null,
      "grid_gap": null,
      "grid_row": null,
      "grid_template_areas": null,
      "grid_template_columns": null,
      "grid_template_rows": null,
      "height": null,
      "justify_content": null,
      "justify_items": null,
      "left": null,
      "margin": null,
      "max_height": null,
      "max_width": null,
      "min_height": null,
      "min_width": null,
      "object_fit": null,
      "object_position": null,
      "order": null,
      "overflow": null,
      "overflow_x": null,
      "overflow_y": null,
      "padding": null,
      "right": null,
      "top": null,
      "visibility": null,
      "width": null
     }
    },
    "9e8cc05d0cf442df9ff9ddb6f0d23a2a": {
     "model_module": "@jupyter-widgets/controls",
     "model_module_version": "1.5.0",
     "model_name": "HTMLModel",
     "state": {
      "_dom_classes": [],
      "_model_module": "@jupyter-widgets/controls",
      "_model_module_version": "1.5.0",
      "_model_name": "HTMLModel",
      "_view_count": null,
      "_view_module": "@jupyter-widgets/controls",
      "_view_module_version": "1.5.0",
      "_view_name": "HTMLView",
      "description": "",
      "description_tooltip": null,
      "layout": "IPY_MODEL_828d52b87961477387e112490c0d9832",
      "placeholder": "​",
      "style": "IPY_MODEL_af1b5b27a0b049a88e822d486347b6ec",
      "value": "Render HTML: 100%"
     }
    },
    "a7e4306f568a49cd8b7d12e9c945f146": {
     "model_module": "@jupyter-widgets/base",
     "model_module_version": "1.2.0",
     "model_name": "LayoutModel",
     "state": {
      "_model_module": "@jupyter-widgets/base",
      "_model_module_version": "1.2.0",
      "_model_name": "LayoutModel",
      "_view_count": null,
      "_view_module": "@jupyter-widgets/base",
      "_view_module_version": "1.2.0",
      "_view_name": "LayoutView",
      "align_content": null,
      "align_items": null,
      "align_self": null,
      "border": null,
      "bottom": null,
      "display": null,
      "flex": null,
      "flex_flow": null,
      "grid_area": null,
      "grid_auto_columns": null,
      "grid_auto_flow": null,
      "grid_auto_rows": null,
      "grid_column": null,
      "grid_gap": null,
      "grid_row": null,
      "grid_template_areas": null,
      "grid_template_columns": null,
      "grid_template_rows": null,
      "height": null,
      "justify_content": null,
      "justify_items": null,
      "left": null,
      "margin": null,
      "max_height": null,
      "max_width": null,
      "min_height": null,
      "min_width": null,
      "object_fit": null,
      "object_position": null,
      "order": null,
      "overflow": null,
      "overflow_x": null,
      "overflow_y": null,
      "padding": null,
      "right": null,
      "top": null,
      "visibility": null,
      "width": null
     }
    },
    "af1b5b27a0b049a88e822d486347b6ec": {
     "model_module": "@jupyter-widgets/controls",
     "model_module_version": "1.5.0",
     "model_name": "DescriptionStyleModel",
     "state": {
      "_model_module": "@jupyter-widgets/controls",
      "_model_module_version": "1.5.0",
      "_model_name": "DescriptionStyleModel",
      "_view_count": null,
      "_view_module": "@jupyter-widgets/base",
      "_view_module_version": "1.2.0",
      "_view_name": "StyleView",
      "description_width": ""
     }
    },
    "bf533db0159d463c898020fac6fe3586": {
     "model_module": "@jupyter-widgets/base",
     "model_module_version": "1.2.0",
     "model_name": "LayoutModel",
     "state": {
      "_model_module": "@jupyter-widgets/base",
      "_model_module_version": "1.2.0",
      "_model_name": "LayoutModel",
      "_view_count": null,
      "_view_module": "@jupyter-widgets/base",
      "_view_module_version": "1.2.0",
      "_view_name": "LayoutView",
      "align_content": null,
      "align_items": null,
      "align_self": null,
      "border": null,
      "bottom": null,
      "display": null,
      "flex": null,
      "flex_flow": null,
      "grid_area": null,
      "grid_auto_columns": null,
      "grid_auto_flow": null,
      "grid_auto_rows": null,
      "grid_column": null,
      "grid_gap": null,
      "grid_row": null,
      "grid_template_areas": null,
      "grid_template_columns": null,
      "grid_template_rows": null,
      "height": null,
      "justify_content": null,
      "justify_items": null,
      "left": null,
      "margin": null,
      "max_height": null,
      "max_width": null,
      "min_height": null,
      "min_width": null,
      "object_fit": null,
      "object_position": null,
      "order": null,
      "overflow": null,
      "overflow_x": null,
      "overflow_y": null,
      "padding": null,
      "right": null,
      "top": null,
      "visibility": null,
      "width": null
     }
    },
    "cafc0b8e4cc841448fb79b2fe8b07ffb": {
     "model_module": "@jupyter-widgets/controls",
     "model_module_version": "1.5.0",
     "model_name": "HBoxModel",
     "state": {
      "_dom_classes": [],
      "_model_module": "@jupyter-widgets/controls",
      "_model_module_version": "1.5.0",
      "_model_name": "HBoxModel",
      "_view_count": null,
      "_view_module": "@jupyter-widgets/controls",
      "_view_module_version": "1.5.0",
      "_view_name": "HBoxView",
      "box_style": "",
      "children": [
       "IPY_MODEL_5e434828f9424dc2ab1c04ed4efd63ea",
       "IPY_MODEL_0a7fb8c818d84a7c974f2de582020805",
       "IPY_MODEL_5f46bcbc860d49809b83fe31168fb169"
      ],
      "layout": "IPY_MODEL_e3230eb2514d49d5a957b77882b96134"
     }
    },
    "e3230eb2514d49d5a957b77882b96134": {
     "model_module": "@jupyter-widgets/base",
     "model_module_version": "1.2.0",
     "model_name": "LayoutModel",
     "state": {
      "_model_module": "@jupyter-widgets/base",
      "_model_module_version": "1.2.0",
      "_model_name": "LayoutModel",
      "_view_count": null,
      "_view_module": "@jupyter-widgets/base",
      "_view_module_version": "1.2.0",
      "_view_name": "LayoutView",
      "align_content": null,
      "align_items": null,
      "align_self": null,
      "border": null,
      "bottom": null,
      "display": null,
      "flex": null,
      "flex_flow": null,
      "grid_area": null,
      "grid_auto_columns": null,
      "grid_auto_flow": null,
      "grid_auto_rows": null,
      "grid_column": null,
      "grid_gap": null,
      "grid_row": null,
      "grid_template_areas": null,
      "grid_template_columns": null,
      "grid_template_rows": null,
      "height": null,
      "justify_content": null,
      "justify_items": null,
      "left": null,
      "margin": null,
      "max_height": null,
      "max_width": null,
      "min_height": null,
      "min_width": null,
      "object_fit": null,
      "object_position": null,
      "order": null,
      "overflow": null,
      "overflow_x": null,
      "overflow_y": null,
      "padding": null,
      "right": null,
      "top": null,
      "visibility": null,
      "width": null
     }
    },
    "e509965d1d24417e9fe9cb001c99c40c": {
     "model_module": "@jupyter-widgets/base",
     "model_module_version": "1.2.0",
     "model_name": "LayoutModel",
     "state": {
      "_model_module": "@jupyter-widgets/base",
      "_model_module_version": "1.2.0",
      "_model_name": "LayoutModel",
      "_view_count": null,
      "_view_module": "@jupyter-widgets/base",
      "_view_module_version": "1.2.0",
      "_view_name": "LayoutView",
      "align_content": null,
      "align_items": null,
      "align_self": null,
      "border": null,
      "bottom": null,
      "display": null,
      "flex": null,
      "flex_flow": null,
      "grid_area": null,
      "grid_auto_columns": null,
      "grid_auto_flow": null,
      "grid_auto_rows": null,
      "grid_column": null,
      "grid_gap": null,
      "grid_row": null,
      "grid_template_areas": null,
      "grid_template_columns": null,
      "grid_template_rows": null,
      "height": null,
      "justify_content": null,
      "justify_items": null,
      "left": null,
      "margin": null,
      "max_height": null,
      "max_width": null,
      "min_height": null,
      "min_width": null,
      "object_fit": null,
      "object_position": null,
      "order": null,
      "overflow": null,
      "overflow_x": null,
      "overflow_y": null,
      "padding": null,
      "right": null,
      "top": null,
      "visibility": null,
      "width": null
     }
    },
    "f6ee869a445d47ac96e41b147ea03c1f": {
     "model_module": "@jupyter-widgets/base",
     "model_module_version": "1.2.0",
     "model_name": "LayoutModel",
     "state": {
      "_model_module": "@jupyter-widgets/base",
      "_model_module_version": "1.2.0",
      "_model_name": "LayoutModel",
      "_view_count": null,
      "_view_module": "@jupyter-widgets/base",
      "_view_module_version": "1.2.0",
      "_view_name": "LayoutView",
      "align_content": null,
      "align_items": null,
      "align_self": null,
      "border": null,
      "bottom": null,
      "display": null,
      "flex": null,
      "flex_flow": null,
      "grid_area": null,
      "grid_auto_columns": null,
      "grid_auto_flow": null,
      "grid_auto_rows": null,
      "grid_column": null,
      "grid_gap": null,
      "grid_row": null,
      "grid_template_areas": null,
      "grid_template_columns": null,
      "grid_template_rows": null,
      "height": null,
      "justify_content": null,
      "justify_items": null,
      "left": null,
      "margin": null,
      "max_height": null,
      "max_width": null,
      "min_height": null,
      "min_width": null,
      "object_fit": null,
      "object_position": null,
      "order": null,
      "overflow": null,
      "overflow_x": null,
      "overflow_y": null,
      "padding": null,
      "right": null,
      "top": null,
      "visibility": null,
      "width": null
     }
    },
    "ff8dad61507b4034956ec0c7f5ca07d3": {
     "model_module": "@jupyter-widgets/controls",
     "model_module_version": "1.5.0",
     "model_name": "ProgressStyleModel",
     "state": {
      "_model_module": "@jupyter-widgets/controls",
      "_model_module_version": "1.5.0",
      "_model_name": "ProgressStyleModel",
      "_view_count": null,
      "_view_module": "@jupyter-widgets/base",
      "_view_module_version": "1.2.0",
      "_view_name": "StyleView",
      "bar_color": null,
      "description_width": ""
     }
    }
   }
  }
 },
 "nbformat": 4,
 "nbformat_minor": 4
}
